{
 "cells": [
  {
   "cell_type": "markdown",
   "metadata": {},
   "source": [
    "# Métodos de pré-processamento de dados com Scikit-Learn - Parte 2"
   ]
  },
  {
   "cell_type": "markdown",
   "metadata": {},
   "source": [
    "Às vezes pode ser difícil encontrar o caminho pela floresta de técnicas de pré-processamento. Sklearn sua biblioteca de pré-processamento forma uma base sólida para orientá-lo nesta importante tarefa no pipeline de ciência de dados. Embora o Sklearn tenha uma documentação bastante sólida, muitas vezes ele perde a agilidade e a intuição entre os diferentes conceitos."
   ]
  },
  {
   "cell_type": "markdown",
   "metadata": {},
   "source": [
    "Serão tratados os seguintes assuntos:<br>\n",
    "•\tMissing values<br>\n",
    "•\tPolynomial features<br>\n",
    "•\tCategorical features<br>\n",
    "•\tNumerical features<br>\n",
    "•\tCustom transformations<br>\n",
    "•\tFeature scaling<br>\n",
    "•\tNormalization<br>\n",
    "Observe que as etapas três e quatro podem ser executadas de forma intercambiável, pois essas transformações devem ser executadas independentemente umas das outras."
   ]
  },
  {
   "cell_type": "markdown",
   "metadata": {},
   "source": [
    "#### 1. Missing values"
   ]
  },
  {
   "cell_type": "markdown",
   "metadata": {},
   "source": [
    "A manipulação de valores ausentes é uma tarefa essencial de pré-processamento que pode deteriorar drasticamente seu modelo quando não realizada com cuidado suficiente. Algumas perguntas devem surgir ao lidar com valores ausentes:\n",
    "Tenho valores ausentes? Como eles são expressos nos dados? Devo reter amostras com valores ausentes? Ou devo substituí-los? Em caso afirmativo, por quais valores eles devem ser substituídos?<br>\n",
    "Antes de começar a lidar com valores ausentes, é importante identificar os valores ausentes e saber com qual valor eles são substituídos. Você deve conseguir descobrir isso combinando as informações de metadados com a análise exploratória.<br>\n",
    "Depois de saber um pouco mais sobre os dados ausentes, você deve decidir se deseja ou não manter as entradas com dados ausentes. De acordo com Chris Albon (Machine Learning with Python Cookbook), essa decisão deve depender parcialmente de quão aleatórios são os valores ausentes.<br>\n",
    "Se forem completamente aleatórios, não fornecem nenhuma informação extra e podem ser omitidos. Por outro lado, se eles não forem aleatórios, o fato de um valor estar faltando é uma informação e pode ser expresso como um recurso binário extra.<br>\n",
    "Lembrar também de que excluir uma observação inteira porque tem um valor ausente pode ser uma má decisão e levar à perda de informações. Assim como manter uma linha inteira de valores ausentes porque tem um valor ausente significativo, pode não ser sua melhor opção.<br>\n",
    "Vamos materializar essa teoria com alguns exemplos de codificação usando o MissingIndicator do sklearn. Para dar algum significado ao nosso código, criaremos um conjunto de dados muito pequeno com três recursos e cinco amostras. Os dados contêm valores ausentes óbvios expressos como não um número ou 999."
   ]
  },
  {
   "cell_type": "code",
   "execution_count": 12,
   "metadata": {},
   "outputs": [
    {
     "data": {
      "text/html": [
       "<div>\n",
       "<style scoped>\n",
       "    .dataframe tbody tr th:only-of-type {\n",
       "        vertical-align: middle;\n",
       "    }\n",
       "\n",
       "    .dataframe tbody tr th {\n",
       "        vertical-align: top;\n",
       "    }\n",
       "\n",
       "    .dataframe thead th {\n",
       "        text-align: right;\n",
       "    }\n",
       "</style>\n",
       "<table border=\"1\" class=\"dataframe\">\n",
       "  <thead>\n",
       "    <tr style=\"text-align: right;\">\n",
       "      <th></th>\n",
       "      <th>f1</th>\n",
       "      <th>f2</th>\n",
       "      <th>f3</th>\n",
       "    </tr>\n",
       "  </thead>\n",
       "  <tbody>\n",
       "    <tr>\n",
       "      <th>0</th>\n",
       "      <td>5.0</td>\n",
       "      <td>7.0</td>\n",
       "      <td>8.0</td>\n",
       "    </tr>\n",
       "    <tr>\n",
       "      <th>1</th>\n",
       "      <td>NaN</td>\n",
       "      <td>NaN</td>\n",
       "      <td>NaN</td>\n",
       "    </tr>\n",
       "    <tr>\n",
       "      <th>2</th>\n",
       "      <td>-5.0</td>\n",
       "      <td>0.0</td>\n",
       "      <td>25.0</td>\n",
       "    </tr>\n",
       "    <tr>\n",
       "      <th>3</th>\n",
       "      <td>999.0</td>\n",
       "      <td>1.0</td>\n",
       "      <td>-1.0</td>\n",
       "    </tr>\n",
       "    <tr>\n",
       "      <th>4</th>\n",
       "      <td>NaN</td>\n",
       "      <td>0.0</td>\n",
       "      <td>NaN</td>\n",
       "    </tr>\n",
       "  </tbody>\n",
       "</table>\n",
       "</div>"
      ],
      "text/plain": [
       "      f1   f2    f3\n",
       "0    5.0  7.0   8.0\n",
       "1    NaN  NaN   NaN\n",
       "2   -5.0  0.0  25.0\n",
       "3  999.0  1.0  -1.0\n",
       "4    NaN  0.0   NaN"
      ]
     },
     "execution_count": 12,
     "metadata": {},
     "output_type": "execute_result"
    }
   ],
   "source": [
    "import numpy as np\n",
    "import pandas as pd\n",
    "\n",
    "X = pd.DataFrame(\n",
    "    np.array([5,7,8, np.NaN, np.NaN, np.NaN, -5,\n",
    "              0,25,999,1,-1, np.NaN, 0, np.NaN])\\\n",
    "              .reshape((5,3)))\n",
    "X.columns = ['f1', 'f2', 'f3'] \n",
    "#feature 1, feature 2, feature 3\n",
    "X"
   ]
  },
  {
   "cell_type": "markdown",
   "metadata": {},
   "source": [
    "Conjunto de dados com três recursos e cinco amostras<br><br>\n",
    "Dê uma olhada rápida nos dados para saber onde estão situados os valores ausentes. Linhas ou colunas com muitos valores ausentes não significativos podem ser excluídas dos seus dados com a função dropna dos pandas. Vamos olhar nos parâmetros mais importantes:<br>\n",
    "• eixo: 0 para linhas, 1 para colunas<br>\n",
    "• tresh: o número de não-NaNs para não descartar uma linha ou coluna<br>\n",
    "• inplace: atualize o quadro<br>\n",
    "Atualizamos nosso conjunto de dados excluindo todas as linhas (eixo=0) apenas com valores ausentes. Observe que, neste caso, em vez de definir tresh como 1, você também pode definir o parâmetro how como 'all'. Como resultado, nossa segunda amostra é descartada, pois consiste apenas em valores ausentes. Observe que redefinimos o índice e descartamos a coluna de índice antiga para conveniência futura."
   ]
  },
  {
   "cell_type": "code",
   "execution_count": 13,
   "metadata": {},
   "outputs": [
    {
     "data": {
      "text/html": [
       "<div>\n",
       "<style scoped>\n",
       "    .dataframe tbody tr th:only-of-type {\n",
       "        vertical-align: middle;\n",
       "    }\n",
       "\n",
       "    .dataframe tbody tr th {\n",
       "        vertical-align: top;\n",
       "    }\n",
       "\n",
       "    .dataframe thead th {\n",
       "        text-align: right;\n",
       "    }\n",
       "</style>\n",
       "<table border=\"1\" class=\"dataframe\">\n",
       "  <thead>\n",
       "    <tr style=\"text-align: right;\">\n",
       "      <th></th>\n",
       "      <th>f1</th>\n",
       "      <th>f2</th>\n",
       "      <th>f3</th>\n",
       "    </tr>\n",
       "  </thead>\n",
       "  <tbody>\n",
       "    <tr>\n",
       "      <th>0</th>\n",
       "      <td>5.0</td>\n",
       "      <td>7.0</td>\n",
       "      <td>8.0</td>\n",
       "    </tr>\n",
       "    <tr>\n",
       "      <th>1</th>\n",
       "      <td>-5.0</td>\n",
       "      <td>0.0</td>\n",
       "      <td>25.0</td>\n",
       "    </tr>\n",
       "    <tr>\n",
       "      <th>2</th>\n",
       "      <td>999.0</td>\n",
       "      <td>1.0</td>\n",
       "      <td>-1.0</td>\n",
       "    </tr>\n",
       "    <tr>\n",
       "      <th>3</th>\n",
       "      <td>NaN</td>\n",
       "      <td>0.0</td>\n",
       "      <td>NaN</td>\n",
       "    </tr>\n",
       "  </tbody>\n",
       "</table>\n",
       "</div>"
      ],
      "text/plain": [
       "      f1   f2    f3\n",
       "0    5.0  7.0   8.0\n",
       "1   -5.0  0.0  25.0\n",
       "2  999.0  1.0  -1.0\n",
       "3    NaN  0.0   NaN"
      ]
     },
     "execution_count": 13,
     "metadata": {},
     "output_type": "execute_result"
    }
   ],
   "source": [
    "X.dropna(axis=0, thresh=1, inplace=True)\n",
    "X.reset_index(inplace=True)\n",
    "X.drop(['index'], axis=1, inplace=True)\n",
    "X"
   ]
  },
  {
   "cell_type": "markdown",
   "metadata": {},
   "source": [
    "Vamos também criar alguns recursos booleanos extras que nos informam se uma amostra tem um valor ausente para um determinado recurso. Comece importando o MissingIndicator de sklearn.impute (observe que a versão 0.20.0 é necessária (atualize com 'conda update scikit-learn')).<br>\n",
    "Infelizmente, o MissingIndicator não oferece suporte a vários tipos de valores ausentes (consulte esta pergunta no Stackoverflow). Por isso, temos que converter os 999 valores em nosso dataframe para NaN's. Em seguida, criamos, ajustamos e transformamos um objeto MissingIndicator que detectará todos os NaNs em nossos dados.<br>\n",
    "A partir deste indicador, podemos criar um novo dataframe com valores booleanos indicando se uma instância possui um valor ausente para um determinado feature. Mas por que temos apenas duas novas colunas enquanto tínhamos três features originais? Após a exclusão de nossa segunda amostra, f2 não tinha mais valores ausentes. Se o MissingIndicator não detectar nenhum valor ausente em um recurso, ele não criará um novo feature desse feature.<br>\n",
    "Adicionaremos esses novos recursos posteriormente aos nossos dados originais, por enquanto podemos armazená-los na variável indicadora."
   ]
  },
  {
   "cell_type": "code",
   "execution_count": 14,
   "metadata": {},
   "outputs": [
    {
     "name": "stdout",
     "output_type": "stream",
     "text": [
      "    f1   f2    f3\n",
      "0  5.0  7.0   8.0\n",
      "1 -5.0  0.0  25.0\n",
      "2  NaN  1.0  -1.0\n",
      "3  NaN  0.0   NaN\n",
      "MissingIndicator()\n",
      "[[False False]\n",
      " [False False]\n",
      " [ True False]\n",
      " [ True  True]]\n"
     ]
    },
    {
     "data": {
      "text/plain": [
       "(      m1     m3\n",
       " 0  False  False\n",
       " 1  False  False\n",
       " 2   True  False\n",
       " 3   True   True,\n",
       "     f1   f2    f3\n",
       " 0  5.0  7.0   8.0\n",
       " 1 -5.0  0.0  25.0\n",
       " 2  NaN  1.0  -1.0\n",
       " 3  NaN  0.0   NaN)"
      ]
     },
     "execution_count": 14,
     "metadata": {},
     "output_type": "execute_result"
    }
   ],
   "source": [
    "from sklearn.impute import MissingIndicator\n",
    "\n",
    "X.replace({999.0 : np.NaN}, inplace=True)\n",
    "print(X)\n",
    "indicator = MissingIndicator(missing_values=np.NaN)\n",
    "print(indicator)\n",
    "indicator = indicator.fit_transform(X)\n",
    "print(indicator)\n",
    "indicator = pd.DataFrame(indicator, columns=['m1', 'm3'])\n",
    "indicator, X"
   ]
  },
  {
   "cell_type": "markdown",
   "metadata": {},
   "source": [
    "Depois de decidir manter (alguns de) seus valores ausentes e criar indicadores de valor ausente, a próxima pergunta é se deve substituir os valores ausentes. A maioria dos algoritmos de aprendizagem tem um desempenho ruim quando os valores ausentes são expressos como não um número (np.NaN) e precisam de alguma forma de imputação de valores ausentes. Esteja ciente de que algumas bibliotecas e algoritmos, como o XGBoost, podem manipular valores ausentes e imputar esses valores automaticamente por aprendizagem."
   ]
  },
  {
   "cell_type": "markdown",
   "metadata": {},
   "source": [
    "#### 2. Input values"
   ]
  },
  {
   "cell_type": "markdown",
   "metadata": {},
   "source": [
    "Para preencher os valores ausentes com estratégias comuns, o sklearn fornece um SimpleImputer. As quatro estratégias principais são média, most_frequent, mediana e constante (não se esqueça de definir o parâmetro fill_value). No exemplo abaixo, imputamos valores ausentes para nosso dataframe X com a média do feature."
   ]
  },
  {
   "cell_type": "code",
   "execution_count": 15,
   "metadata": {},
   "outputs": [
    {
     "data": {
      "text/html": [
       "<style>#sk-container-id-1 {\n",
       "  /* Definition of color scheme common for light and dark mode */\n",
       "  --sklearn-color-text: #000;\n",
       "  --sklearn-color-text-muted: #666;\n",
       "  --sklearn-color-line: gray;\n",
       "  /* Definition of color scheme for unfitted estimators */\n",
       "  --sklearn-color-unfitted-level-0: #fff5e6;\n",
       "  --sklearn-color-unfitted-level-1: #f6e4d2;\n",
       "  --sklearn-color-unfitted-level-2: #ffe0b3;\n",
       "  --sklearn-color-unfitted-level-3: chocolate;\n",
       "  /* Definition of color scheme for fitted estimators */\n",
       "  --sklearn-color-fitted-level-0: #f0f8ff;\n",
       "  --sklearn-color-fitted-level-1: #d4ebff;\n",
       "  --sklearn-color-fitted-level-2: #b3dbfd;\n",
       "  --sklearn-color-fitted-level-3: cornflowerblue;\n",
       "\n",
       "  /* Specific color for light theme */\n",
       "  --sklearn-color-text-on-default-background: var(--sg-text-color, var(--theme-code-foreground, var(--jp-content-font-color1, black)));\n",
       "  --sklearn-color-background: var(--sg-background-color, var(--theme-background, var(--jp-layout-color0, white)));\n",
       "  --sklearn-color-border-box: var(--sg-text-color, var(--theme-code-foreground, var(--jp-content-font-color1, black)));\n",
       "  --sklearn-color-icon: #696969;\n",
       "\n",
       "  @media (prefers-color-scheme: dark) {\n",
       "    /* Redefinition of color scheme for dark theme */\n",
       "    --sklearn-color-text-on-default-background: var(--sg-text-color, var(--theme-code-foreground, var(--jp-content-font-color1, white)));\n",
       "    --sklearn-color-background: var(--sg-background-color, var(--theme-background, var(--jp-layout-color0, #111)));\n",
       "    --sklearn-color-border-box: var(--sg-text-color, var(--theme-code-foreground, var(--jp-content-font-color1, white)));\n",
       "    --sklearn-color-icon: #878787;\n",
       "  }\n",
       "}\n",
       "\n",
       "#sk-container-id-1 {\n",
       "  color: var(--sklearn-color-text);\n",
       "}\n",
       "\n",
       "#sk-container-id-1 pre {\n",
       "  padding: 0;\n",
       "}\n",
       "\n",
       "#sk-container-id-1 input.sk-hidden--visually {\n",
       "  border: 0;\n",
       "  clip: rect(1px 1px 1px 1px);\n",
       "  clip: rect(1px, 1px, 1px, 1px);\n",
       "  height: 1px;\n",
       "  margin: -1px;\n",
       "  overflow: hidden;\n",
       "  padding: 0;\n",
       "  position: absolute;\n",
       "  width: 1px;\n",
       "}\n",
       "\n",
       "#sk-container-id-1 div.sk-dashed-wrapped {\n",
       "  border: 1px dashed var(--sklearn-color-line);\n",
       "  margin: 0 0.4em 0.5em 0.4em;\n",
       "  box-sizing: border-box;\n",
       "  padding-bottom: 0.4em;\n",
       "  background-color: var(--sklearn-color-background);\n",
       "}\n",
       "\n",
       "#sk-container-id-1 div.sk-container {\n",
       "  /* jupyter's `normalize.less` sets `[hidden] { display: none; }`\n",
       "     but bootstrap.min.css set `[hidden] { display: none !important; }`\n",
       "     so we also need the `!important` here to be able to override the\n",
       "     default hidden behavior on the sphinx rendered scikit-learn.org.\n",
       "     See: https://github.com/scikit-learn/scikit-learn/issues/21755 */\n",
       "  display: inline-block !important;\n",
       "  position: relative;\n",
       "}\n",
       "\n",
       "#sk-container-id-1 div.sk-text-repr-fallback {\n",
       "  display: none;\n",
       "}\n",
       "\n",
       "div.sk-parallel-item,\n",
       "div.sk-serial,\n",
       "div.sk-item {\n",
       "  /* draw centered vertical line to link estimators */\n",
       "  background-image: linear-gradient(var(--sklearn-color-text-on-default-background), var(--sklearn-color-text-on-default-background));\n",
       "  background-size: 2px 100%;\n",
       "  background-repeat: no-repeat;\n",
       "  background-position: center center;\n",
       "}\n",
       "\n",
       "/* Parallel-specific style estimator block */\n",
       "\n",
       "#sk-container-id-1 div.sk-parallel-item::after {\n",
       "  content: \"\";\n",
       "  width: 100%;\n",
       "  border-bottom: 2px solid var(--sklearn-color-text-on-default-background);\n",
       "  flex-grow: 1;\n",
       "}\n",
       "\n",
       "#sk-container-id-1 div.sk-parallel {\n",
       "  display: flex;\n",
       "  align-items: stretch;\n",
       "  justify-content: center;\n",
       "  background-color: var(--sklearn-color-background);\n",
       "  position: relative;\n",
       "}\n",
       "\n",
       "#sk-container-id-1 div.sk-parallel-item {\n",
       "  display: flex;\n",
       "  flex-direction: column;\n",
       "}\n",
       "\n",
       "#sk-container-id-1 div.sk-parallel-item:first-child::after {\n",
       "  align-self: flex-end;\n",
       "  width: 50%;\n",
       "}\n",
       "\n",
       "#sk-container-id-1 div.sk-parallel-item:last-child::after {\n",
       "  align-self: flex-start;\n",
       "  width: 50%;\n",
       "}\n",
       "\n",
       "#sk-container-id-1 div.sk-parallel-item:only-child::after {\n",
       "  width: 0;\n",
       "}\n",
       "\n",
       "/* Serial-specific style estimator block */\n",
       "\n",
       "#sk-container-id-1 div.sk-serial {\n",
       "  display: flex;\n",
       "  flex-direction: column;\n",
       "  align-items: center;\n",
       "  background-color: var(--sklearn-color-background);\n",
       "  padding-right: 1em;\n",
       "  padding-left: 1em;\n",
       "}\n",
       "\n",
       "\n",
       "/* Toggleable style: style used for estimator/Pipeline/ColumnTransformer box that is\n",
       "clickable and can be expanded/collapsed.\n",
       "- Pipeline and ColumnTransformer use this feature and define the default style\n",
       "- Estimators will overwrite some part of the style using the `sk-estimator` class\n",
       "*/\n",
       "\n",
       "/* Pipeline and ColumnTransformer style (default) */\n",
       "\n",
       "#sk-container-id-1 div.sk-toggleable {\n",
       "  /* Default theme specific background. It is overwritten whether we have a\n",
       "  specific estimator or a Pipeline/ColumnTransformer */\n",
       "  background-color: var(--sklearn-color-background);\n",
       "}\n",
       "\n",
       "/* Toggleable label */\n",
       "#sk-container-id-1 label.sk-toggleable__label {\n",
       "  cursor: pointer;\n",
       "  display: flex;\n",
       "  width: 100%;\n",
       "  margin-bottom: 0;\n",
       "  padding: 0.5em;\n",
       "  box-sizing: border-box;\n",
       "  text-align: center;\n",
       "  align-items: start;\n",
       "  justify-content: space-between;\n",
       "  gap: 0.5em;\n",
       "}\n",
       "\n",
       "#sk-container-id-1 label.sk-toggleable__label .caption {\n",
       "  font-size: 0.6rem;\n",
       "  font-weight: lighter;\n",
       "  color: var(--sklearn-color-text-muted);\n",
       "}\n",
       "\n",
       "#sk-container-id-1 label.sk-toggleable__label-arrow:before {\n",
       "  /* Arrow on the left of the label */\n",
       "  content: \"▸\";\n",
       "  float: left;\n",
       "  margin-right: 0.25em;\n",
       "  color: var(--sklearn-color-icon);\n",
       "}\n",
       "\n",
       "#sk-container-id-1 label.sk-toggleable__label-arrow:hover:before {\n",
       "  color: var(--sklearn-color-text);\n",
       "}\n",
       "\n",
       "/* Toggleable content - dropdown */\n",
       "\n",
       "#sk-container-id-1 div.sk-toggleable__content {\n",
       "  max-height: 0;\n",
       "  max-width: 0;\n",
       "  overflow: hidden;\n",
       "  text-align: left;\n",
       "  /* unfitted */\n",
       "  background-color: var(--sklearn-color-unfitted-level-0);\n",
       "}\n",
       "\n",
       "#sk-container-id-1 div.sk-toggleable__content.fitted {\n",
       "  /* fitted */\n",
       "  background-color: var(--sklearn-color-fitted-level-0);\n",
       "}\n",
       "\n",
       "#sk-container-id-1 div.sk-toggleable__content pre {\n",
       "  margin: 0.2em;\n",
       "  border-radius: 0.25em;\n",
       "  color: var(--sklearn-color-text);\n",
       "  /* unfitted */\n",
       "  background-color: var(--sklearn-color-unfitted-level-0);\n",
       "}\n",
       "\n",
       "#sk-container-id-1 div.sk-toggleable__content.fitted pre {\n",
       "  /* unfitted */\n",
       "  background-color: var(--sklearn-color-fitted-level-0);\n",
       "}\n",
       "\n",
       "#sk-container-id-1 input.sk-toggleable__control:checked~div.sk-toggleable__content {\n",
       "  /* Expand drop-down */\n",
       "  max-height: 200px;\n",
       "  max-width: 100%;\n",
       "  overflow: auto;\n",
       "}\n",
       "\n",
       "#sk-container-id-1 input.sk-toggleable__control:checked~label.sk-toggleable__label-arrow:before {\n",
       "  content: \"▾\";\n",
       "}\n",
       "\n",
       "/* Pipeline/ColumnTransformer-specific style */\n",
       "\n",
       "#sk-container-id-1 div.sk-label input.sk-toggleable__control:checked~label.sk-toggleable__label {\n",
       "  color: var(--sklearn-color-text);\n",
       "  background-color: var(--sklearn-color-unfitted-level-2);\n",
       "}\n",
       "\n",
       "#sk-container-id-1 div.sk-label.fitted input.sk-toggleable__control:checked~label.sk-toggleable__label {\n",
       "  background-color: var(--sklearn-color-fitted-level-2);\n",
       "}\n",
       "\n",
       "/* Estimator-specific style */\n",
       "\n",
       "/* Colorize estimator box */\n",
       "#sk-container-id-1 div.sk-estimator input.sk-toggleable__control:checked~label.sk-toggleable__label {\n",
       "  /* unfitted */\n",
       "  background-color: var(--sklearn-color-unfitted-level-2);\n",
       "}\n",
       "\n",
       "#sk-container-id-1 div.sk-estimator.fitted input.sk-toggleable__control:checked~label.sk-toggleable__label {\n",
       "  /* fitted */\n",
       "  background-color: var(--sklearn-color-fitted-level-2);\n",
       "}\n",
       "\n",
       "#sk-container-id-1 div.sk-label label.sk-toggleable__label,\n",
       "#sk-container-id-1 div.sk-label label {\n",
       "  /* The background is the default theme color */\n",
       "  color: var(--sklearn-color-text-on-default-background);\n",
       "}\n",
       "\n",
       "/* On hover, darken the color of the background */\n",
       "#sk-container-id-1 div.sk-label:hover label.sk-toggleable__label {\n",
       "  color: var(--sklearn-color-text);\n",
       "  background-color: var(--sklearn-color-unfitted-level-2);\n",
       "}\n",
       "\n",
       "/* Label box, darken color on hover, fitted */\n",
       "#sk-container-id-1 div.sk-label.fitted:hover label.sk-toggleable__label.fitted {\n",
       "  color: var(--sklearn-color-text);\n",
       "  background-color: var(--sklearn-color-fitted-level-2);\n",
       "}\n",
       "\n",
       "/* Estimator label */\n",
       "\n",
       "#sk-container-id-1 div.sk-label label {\n",
       "  font-family: monospace;\n",
       "  font-weight: bold;\n",
       "  display: inline-block;\n",
       "  line-height: 1.2em;\n",
       "}\n",
       "\n",
       "#sk-container-id-1 div.sk-label-container {\n",
       "  text-align: center;\n",
       "}\n",
       "\n",
       "/* Estimator-specific */\n",
       "#sk-container-id-1 div.sk-estimator {\n",
       "  font-family: monospace;\n",
       "  border: 1px dotted var(--sklearn-color-border-box);\n",
       "  border-radius: 0.25em;\n",
       "  box-sizing: border-box;\n",
       "  margin-bottom: 0.5em;\n",
       "  /* unfitted */\n",
       "  background-color: var(--sklearn-color-unfitted-level-0);\n",
       "}\n",
       "\n",
       "#sk-container-id-1 div.sk-estimator.fitted {\n",
       "  /* fitted */\n",
       "  background-color: var(--sklearn-color-fitted-level-0);\n",
       "}\n",
       "\n",
       "/* on hover */\n",
       "#sk-container-id-1 div.sk-estimator:hover {\n",
       "  /* unfitted */\n",
       "  background-color: var(--sklearn-color-unfitted-level-2);\n",
       "}\n",
       "\n",
       "#sk-container-id-1 div.sk-estimator.fitted:hover {\n",
       "  /* fitted */\n",
       "  background-color: var(--sklearn-color-fitted-level-2);\n",
       "}\n",
       "\n",
       "/* Specification for estimator info (e.g. \"i\" and \"?\") */\n",
       "\n",
       "/* Common style for \"i\" and \"?\" */\n",
       "\n",
       ".sk-estimator-doc-link,\n",
       "a:link.sk-estimator-doc-link,\n",
       "a:visited.sk-estimator-doc-link {\n",
       "  float: right;\n",
       "  font-size: smaller;\n",
       "  line-height: 1em;\n",
       "  font-family: monospace;\n",
       "  background-color: var(--sklearn-color-background);\n",
       "  border-radius: 1em;\n",
       "  height: 1em;\n",
       "  width: 1em;\n",
       "  text-decoration: none !important;\n",
       "  margin-left: 0.5em;\n",
       "  text-align: center;\n",
       "  /* unfitted */\n",
       "  border: var(--sklearn-color-unfitted-level-1) 1pt solid;\n",
       "  color: var(--sklearn-color-unfitted-level-1);\n",
       "}\n",
       "\n",
       ".sk-estimator-doc-link.fitted,\n",
       "a:link.sk-estimator-doc-link.fitted,\n",
       "a:visited.sk-estimator-doc-link.fitted {\n",
       "  /* fitted */\n",
       "  border: var(--sklearn-color-fitted-level-1) 1pt solid;\n",
       "  color: var(--sklearn-color-fitted-level-1);\n",
       "}\n",
       "\n",
       "/* On hover */\n",
       "div.sk-estimator:hover .sk-estimator-doc-link:hover,\n",
       ".sk-estimator-doc-link:hover,\n",
       "div.sk-label-container:hover .sk-estimator-doc-link:hover,\n",
       ".sk-estimator-doc-link:hover {\n",
       "  /* unfitted */\n",
       "  background-color: var(--sklearn-color-unfitted-level-3);\n",
       "  color: var(--sklearn-color-background);\n",
       "  text-decoration: none;\n",
       "}\n",
       "\n",
       "div.sk-estimator.fitted:hover .sk-estimator-doc-link.fitted:hover,\n",
       ".sk-estimator-doc-link.fitted:hover,\n",
       "div.sk-label-container:hover .sk-estimator-doc-link.fitted:hover,\n",
       ".sk-estimator-doc-link.fitted:hover {\n",
       "  /* fitted */\n",
       "  background-color: var(--sklearn-color-fitted-level-3);\n",
       "  color: var(--sklearn-color-background);\n",
       "  text-decoration: none;\n",
       "}\n",
       "\n",
       "/* Span, style for the box shown on hovering the info icon */\n",
       ".sk-estimator-doc-link span {\n",
       "  display: none;\n",
       "  z-index: 9999;\n",
       "  position: relative;\n",
       "  font-weight: normal;\n",
       "  right: .2ex;\n",
       "  padding: .5ex;\n",
       "  margin: .5ex;\n",
       "  width: min-content;\n",
       "  min-width: 20ex;\n",
       "  max-width: 50ex;\n",
       "  color: var(--sklearn-color-text);\n",
       "  box-shadow: 2pt 2pt 4pt #999;\n",
       "  /* unfitted */\n",
       "  background: var(--sklearn-color-unfitted-level-0);\n",
       "  border: .5pt solid var(--sklearn-color-unfitted-level-3);\n",
       "}\n",
       "\n",
       ".sk-estimator-doc-link.fitted span {\n",
       "  /* fitted */\n",
       "  background: var(--sklearn-color-fitted-level-0);\n",
       "  border: var(--sklearn-color-fitted-level-3);\n",
       "}\n",
       "\n",
       ".sk-estimator-doc-link:hover span {\n",
       "  display: block;\n",
       "}\n",
       "\n",
       "/* \"?\"-specific style due to the `<a>` HTML tag */\n",
       "\n",
       "#sk-container-id-1 a.estimator_doc_link {\n",
       "  float: right;\n",
       "  font-size: 1rem;\n",
       "  line-height: 1em;\n",
       "  font-family: monospace;\n",
       "  background-color: var(--sklearn-color-background);\n",
       "  border-radius: 1rem;\n",
       "  height: 1rem;\n",
       "  width: 1rem;\n",
       "  text-decoration: none;\n",
       "  /* unfitted */\n",
       "  color: var(--sklearn-color-unfitted-level-1);\n",
       "  border: var(--sklearn-color-unfitted-level-1) 1pt solid;\n",
       "}\n",
       "\n",
       "#sk-container-id-1 a.estimator_doc_link.fitted {\n",
       "  /* fitted */\n",
       "  border: var(--sklearn-color-fitted-level-1) 1pt solid;\n",
       "  color: var(--sklearn-color-fitted-level-1);\n",
       "}\n",
       "\n",
       "/* On hover */\n",
       "#sk-container-id-1 a.estimator_doc_link:hover {\n",
       "  /* unfitted */\n",
       "  background-color: var(--sklearn-color-unfitted-level-3);\n",
       "  color: var(--sklearn-color-background);\n",
       "  text-decoration: none;\n",
       "}\n",
       "\n",
       "#sk-container-id-1 a.estimator_doc_link.fitted:hover {\n",
       "  /* fitted */\n",
       "  background-color: var(--sklearn-color-fitted-level-3);\n",
       "}\n",
       "</style><div id=\"sk-container-id-1\" class=\"sk-top-container\"><div class=\"sk-text-repr-fallback\"><pre>SimpleImputer()</pre><b>In a Jupyter environment, please rerun this cell to show the HTML representation or trust the notebook. <br />On GitHub, the HTML representation is unable to render, please try loading this page with nbviewer.org.</b></div><div class=\"sk-container\" hidden><div class=\"sk-item\"><div class=\"sk-estimator fitted sk-toggleable\"><input class=\"sk-toggleable__control sk-hidden--visually\" id=\"sk-estimator-id-1\" type=\"checkbox\" checked><label for=\"sk-estimator-id-1\" class=\"sk-toggleable__label fitted sk-toggleable__label-arrow\"><div><div>SimpleImputer</div></div><div><a class=\"sk-estimator-doc-link fitted\" rel=\"noreferrer\" target=\"_blank\" href=\"https://scikit-learn.org/1.6/modules/generated/sklearn.impute.SimpleImputer.html\">?<span>Documentation for SimpleImputer</span></a><span class=\"sk-estimator-doc-link fitted\">i<span>Fitted</span></span></div></label><div class=\"sk-toggleable__content fitted\"><pre>SimpleImputer()</pre></div> </div></div></div></div>"
      ],
      "text/plain": [
       "SimpleImputer()"
      ]
     },
     "execution_count": 15,
     "metadata": {},
     "output_type": "execute_result"
    }
   ],
   "source": [
    "from sklearn.impute import SimpleImputer\n",
    "\n",
    "imp = SimpleImputer(missing_values=np.nan, strategy='mean')\n",
    "imp.fit_transform(X)\n",
    "imp"
   ]
  },
  {
   "cell_type": "markdown",
   "metadata": {},
   "source": [
    "Observe que os valores retornados são colocados em um array Numpy e perdemos todas as meta-informações. Como todas essas estratégias podem ser imitadas em pandas, usaremos o método pandas fillna para imputar valores ausentes. Para 'mean', podemos usar o seguinte código. Essa implementação de pandas também oferece opções para preencher para frente (ffill) ou para trás (bfill), que são convenientes ao trabalhar com séries temporais."
   ]
  },
  {
   "cell_type": "code",
   "execution_count": 16,
   "metadata": {},
   "outputs": [
    {
     "data": {
      "text/html": [
       "<div>\n",
       "<style scoped>\n",
       "    .dataframe tbody tr th:only-of-type {\n",
       "        vertical-align: middle;\n",
       "    }\n",
       "\n",
       "    .dataframe tbody tr th {\n",
       "        vertical-align: top;\n",
       "    }\n",
       "\n",
       "    .dataframe thead th {\n",
       "        text-align: right;\n",
       "    }\n",
       "</style>\n",
       "<table border=\"1\" class=\"dataframe\">\n",
       "  <thead>\n",
       "    <tr style=\"text-align: right;\">\n",
       "      <th></th>\n",
       "      <th>f1</th>\n",
       "      <th>f2</th>\n",
       "      <th>f3</th>\n",
       "    </tr>\n",
       "  </thead>\n",
       "  <tbody>\n",
       "    <tr>\n",
       "      <th>0</th>\n",
       "      <td>5.0</td>\n",
       "      <td>7.0</td>\n",
       "      <td>8.000000</td>\n",
       "    </tr>\n",
       "    <tr>\n",
       "      <th>1</th>\n",
       "      <td>-5.0</td>\n",
       "      <td>0.0</td>\n",
       "      <td>25.000000</td>\n",
       "    </tr>\n",
       "    <tr>\n",
       "      <th>2</th>\n",
       "      <td>0.0</td>\n",
       "      <td>1.0</td>\n",
       "      <td>-1.000000</td>\n",
       "    </tr>\n",
       "    <tr>\n",
       "      <th>3</th>\n",
       "      <td>0.0</td>\n",
       "      <td>0.0</td>\n",
       "      <td>10.666667</td>\n",
       "    </tr>\n",
       "  </tbody>\n",
       "</table>\n",
       "</div>"
      ],
      "text/plain": [
       "    f1   f2         f3\n",
       "0  5.0  7.0   8.000000\n",
       "1 -5.0  0.0  25.000000\n",
       "2  0.0  1.0  -1.000000\n",
       "3  0.0  0.0  10.666667"
      ]
     },
     "execution_count": 16,
     "metadata": {},
     "output_type": "execute_result"
    }
   ],
   "source": [
    "X.fillna(X.mean(), inplace=True)\n",
    "X"
   ]
  },
  {
   "cell_type": "code",
   "execution_count": 17,
   "metadata": {},
   "outputs": [],
   "source": [
    "X1=X"
   ]
  },
  {
   "cell_type": "markdown",
   "metadata": {},
   "source": [
    "Outras formas populares de imputar dados ausentes são agrupar os dados com o algoritmo k-nearest neighbor (KNN) ou interpolar os valores usando uma ampla variedade de métodos de interpolação. Ambas as técnicas não são implementadas na biblioteca de pré-processamento do sklearn e não serão discutidas aqui."
   ]
  },
  {
   "cell_type": "markdown",
   "metadata": {},
   "source": [
    "#### 3. Polynomial features"
   ]
  },
  {
   "cell_type": "markdown",
   "metadata": {},
   "source": [
    "A criação de recursos polinomiais é uma maneira simples e comum de engenharia de recursos que adiciona complexidade aos dados numéricos de entrada combinando recursos.<br>\n",
    "Os features polinomiais são frequentemente criados quando queremos incluir a noção de que existe uma relação não linear entre os features e o destino. Eles são usados ​​principalmente para adicionar complexidade a modelos lineares com poucos features, ou quando suspeitamos que o efeito de um feature é dependente em outro feature.<br>\n",
    "Antes de lidar com valores ausentes, precisa decidir se deseja usar features polinomiais ou não. Se por exemplo, substituir todos os valores ausentes por 0, todos os produtos cruzados usando esse feature serão 0. Além disso, se você não substituir os valores ausentes (NaN), a criação de features polinomiais gerará um erro de valor na fase fit_transform , pois a entrada deve ser finita.<br>\n",
    "A este respeito, substituir os valores omissos pela mediana ou pela média parece ser uma escolha razoável. Como não tenho certeza absoluta sobre isso e não consigo encontrar informações consistentes, fiz esta pergunta no StackExchange de ciência de dados.<br>\n",
    "O Sklearn fornece uma classe PolynomialFeatures para criar features polinomiais do zero. O parâmetro de grau determina o grau máximo do polinómio. Por exemplo, quando o grau é definido como dois e X=x1, x2, os recursos criados serão 1, x1, x2, x1², x1x2 e x2². O parâmetro transaction_only informa à função que queremos apenas os recursos de interação, ou seja, 1, x1, x2 e x1x2.<br>\n",
    "Aqui, criamos recursos polinomiais até o terceiro grau e único recurso de interação. Como resultado temos quatro novas features: f1.f2, f1.f3, f2.f3 e f1.f2.f3. Observe que nossos features originais também estão incluídos na saída e separamos os novos recursos para adicionar aos nossos dados posteriormente."
   ]
  },
  {
   "cell_type": "code",
   "execution_count": 18,
   "metadata": {},
   "outputs": [
    {
     "data": {
      "text/html": [
       "<div>\n",
       "<style scoped>\n",
       "    .dataframe tbody tr th:only-of-type {\n",
       "        vertical-align: middle;\n",
       "    }\n",
       "\n",
       "    .dataframe tbody tr th {\n",
       "        vertical-align: top;\n",
       "    }\n",
       "\n",
       "    .dataframe thead th {\n",
       "        text-align: right;\n",
       "    }\n",
       "</style>\n",
       "<table border=\"1\" class=\"dataframe\">\n",
       "  <thead>\n",
       "    <tr style=\"text-align: right;\">\n",
       "      <th></th>\n",
       "      <th>p1</th>\n",
       "      <th>p2</th>\n",
       "      <th>p3</th>\n",
       "      <th>p4</th>\n",
       "    </tr>\n",
       "  </thead>\n",
       "  <tbody>\n",
       "    <tr>\n",
       "      <th>0</th>\n",
       "      <td>35.0</td>\n",
       "      <td>40.0</td>\n",
       "      <td>56.0</td>\n",
       "      <td>280.0</td>\n",
       "    </tr>\n",
       "    <tr>\n",
       "      <th>1</th>\n",
       "      <td>-0.0</td>\n",
       "      <td>-125.0</td>\n",
       "      <td>0.0</td>\n",
       "      <td>-0.0</td>\n",
       "    </tr>\n",
       "    <tr>\n",
       "      <th>2</th>\n",
       "      <td>0.0</td>\n",
       "      <td>-0.0</td>\n",
       "      <td>-1.0</td>\n",
       "      <td>-0.0</td>\n",
       "    </tr>\n",
       "    <tr>\n",
       "      <th>3</th>\n",
       "      <td>0.0</td>\n",
       "      <td>0.0</td>\n",
       "      <td>0.0</td>\n",
       "      <td>0.0</td>\n",
       "    </tr>\n",
       "  </tbody>\n",
       "</table>\n",
       "</div>"
      ],
      "text/plain": [
       "     p1     p2    p3     p4\n",
       "0  35.0   40.0  56.0  280.0\n",
       "1  -0.0 -125.0   0.0   -0.0\n",
       "2   0.0   -0.0  -1.0   -0.0\n",
       "3   0.0    0.0   0.0    0.0"
      ]
     },
     "execution_count": 18,
     "metadata": {},
     "output_type": "execute_result"
    }
   ],
   "source": [
    "from sklearn.preprocessing import PolynomialFeatures\n",
    "\n",
    "poly = PolynomialFeatures(degree=3, interaction_only=True)\n",
    "polynomials = pd.DataFrame(poly\\\n",
    "                           .fit_transform(X), \n",
    "                           columns=['0','1','2','3', \n",
    "                                    'p1', 'p2', 'p3', 'p4'])\\\n",
    "                                        [['p1', 'p2', 'p3', 'p4']]\n",
    "polynomials"
   ]
  },
  {
   "cell_type": "markdown",
   "metadata": {},
   "source": [
    "Assim como com qualquer outra forma de engenharia de features, é importante criar features polinomiais antes de fazer qualquer dimensionamento de features.\n",
    "Agora, vamos concatenar nossos novos features de indicadores ausentes e features polinomiais para nossos dados com o método pandas concat."
   ]
  },
  {
   "cell_type": "code",
   "execution_count": 19,
   "metadata": {},
   "outputs": [
    {
     "data": {
      "text/html": [
       "<div>\n",
       "<style scoped>\n",
       "    .dataframe tbody tr th:only-of-type {\n",
       "        vertical-align: middle;\n",
       "    }\n",
       "\n",
       "    .dataframe tbody tr th {\n",
       "        vertical-align: top;\n",
       "    }\n",
       "\n",
       "    .dataframe thead th {\n",
       "        text-align: right;\n",
       "    }\n",
       "</style>\n",
       "<table border=\"1\" class=\"dataframe\">\n",
       "  <thead>\n",
       "    <tr style=\"text-align: right;\">\n",
       "      <th></th>\n",
       "      <th>f1</th>\n",
       "      <th>f2</th>\n",
       "      <th>f3</th>\n",
       "      <th>m1</th>\n",
       "      <th>m3</th>\n",
       "      <th>p1</th>\n",
       "      <th>p2</th>\n",
       "      <th>p3</th>\n",
       "      <th>p4</th>\n",
       "    </tr>\n",
       "  </thead>\n",
       "  <tbody>\n",
       "    <tr>\n",
       "      <th>0</th>\n",
       "      <td>5.0</td>\n",
       "      <td>7.0</td>\n",
       "      <td>8.000000</td>\n",
       "      <td>False</td>\n",
       "      <td>False</td>\n",
       "      <td>35.0</td>\n",
       "      <td>40.0</td>\n",
       "      <td>56.0</td>\n",
       "      <td>280.0</td>\n",
       "    </tr>\n",
       "    <tr>\n",
       "      <th>1</th>\n",
       "      <td>-5.0</td>\n",
       "      <td>0.0</td>\n",
       "      <td>25.000000</td>\n",
       "      <td>False</td>\n",
       "      <td>False</td>\n",
       "      <td>-0.0</td>\n",
       "      <td>-125.0</td>\n",
       "      <td>0.0</td>\n",
       "      <td>-0.0</td>\n",
       "    </tr>\n",
       "    <tr>\n",
       "      <th>2</th>\n",
       "      <td>0.0</td>\n",
       "      <td>1.0</td>\n",
       "      <td>-1.000000</td>\n",
       "      <td>True</td>\n",
       "      <td>False</td>\n",
       "      <td>0.0</td>\n",
       "      <td>-0.0</td>\n",
       "      <td>-1.0</td>\n",
       "      <td>-0.0</td>\n",
       "    </tr>\n",
       "    <tr>\n",
       "      <th>3</th>\n",
       "      <td>0.0</td>\n",
       "      <td>0.0</td>\n",
       "      <td>10.666667</td>\n",
       "      <td>True</td>\n",
       "      <td>True</td>\n",
       "      <td>0.0</td>\n",
       "      <td>0.0</td>\n",
       "      <td>0.0</td>\n",
       "      <td>0.0</td>\n",
       "    </tr>\n",
       "  </tbody>\n",
       "</table>\n",
       "</div>"
      ],
      "text/plain": [
       "    f1   f2         f3     m1     m3    p1     p2    p3     p4\n",
       "0  5.0  7.0   8.000000  False  False  35.0   40.0  56.0  280.0\n",
       "1 -5.0  0.0  25.000000  False  False  -0.0 -125.0   0.0   -0.0\n",
       "2  0.0  1.0  -1.000000   True  False   0.0   -0.0  -1.0   -0.0\n",
       "3  0.0  0.0  10.666667   True   True   0.0    0.0   0.0    0.0"
      ]
     },
     "execution_count": 19,
     "metadata": {},
     "output_type": "execute_result"
    }
   ],
   "source": [
    "X = pd.concat([X, indicator, polynomials], axis=1)\n",
    "X"
   ]
  },
  {
   "cell_type": "markdown",
   "metadata": {},
   "source": [
    "Dataframe com features originais (f), indicadores de valor ausente (m) e features polinomiais (p)"
   ]
  },
  {
   "cell_type": "markdown",
   "metadata": {},
   "source": [
    "#### 4. Categorical features"
   ]
  },
  {
   "cell_type": "markdown",
   "metadata": {},
   "source": [
    "A manipulação de dados categóricos é outro processo essencial durante o pré-processamento de dados. Infelizmente, a biblioteca de machine learning do sklearn não suporta o tratamento de dados categóricos. Mesmo para modelos baseados em árvore, é necessário converter recursos categóricos em uma representação numérica.<br>\n",
    "Antes de começar a transformar seus dados, é importante descobrir se o feature em que está a trabalhar é ordinal (em oposição a nominal). Uma feição ordinal é melhor descrita como uma feição com categorias naturais e ordenadas e as distâncias entre as categorias não são conhecidas.<br>\n",
    "Depois de saber em que tipo de dados categóricos você está trabalhando, pode escolher uma ferramenta de transformação adequada. No sklearn, será um OrdinalEncoder para dados ordinais e um OneHotEncoder para dados nominais.\n",
    "Vamos considerar um exemplo simples para demonstrar como ambas as classes estão a funcionar. Crie um dataframe com cinco entradas e três características: sexo, tipo sanguíneo e nível de escolaridade."
   ]
  },
  {
   "cell_type": "code",
   "execution_count": 21,
   "metadata": {},
   "outputs": [
    {
     "data": {
      "text/html": [
       "<div>\n",
       "<style scoped>\n",
       "    .dataframe tbody tr th:only-of-type {\n",
       "        vertical-align: middle;\n",
       "    }\n",
       "\n",
       "    .dataframe tbody tr th {\n",
       "        vertical-align: top;\n",
       "    }\n",
       "\n",
       "    .dataframe thead th {\n",
       "        text-align: right;\n",
       "    }\n",
       "</style>\n",
       "<table border=\"1\" class=\"dataframe\">\n",
       "  <thead>\n",
       "    <tr style=\"text-align: right;\">\n",
       "      <th></th>\n",
       "      <th>sex</th>\n",
       "      <th>blood_type</th>\n",
       "      <th>edu_level</th>\n",
       "    </tr>\n",
       "  </thead>\n",
       "  <tbody>\n",
       "    <tr>\n",
       "      <th>0</th>\n",
       "      <td>M</td>\n",
       "      <td>O-</td>\n",
       "      <td>medium</td>\n",
       "    </tr>\n",
       "    <tr>\n",
       "      <th>1</th>\n",
       "      <td>M</td>\n",
       "      <td>O-</td>\n",
       "      <td>high</td>\n",
       "    </tr>\n",
       "    <tr>\n",
       "      <th>2</th>\n",
       "      <td>F</td>\n",
       "      <td>O+</td>\n",
       "      <td>high</td>\n",
       "    </tr>\n",
       "    <tr>\n",
       "      <th>3</th>\n",
       "      <td>F</td>\n",
       "      <td>AB</td>\n",
       "      <td>low</td>\n",
       "    </tr>\n",
       "    <tr>\n",
       "      <th>4</th>\n",
       "      <td>F</td>\n",
       "      <td>B+</td>\n",
       "      <td>nan</td>\n",
       "    </tr>\n",
       "  </tbody>\n",
       "</table>\n",
       "</div>"
      ],
      "text/plain": [
       "  sex blood_type edu_level\n",
       "0   M         O-    medium\n",
       "1   M         O-      high\n",
       "2   F         O+      high\n",
       "3   F         AB       low\n",
       "4   F         B+       nan"
      ]
     },
     "execution_count": 21,
     "metadata": {},
     "output_type": "execute_result"
    }
   ],
   "source": [
    "X = pd.DataFrame(\n",
    "    np.array(['M', 'O-', 'medium',\n",
    "             'M', 'O-', 'high',\n",
    "              'F', 'O+', 'high',\n",
    "              'F', 'AB', 'low',\n",
    "              'F', 'B+', np.NaN])\n",
    "              .reshape((5,3)))\n",
    "X.columns = ['sex', 'blood_type', 'edu_level']\n",
    "X"
   ]
  },
  {
   "cell_type": "markdown",
   "metadata": {},
   "source": [
    "Se observar o dataframe, deve notar que o nível de escolaridade é o único recurso ordinal (pode ser ordenado e a distância entre as categorias não é conhecida). Começaremos codificando esse recurso com a classe OrdinalEncoder. Importe a classe e crie uma nova instância. Em seguida, atualize o feature de nível educacional ajustando e transformando o feature no codificador. O resultado deve ficar como abaixo."
   ]
  },
  {
   "cell_type": "code",
   "execution_count": 22,
   "metadata": {},
   "outputs": [
    {
     "data": {
      "text/html": [
       "<div>\n",
       "<style scoped>\n",
       "    .dataframe tbody tr th:only-of-type {\n",
       "        vertical-align: middle;\n",
       "    }\n",
       "\n",
       "    .dataframe tbody tr th {\n",
       "        vertical-align: top;\n",
       "    }\n",
       "\n",
       "    .dataframe thead th {\n",
       "        text-align: right;\n",
       "    }\n",
       "</style>\n",
       "<table border=\"1\" class=\"dataframe\">\n",
       "  <thead>\n",
       "    <tr style=\"text-align: right;\">\n",
       "      <th></th>\n",
       "      <th>sex</th>\n",
       "      <th>blood_type</th>\n",
       "      <th>edu_level</th>\n",
       "    </tr>\n",
       "  </thead>\n",
       "  <tbody>\n",
       "    <tr>\n",
       "      <th>0</th>\n",
       "      <td>M</td>\n",
       "      <td>O-</td>\n",
       "      <td>2.0</td>\n",
       "    </tr>\n",
       "    <tr>\n",
       "      <th>1</th>\n",
       "      <td>M</td>\n",
       "      <td>O-</td>\n",
       "      <td>0.0</td>\n",
       "    </tr>\n",
       "    <tr>\n",
       "      <th>2</th>\n",
       "      <td>F</td>\n",
       "      <td>O+</td>\n",
       "      <td>0.0</td>\n",
       "    </tr>\n",
       "    <tr>\n",
       "      <th>3</th>\n",
       "      <td>F</td>\n",
       "      <td>AB</td>\n",
       "      <td>1.0</td>\n",
       "    </tr>\n",
       "    <tr>\n",
       "      <th>4</th>\n",
       "      <td>F</td>\n",
       "      <td>B+</td>\n",
       "      <td>3.0</td>\n",
       "    </tr>\n",
       "  </tbody>\n",
       "</table>\n",
       "</div>"
      ],
      "text/plain": [
       "  sex blood_type  edu_level\n",
       "0   M         O-        2.0\n",
       "1   M         O-        0.0\n",
       "2   F         O+        0.0\n",
       "3   F         AB        1.0\n",
       "4   F         B+        3.0"
      ]
     },
     "execution_count": 22,
     "metadata": {},
     "output_type": "execute_result"
    }
   ],
   "source": [
    "from sklearn.preprocessing import OrdinalEncoder\n",
    "\n",
    "encoder = OrdinalEncoder()\n",
    "X.edu_level = encoder.fit_transform(X.edu_level.values.reshape(-1, 1))\n",
    "X"
   ]
  },
  {
   "cell_type": "markdown",
   "metadata": {},
   "source": [
    "Observe que temos um problema bastante irritante aqui: o nosso valor ausente é codificado como uma classe separada (3.0). Uma análise detalhada da documentação revela que ainda não há solução para esse problema. Um bom sinal é que os programadores do sklearn estão a discutir as possibilidades de implementar uma solução adequada.<br>\n",
    "Outro problema é que a ordem dos nossos dados não é respeitada. Felizmente, isso pode ser resolvido passando uma lista ordenada de valores exclusivos para o feature, e para o parâmetro de categorias.<br>\n",
    "codificador = OrdinalEncoder(categories=['baixo', 'médio', 'alto'])\n",
    "Para resolver o primeiro problema, temos que recorrer aos pandas. O método factorize fornece uma alternativa que pode lidar com valores ausentes e respeita a ordem de nossos valores. A primeira etapa é converter o recurso em um pandas Categorical ordenado. Passe uma lista de categorias (incluindo uma categoria para valores ausentes) e defina o parâmetro ordenado como True."
   ]
  },
  {
   "cell_type": "code",
   "execution_count": 27,
   "metadata": {},
   "outputs": [
    {
     "data": {
      "text/plain": [
       "[NaN, NaN, NaN, NaN, NaN]\n",
       "Categories (4, object): ['missing' < 'low' < 'medium' < 'high']"
      ]
     },
     "execution_count": 27,
     "metadata": {},
     "output_type": "execute_result"
    }
   ],
   "source": [
    "cat = pd.Categorical(X.edu_level, \n",
    "                     categories=['missing', 'low', 'medium', 'high'], \n",
    "                     ordered=True)\n",
    "cat"
   ]
  },
  {
   "cell_type": "markdown",
   "metadata": {},
   "source": [
    "Substitua os valores ausentes pela categoria ausente."
   ]
  },
  {
   "cell_type": "code",
   "execution_count": 28,
   "metadata": {},
   "outputs": [
    {
     "data": {
      "text/plain": [
       "[NaN, NaN, NaN, NaN, NaN]\n",
       "Categories (4, object): ['missing' < 'low' < 'medium' < 'high']"
      ]
     },
     "execution_count": 28,
     "metadata": {},
     "output_type": "execute_result"
    }
   ],
   "source": [
    "cat.fillna('missing')\n",
    "cat"
   ]
  },
  {
   "cell_type": "markdown",
   "metadata": {},
   "source": [
    "Em seguida, fatorize o Categorical com o parâmetro de classificação definido como Verdadeiro e atribua a saída ao feature de nível de educação."
   ]
  },
  {
   "cell_type": "code",
   "execution_count": 29,
   "metadata": {},
   "outputs": [
    {
     "data": {
      "text/html": [
       "<div>\n",
       "<style scoped>\n",
       "    .dataframe tbody tr th:only-of-type {\n",
       "        vertical-align: middle;\n",
       "    }\n",
       "\n",
       "    .dataframe tbody tr th {\n",
       "        vertical-align: top;\n",
       "    }\n",
       "\n",
       "    .dataframe thead th {\n",
       "        text-align: right;\n",
       "    }\n",
       "</style>\n",
       "<table border=\"1\" class=\"dataframe\">\n",
       "  <thead>\n",
       "    <tr style=\"text-align: right;\">\n",
       "      <th></th>\n",
       "      <th>sex</th>\n",
       "      <th>blood_type</th>\n",
       "      <th>edu_level</th>\n",
       "    </tr>\n",
       "  </thead>\n",
       "  <tbody>\n",
       "    <tr>\n",
       "      <th>0</th>\n",
       "      <td>M</td>\n",
       "      <td>O-</td>\n",
       "      <td>-1</td>\n",
       "    </tr>\n",
       "    <tr>\n",
       "      <th>1</th>\n",
       "      <td>M</td>\n",
       "      <td>O-</td>\n",
       "      <td>-1</td>\n",
       "    </tr>\n",
       "    <tr>\n",
       "      <th>2</th>\n",
       "      <td>F</td>\n",
       "      <td>O+</td>\n",
       "      <td>-1</td>\n",
       "    </tr>\n",
       "    <tr>\n",
       "      <th>3</th>\n",
       "      <td>F</td>\n",
       "      <td>AB</td>\n",
       "      <td>-1</td>\n",
       "    </tr>\n",
       "    <tr>\n",
       "      <th>4</th>\n",
       "      <td>F</td>\n",
       "      <td>B+</td>\n",
       "      <td>-1</td>\n",
       "    </tr>\n",
       "  </tbody>\n",
       "</table>\n",
       "</div>"
      ],
      "text/plain": [
       "  sex blood_type  edu_level\n",
       "0   M         O-         -1\n",
       "1   M         O-         -1\n",
       "2   F         O+         -1\n",
       "3   F         AB         -1\n",
       "4   F         B+         -1"
      ]
     },
     "execution_count": 29,
     "metadata": {},
     "output_type": "execute_result"
    }
   ],
   "source": [
    "labels, unique = pd.factorize(cat, sort=True)\n",
    "X.edu_level = labels\n",
    "X"
   ]
  },
  {
   "cell_type": "markdown",
   "metadata": {},
   "source": [
    "Os resultados são mais satisfatórios desta vez, pois os dados são numéricos, ainda ordenados e os valores ausentes são substituídos por 0. Observe que substituir os valores ausentes pelo menor valor pode nem sempre ser a melhor escolha. Outras opções são colocá-lo na categoria mais comum ou colocá-lo na categoria do valor no meio quando o recurso é classificado."
   ]
  },
  {
   "cell_type": "markdown",
   "metadata": {},
   "source": [
    "Vamos nos voltar para os outros dois featurea nominais agora. Lembrar que não podemos substituir esses features por um número, pois isso implicaria que os features tenham uma ordem, o que não é verdade em caso de sexo ou tipo sanguíneo.\n",
    "A maneira mais popular de codificar recursos nominais é a codificação one-hot. Essencialmente, cada recurso categórico com n categorias é transformado em n features binários.<br>\n",
    "Vamos dar uma olhada no nosso exemplo para deixar as coisas claras. Comece importando a classe OneHotEncoder e criando uma nova instância com o tipo de dados de saída definido como inteiro. Isso não altera em nada a forma como nossos dados serão interpretados, mas melhorará a legibilidade de nossa saída.<br>\n",
    "Então, ajuste e transforme nossas duas categóricas nominais. A saída dessa transformação será uma matriz esparsa, isso significa que teremos que transformar a matriz em um array (.toarray()) antes de podermos colocá-la em um dataframe. Você pode omitir esta etapa definindo o parâmetro sparse como False ao iniciar uma nova instância de classe. Atribua nomes de coluna e a saída está pronta para ser adicionada aos outros dados (feature) edu_level)."
   ]
  },
  {
   "cell_type": "code",
   "execution_count": 31,
   "metadata": {},
   "outputs": [
    {
     "data": {
      "text/html": [
       "<div>\n",
       "<style scoped>\n",
       "    .dataframe tbody tr th:only-of-type {\n",
       "        vertical-align: middle;\n",
       "    }\n",
       "\n",
       "    .dataframe tbody tr th {\n",
       "        vertical-align: top;\n",
       "    }\n",
       "\n",
       "    .dataframe thead th {\n",
       "        text-align: right;\n",
       "    }\n",
       "</style>\n",
       "<table border=\"1\" class=\"dataframe\">\n",
       "  <thead>\n",
       "    <tr style=\"text-align: right;\">\n",
       "      <th></th>\n",
       "      <th>F</th>\n",
       "      <th>M</th>\n",
       "      <th>AB</th>\n",
       "      <th>B+</th>\n",
       "      <th>O+</th>\n",
       "      <th>O-</th>\n",
       "      <th>edu_level</th>\n",
       "    </tr>\n",
       "  </thead>\n",
       "  <tbody>\n",
       "    <tr>\n",
       "      <th>0</th>\n",
       "      <td>0</td>\n",
       "      <td>1</td>\n",
       "      <td>0</td>\n",
       "      <td>0</td>\n",
       "      <td>0</td>\n",
       "      <td>1</td>\n",
       "      <td>-1</td>\n",
       "    </tr>\n",
       "    <tr>\n",
       "      <th>1</th>\n",
       "      <td>0</td>\n",
       "      <td>1</td>\n",
       "      <td>0</td>\n",
       "      <td>0</td>\n",
       "      <td>0</td>\n",
       "      <td>1</td>\n",
       "      <td>-1</td>\n",
       "    </tr>\n",
       "    <tr>\n",
       "      <th>2</th>\n",
       "      <td>1</td>\n",
       "      <td>0</td>\n",
       "      <td>0</td>\n",
       "      <td>0</td>\n",
       "      <td>1</td>\n",
       "      <td>0</td>\n",
       "      <td>-1</td>\n",
       "    </tr>\n",
       "    <tr>\n",
       "      <th>3</th>\n",
       "      <td>1</td>\n",
       "      <td>0</td>\n",
       "      <td>1</td>\n",
       "      <td>0</td>\n",
       "      <td>0</td>\n",
       "      <td>0</td>\n",
       "      <td>-1</td>\n",
       "    </tr>\n",
       "    <tr>\n",
       "      <th>4</th>\n",
       "      <td>1</td>\n",
       "      <td>0</td>\n",
       "      <td>0</td>\n",
       "      <td>1</td>\n",
       "      <td>0</td>\n",
       "      <td>0</td>\n",
       "      <td>-1</td>\n",
       "    </tr>\n",
       "  </tbody>\n",
       "</table>\n",
       "</div>"
      ],
      "text/plain": [
       "   F  M  AB  B+  O+  O-  edu_level\n",
       "0  0  1   0   0   0   1         -1\n",
       "1  0  1   0   0   0   1         -1\n",
       "2  1  0   0   0   1   0         -1\n",
       "3  1  0   1   0   0   0         -1\n",
       "4  1  0   0   1   0   0         -1"
      ]
     },
     "execution_count": 31,
     "metadata": {},
     "output_type": "execute_result"
    }
   ],
   "source": [
    "from sklearn.preprocessing import OneHotEncoder\n",
    "\n",
    "# onehot = OneHotEncoder(dtype=np.int, sparse=True)\n",
    "onehot = OneHotEncoder(dtype=int, sparse_output=True)\n",
    "nominals = pd.DataFrame(\n",
    "    onehot.fit_transform(X[['sex', 'blood_type']]).toarray(),\n",
    "    columns=['F', 'M', 'AB', 'B+','O+', 'O-'])\n",
    "nominals['edu_level'] = X.edu_level\n",
    "nominals"
   ]
  },
  {
   "cell_type": "markdown",
   "metadata": {},
   "source": [
    "![](Picture%202.png)<br>\n",
    "Dados codificados versus dados originais<br><br>\n",
    "\n",
    "Como não havia valores ausentes em nossos dados, é importante ter uma palavra sobre como lidar com valores ausentes com o OneHotEncoder. Um valor ausente pode ser facilmente tratado como um recurso extra. Observe que, para fazer isso, você precisa substituir primeiro o valor ausente por um valor arbitrário (por exemplo, 'missing'). pode apenas definir o parâmetro handle_unkown do OneHotEncoder para ignorar"
   ]
  },
  {
   "cell_type": "markdown",
   "metadata": {},
   "source": [
    "#### a) Discretização<br>\n",
    "A discretização, também conhecida como quantização ou binning, divide um recurso contínuo em um número pré-especificado de categorias (bins) e, assim, torna os dados discretos.<br>\n",
    "Um dos principais objetivos de uma discretização é reduzir significativamente o número de intervalos discretos de um atributo contínuo. Por isso, por que essa transformação pode aumentar o desempenho de modelos baseados em árvore.<br>\n",
    "O Sklearn fornece uma classe KBinsDiscretizer que pode cuidar disso. A única coisa que precisa especificar é o número de bins (n_bins) para cada recurso e como codificar esses bins (ordinal, onehot ou onehot-dense). O parâmetro de estratégia opcional pode ser definido com três valores:<br>\n",
    "• uniforme, onde todas as caixas em cada recurso têm larguras idênticas.<br>\n",
    "• quantil (padrão), em que todos os compartimentos em cada feature têm o mesmo número de pontos.<br>\n",
    "• kmeans, onde todos os valores em cada bin têm o mesmo centro mais próximo de um cluster 1D k-means.<br>\n",
    "É importante escolher o parâmetro de estratégia com cuidado. Usar a estratégia uniforme, por exemplo, é muito sensível para valores discrepantes e pode fazer com que acabe com caixas com apenas alguns pontos de dados, ou seja, os valores discrepantes.<br>\n",
    "Vamos voltar ao nosso exemplo para alguns esclarecimentos. Importe a classe KBinsDiscretizer e crie uma nova instância com três compartimentos, codificação ordinal e uma estratégia uniforme (todos os compartimentos têm a mesma largura). Em seguida, ajuste e transforme todos os nossos indicadores originais e dados polinomiais ausentes."
   ]
  },
  {
   "cell_type": "code",
   "execution_count": 33,
   "metadata": {},
   "outputs": [
    {
     "data": {
      "text/plain": [
       "array([[2., 2., 1.],\n",
       "       [0., 0., 2.],\n",
       "       [1., 0., 0.],\n",
       "       [1., 0., 1.]])"
      ]
     },
     "execution_count": 33,
     "metadata": {},
     "output_type": "execute_result"
    }
   ],
   "source": [
    "from sklearn.preprocessing import KBinsDiscretizer\n",
    "\n",
    "disc = KBinsDiscretizer(n_bins=3, encode='ordinal', strategy='uniform') # encode='ordinal' instead of 'uniform'\n",
    "disc.fit_transform(X1)"
   ]
  },
  {
   "cell_type": "markdown",
   "metadata": {},
   "source": [
    "![](Picture%203.png)<br>\n",
    "Discretized output<br>\n",
    "Se a saída não fizer sentido, invoque o atributo bin_edges_ no discretizador (disco) e veja como os compartimentos são divididos. Em seguida, tente outra estratégia e veja como os limites do compartimento mudam de acordo.\n"
   ]
  },
  {
   "cell_type": "markdown",
   "metadata": {},
   "source": [
    "#### b) Binarizacão<br>\n",
    "A binarização de features é o processo de delimitar features numéricos para obter valores booleanos. Ou, por outras palavras, atribua um valor booleano (True ou False) a cada amostra com base em um limite. Observe que a binarização é uma forma extrema de discretização de dois compartimentos.<br>\n",
    "Em geral, a binarização é útil como uma técnica de engenharia de features para criar novos features que indicam algo significativo. Assim como o MissingIndicator mencionado acima é usado para marcar valores ausentes significativos.<br>\n",
    "A classe Binarizer no sklearn implementa a binarização de uma forma muito intuitiva. Os únicos parâmetros que precisa de especificar são o limite e a cópia. Todos os valores abaixo ou iguais ao limite são substituídos por 0, acima por 1. Se a cópia for definida como False, a binarização inplace será executada, caso contrário, será feita uma cópia.<br>\n",
    "Considere o feature 3 (f3) do nosso exemplo e vamos criar um recurso binário extra com True para valores positivos e False para valores negativos. Importe a classe Binarizer, crie uma nova instância com o limite definido como zero e copie para True. Em seguida, ajuste e transforme o binarizador no feature 3. A saída é um novo array com valores booleanos."
   ]
  },
  {
   "cell_type": "code",
   "execution_count": 16,
   "metadata": {},
   "outputs": [
    {
     "data": {
      "text/plain": [
       "(Binarizer(threshold=0),\n",
       "     f1   f2         f3\n",
       " 0  5.0  7.0   8.000000\n",
       " 1 -5.0  0.0  25.000000\n",
       " 2  0.0  1.0  -1.000000\n",
       " 3  0.0  0.0  10.666667)"
      ]
     },
     "execution_count": 16,
     "metadata": {},
     "output_type": "execute_result"
    }
   ],
   "source": [
    "from sklearn.preprocessing import Binarizer\n",
    "\n",
    "binarizer = Binarizer(threshold=0, copy=True)\n",
    "binarizer.fit_transform(X1.f3.values.reshape(-1, 1))\n",
    "binarizer, X1"
   ]
  },
  {
   "cell_type": "markdown",
   "metadata": {},
   "source": [
    "#### c) Transformadores<br>\n",
    "Se quer converter uma função existente em um transformador para auxiliar na limpeza ou processamento de dados, você pode implementar um transformador de uma função arbitrária com FunctionTransformer. Essa classe pode ser útil se estiver a trabalhar com um Pipeline no sklearn, mas pode ser facilmente substituída aplicando uma função lambda ao recurso que deseja transformar (como se mostra abaixo)."
   ]
  },
  {
   "cell_type": "code",
   "execution_count": 34,
   "metadata": {},
   "outputs": [
    {
     "data": {
      "text/plain": [
       "0    2.079442\n",
       "1    0.000000\n",
       "2    0.693147\n",
       "3    0.000000\n",
       "Name: f2, dtype: float64"
      ]
     },
     "execution_count": 34,
     "metadata": {},
     "output_type": "execute_result"
    }
   ],
   "source": [
    "from sklearn.preprocessing import FunctionTransformer\n",
    "\n",
    "transformer = FunctionTransformer(np.log1p, validate=True)\n",
    "transformer.fit_transform(X1.f2.values.reshape(-1, 1)) \n",
    "#same output\n",
    "X1.f2.apply(lambda x : np.log1p(x)) #same output"
   ]
  },
  {
   "cell_type": "markdown",
   "metadata": {},
   "source": [
    "#### d) Dimensionamento de Features<br>\n",
    "A próxima etapa lógica em nosso pipeline de pré-processamento é dimensionar as nossas features. Antes de aplicar qualquer transformação de dimensionamento, é muito importante dividir seus dados em um conjunto de treino e um conjunto de teste. Se começar a dimensionar antes, os seus dados de treino (e teste) podem ser dimensionados em torno de um valor médio (veja abaixo) que não é realmente a média dos dados de treino ou teste e ultrapassar todo o motivo pelo qual se está a dimensionar em primeiro lugar."
   ]
  },
  {
   "cell_type": "markdown",
   "metadata": {},
   "source": [
    "#### 6. Padronização<br>\n",
    "A padronização é uma transformação que centraliza os dados removendo o valor médio de cada recurso e, em seguida, dimensiona-o dividindo recursos (não constantes) por seu desvio padrão. Após padronizar os dados, a média será zero e o desvio padrão um.<br>\n",
    "A padronização pode melhorar drasticamente o desempenho dos modelos. Por exemplo, muitos elementos usados na função objetivo de um algoritmo de aprendizado (como o kernel RBF de Support Vector Machines ou os regularizadores l1 e l2 de modelos lineares) assumem que todos os recursos estão centrados em torno de zero e têm variância na mesma ordem. Se um recurso tem uma variância que é ordens de magnitude maior do que outros, ele pode dominar a função objetivo e tornar o estimador incapaz de aprender com outros recursos corretamente como esperado.\n",
    "Dependendo de suas necessidades e dados, o sklearn fornece vários scalers: StandardScaler, MinMaxScaler, MaxAbsScaler e RobustScaler."
   ]
  },
  {
   "cell_type": "markdown",
   "metadata": {},
   "source": [
    "#### e) Escala padrão<br>\n",
    "O principal scaler do Sklearn é o StandardScaler, usa uma definição estrita de padronização para padronizar dados. Ele centraliza puramente os dados usando a fórmula a seguir, em que u é a média e s é o desvio padrão.<br>\n",
    "x_scaled = (x — u) / s<br>\n",
    "Vamos apresentar exemplo para ver isso na prática. Antes de começarmos a codificar, devemos lembrar que o valor de nossa quarta instância estava faltando e o substituímos pela média. Se inserirmos a média na fórmula acima, o resultado após a padronização deve ser zero. Vamos testar isso.<br>\n",
    "Importe a classe StandardScaler e crie uma nova instância. Observe que para matrizes esparsas você pode definir o parâmetro with_mean como False para não centralizar os valores em torno de zero. Em seguida, ajuste e transforme o scaler para o feature 3."
   ]
  },
  {
   "cell_type": "code",
   "execution_count": 35,
   "metadata": {},
   "outputs": [
    {
     "data": {
      "text/plain": [
       "array([[-0.28562322],\n",
       "       [ 1.53522482],\n",
       "       [-1.24960159],\n",
       "       [ 0.        ]])"
      ]
     },
     "execution_count": 35,
     "metadata": {},
     "output_type": "execute_result"
    }
   ],
   "source": [
    "from sklearn.preprocessing import StandardScaler\n",
    "\n",
    "scaler = StandardScaler()\n",
    "scaler.fit_transform(X1.f3.values.reshape(-1, 1))"
   ]
  },
  {
   "cell_type": "markdown",
   "metadata": {},
   "source": [
    "Como previsto, o valor da quarta feature é zero<br>\n",
    " ![](Picture%204.png)<br>\n",
    "Ouput do standard scaling feature 3"
   ]
  },
  {
   "cell_type": "markdown",
   "metadata": {},
   "source": [
    "#### f) Escala MinMax<br>\n",
    "O MinMaxScaler transforma features, dimensionando cada recurso para um determinado intervalo. Esse intervalo pode ser definido especificando o parâmetro feature_range (padrão em (0,1)). Este scaler funciona melhor para casos em que a distribuição não é gaussiana ou o desvio padrão é muito pequeno. No entanto, é sensível a discrepâncias, portanto, se houver discrepâncias nos dados, convém considerar outro dimensionador.<br>\n",
    "x_scaled = (x-min(x)) / (max(x)–min(x))<br>\n",
    "Importar e usar o MinMaxScaler funciona — assim como todos os scalers a seguir — exatamente da mesma maneira que o StandardScaler. A única diferença está nos parâmetros na inicialização de uma nova instância.<br>\n",
    "Aqui escalamos a feature 3 (f3) para uma escala entre -3 e 3. Como esperado, nosso valor máximo (25) é transformado em 3 e nosso valor mínimo (-1) é transformado em -3. Todos os outros valores são escalados linearmente entre esses valores."
   ]
  },
  {
   "cell_type": "code",
   "execution_count": 19,
   "metadata": {},
   "outputs": [
    {
     "data": {
      "text/plain": [
       "array([[-0.92307692],\n",
       "       [ 3.        ],\n",
       "       [-3.        ],\n",
       "       [-0.30769231]])"
      ]
     },
     "execution_count": 19,
     "metadata": {},
     "output_type": "execute_result"
    }
   ],
   "source": [
    "from sklearn.preprocessing import MinMaxScaler\n",
    "\n",
    "scaler = MinMaxScaler(feature_range=(-3,3))\n",
    "scaler.fit_transform(X1.f3.values.reshape(-1, 1))"
   ]
  },
  {
   "cell_type": "markdown",
   "metadata": {},
   "source": [
    "![](Picture%205.png)<br>\n",
    "Feature 3 antes e depois de aplicado o MinMaxScaler"
   ]
  },
  {
   "cell_type": "markdown",
   "metadata": {},
   "source": [
    "#### g) Escala MaxAbs<br>\n",
    "O MaxAbsScaler funciona de maneira muito semelhante ao MinMaxScaler, mas dimensiona automaticamente os dados para um intervalo [-1,1] com base no máximo absoluto. Este scaler destina-se a dados que já estão centrados em zero ou dados esparsos. Ele não desloca/centraliza os dados e, portanto, não destrói nenhuma dispersão.<br>\n",
    "x_scaled = x / max(abs(x))<br>\n",
    "Vamos mais uma vez abordar o feature 3 transformando-o usando o MaxAbsScaler e comparando a saída com os dados originais."
   ]
  },
  {
   "cell_type": "code",
   "execution_count": 36,
   "metadata": {},
   "outputs": [
    {
     "data": {
      "text/plain": [
       "array([[ 0.32      ],\n",
       "       [ 1.        ],\n",
       "       [-0.04      ],\n",
       "       [ 0.42666667]])"
      ]
     },
     "execution_count": 36,
     "metadata": {},
     "output_type": "execute_result"
    }
   ],
   "source": [
    "from sklearn.preprocessing import MaxAbsScaler\n",
    "\n",
    "scaler = MaxAbsScaler()\n",
    "scaler.fit_transform(X1.f3.values.reshape(-1, 1))"
   ]
  },
  {
   "cell_type": "markdown",
   "metadata": {},
   "source": [
    "![](Picture%206.png)\n",
    "<br>\n",
    "Feature 3 antes e depois de aplicado o MaxAbsScaler"
   ]
  },
  {
   "cell_type": "markdown",
   "metadata": {},
   "source": [
    "#### 7. Escala Robusta<br>\n",
    "Se os seus dados contiverem muitos valores discrepantes, o dimensionamento usando a média e o desvio padrão dos dados provavelmente não funcionará muito bem. Nesses casos, pode usar o RobustScaler. Ele remove a mediana e dimensiona os dados de acordo com o intervalo de quantil. A fórmula exata do RobustScaler não é especificada pela documentação. Se quiser detalhes completos, pode sempre verificar o código-fonte.<br>\n",
    "Por padrão, o scaler usa o Inter Quartile Range (IQR), que é o intervalo entre o 1º quartil e o 3º quartil. O intervalo de quantil pode ser definido manualmente especificando o parâmetro quantile_range ao iniciar uma nova instância do RobustScaler. Aqui, transformamos o feature 3 usando uma faixa de quantil de 10% a 90%."
   ]
  },
  {
   "cell_type": "code",
   "execution_count": 37,
   "metadata": {},
   "outputs": [
    {
     "data": {
      "text/plain": [
       "array([[ -6.17283951],\n",
       "       [ 72.5308642 ],\n",
       "       [-47.83950617],\n",
       "       [  6.17283951]])"
      ]
     },
     "execution_count": 37,
     "metadata": {},
     "output_type": "execute_result"
    }
   ],
   "source": [
    "from sklearn.preprocessing import RobustScaler\n",
    "\n",
    "robust = RobustScaler(quantile_range = (0.1,0.9))\n",
    "robust.fit_transform(X1.f3.values.reshape(-1, 1))"
   ]
  },
  {
   "cell_type": "markdown",
   "metadata": {},
   "source": [
    "#### 8. Normalização<br>\n",
    "A normalização é o processo de dimensionar amostras individuais para ter uma norma unitária. Em termos básicos, precisa normalizar os dados quando o algoritmo prevê com base nas relações ponderadas formadas entre os pontos de dados. Dimensionar entradas para normas de unidade é uma operação comum para classificação ou agrupamento de texto.<br>\n",
    "Uma das principais diferenças entre o dimensionamento (por exemplo, padronização) e a normalização é que a normalização é uma operação de linha, enquanto o dimensionamento é uma operação de coluna.<br>\n",
    "Embora existam muitas outras maneiras de normalizar os dados, o sklearn fornece três normas (o valor com o qual os valores individuais são comparados): l1, l2 e max.<br>\n",
    "Ao criar uma nova instância da classe Normalizer, pode especificar a norma desejada no parâmetro norma.<br>\n",
    "Abaixo, as fórmulas para as normas disponíveis são discutidas e implementadas em código Python — onde o resultado é uma lista de denominadores para cada amostra no conjunto de dados X .<br>\n",
    "'máximo'<br>\n",
    " \n",
    "A norma max usa o máximo absoluto e faz para amostras o que o MaxAbsScaler faz para recursos.<br>\n",
    "x_normalized = x / max(x)"
   ]
  },
  {
   "cell_type": "code",
   "execution_count": 22,
   "metadata": {},
   "outputs": [
    {
     "data": {
      "text/html": [
       "<div>\n",
       "<style scoped>\n",
       "    .dataframe tbody tr th:only-of-type {\n",
       "        vertical-align: middle;\n",
       "    }\n",
       "\n",
       "    .dataframe tbody tr th {\n",
       "        vertical-align: top;\n",
       "    }\n",
       "\n",
       "    .dataframe thead th {\n",
       "        text-align: right;\n",
       "    }\n",
       "</style>\n",
       "<table border=\"1\" class=\"dataframe\">\n",
       "  <thead>\n",
       "    <tr style=\"text-align: right;\">\n",
       "      <th></th>\n",
       "      <th>f1</th>\n",
       "      <th>f2</th>\n",
       "      <th>f3</th>\n",
       "    </tr>\n",
       "  </thead>\n",
       "  <tbody>\n",
       "    <tr>\n",
       "      <th>0</th>\n",
       "      <td>5.0</td>\n",
       "      <td>7.0</td>\n",
       "      <td>8.000000</td>\n",
       "    </tr>\n",
       "    <tr>\n",
       "      <th>1</th>\n",
       "      <td>-5.0</td>\n",
       "      <td>0.0</td>\n",
       "      <td>25.000000</td>\n",
       "    </tr>\n",
       "    <tr>\n",
       "      <th>2</th>\n",
       "      <td>0.0</td>\n",
       "      <td>1.0</td>\n",
       "      <td>-1.000000</td>\n",
       "    </tr>\n",
       "    <tr>\n",
       "      <th>3</th>\n",
       "      <td>0.0</td>\n",
       "      <td>0.0</td>\n",
       "      <td>10.666667</td>\n",
       "    </tr>\n",
       "  </tbody>\n",
       "</table>\n",
       "</div>"
      ],
      "text/plain": [
       "    f1   f2         f3\n",
       "0  5.0  7.0   8.000000\n",
       "1 -5.0  0.0  25.000000\n",
       "2  0.0  1.0  -1.000000\n",
       "3  0.0  0.0  10.666667"
      ]
     },
     "execution_count": 22,
     "metadata": {},
     "output_type": "execute_result"
    }
   ],
   "source": [
    "X1"
   ]
  },
  {
   "cell_type": "code",
   "execution_count": 23,
   "metadata": {},
   "outputs": [
    {
     "data": {
      "text/plain": [
       "[8.0, 25.0, 1.0, 10.666666666666666]"
      ]
     },
     "execution_count": 23,
     "metadata": {},
     "output_type": "execute_result"
    }
   ],
   "source": [
    "norm_max = list(max(list(abs(i) for i in X1.iloc[r])) for r in range(len(X1)))\n",
    "norm_max"
   ]
  },
  {
   "cell_type": "markdown",
   "metadata": {},
   "source": [
    "#### h) l1<br>\n",
    "A norma l1 usa a soma de todos os valores como e, portanto, dá penalidades iguais a todos os parâmetros, reforçando a esparsidade.<br>\n",
    "x_normalized = x / soma(X)"
   ]
  },
  {
   "cell_type": "code",
   "execution_count": 24,
   "metadata": {},
   "outputs": [
    {
     "data": {
      "text/plain": [
       "[20.0, 30.0, 2.0, 10.666666666666666]"
      ]
     },
     "execution_count": 24,
     "metadata": {},
     "output_type": "execute_result"
    }
   ],
   "source": [
    "norm_l1 = list(sum(list(abs(i) for i in X1.iloc[r])) for r in range(len(X1)))\n",
    "norm_l1"
   ]
  },
  {
   "cell_type": "markdown",
   "metadata": {},
   "source": [
    "#### i) l2<br>\n",
    "A norma l2 usa a raiz quadrada da soma de todos os valores quadrados. Isso cria suavidade e invariância rotacional. Alguns modelos, como o PCA, assumem invariância rotacional e, portanto, l2 terá um desempenho melhor.<br>\n",
    "x_normalized = x / sqrt(soma((i**2) for i in X))"
   ]
  },
  {
   "cell_type": "code",
   "execution_count": 25,
   "metadata": {},
   "outputs": [
    {
     "data": {
      "text/plain": [
       "[11.74734012447073, 25.495097567963924, 1.4142135623730951, 10.666666666666666]"
      ]
     },
     "execution_count": 25,
     "metadata": {},
     "output_type": "execute_result"
    }
   ],
   "source": [
    "import math\n",
    "norm_l2 = list(math.sqrt(sum(list((i**2) for i in X1.iloc[r]))) for r in range(len(X1)))\n",
    "norm_l2"
   ]
  }
 ],
 "metadata": {
  "kernelspec": {
   "display_name": "venv",
   "language": "python",
   "name": "python3"
  },
  "language_info": {
   "codemirror_mode": {
    "name": "ipython",
    "version": 3
   },
   "file_extension": ".py",
   "mimetype": "text/x-python",
   "name": "python",
   "nbconvert_exporter": "python",
   "pygments_lexer": "ipython3",
   "version": "3.9.6"
  }
 },
 "nbformat": 4,
 "nbformat_minor": 2
}
