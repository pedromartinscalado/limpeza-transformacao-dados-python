{
 "cells": [
  {
   "cell_type": "markdown",
   "metadata": {},
   "source": [
    "# Iris"
   ]
  },
  {
   "cell_type": "markdown",
   "metadata": {},
   "source": [
    "### Introdução:\n",
    "\n",
    "Exercício de tratamento de dados.\n",
    "\n",
    "### Passo 1. Importe as bibliotecas necessárias"
   ]
  },
  {
   "cell_type": "code",
   "execution_count": 25,
   "metadata": {
    "collapsed": false
   },
   "outputs": [
    {
     "name": "stdout",
     "output_type": "stream",
     "text": [
      "2.2.3\n",
      "2.2.3\n"
     ]
    }
   ],
   "source": [
    "import pandas as pd\n",
    "import numpy as np\n",
    "print(pd.__version__)\n",
    "print(np.__version__)"
   ]
  },
  {
   "cell_type": "markdown",
   "metadata": {},
   "source": [
    "### Passo 2. Importe o conjunto de dados deste endereço - https://archive.ics.uci.edu/ml/machine-learning-databases/iris/iris.data."
   ]
  },
  {
   "cell_type": "code",
   "execution_count": 26,
   "metadata": {},
   "outputs": [
    {
     "name": "stdout",
     "output_type": "stream",
     "text": [
      "   sepal_length  sepal_width  petal_length  petal_width      species\n",
      "0           5.1          3.5           1.4          0.2  Iris-setosa\n",
      "1           4.9          3.0           1.4          0.2  Iris-setosa\n",
      "2           4.7          3.2           1.3          0.2  Iris-setosa\n",
      "3           4.6          3.1           1.5          0.2  Iris-setosa\n",
      "4           5.0          3.6           1.4          0.2  Iris-setosa\n"
     ]
    }
   ],
   "source": [
    "\n",
    "url = \"https://archive.ics.uci.edu/ml/machine-learning-databases/iris/iris.data\"\n",
    "\n",
    "# nomes das colunas\n",
    "colunas = ['sepal_length', 'sepal_width', 'petal_length', 'petal_width', 'species']\n",
    "\n",
    "# Carregar os dados\n",
    "iris_df = pd.read_csv(url, header=None, names=colunas)\n",
    "\n",
    "# Exibir\n",
    "print(iris_df.head())\n"
   ]
  },
  {
   "cell_type": "markdown",
   "metadata": {},
   "source": [
    "### Passo 3. Atribua-o a uma variável chamada iris"
   ]
  },
  {
   "cell_type": "code",
   "execution_count": 27,
   "metadata": {
    "collapsed": false
   },
   "outputs": [],
   "source": [
    "# iris = pd.read_csv(url)\n",
    "iris = pd.read_csv('iris.csv')"
   ]
  },
  {
   "cell_type": "markdown",
   "metadata": {},
   "source": [
    "### Passo 4. Criar colunas para o conjunto de dados"
   ]
  },
  {
   "cell_type": "code",
   "execution_count": 28,
   "metadata": {
    "collapsed": false
   },
   "outputs": [
    {
     "name": "stdout",
     "output_type": "stream",
     "text": [
      "   sepal_length  sepal_width  petal_length  petal_width      species\n",
      "0           5.1          3.5           1.4          0.2  Iris-setosa\n",
      "1           4.9          3.0           1.4          0.2  Iris-setosa\n",
      "2           4.7          3.2           1.3          0.2  Iris-setosa\n",
      "3           4.6          3.1           1.5          0.2  Iris-setosa\n",
      "4           5.0          3.6           1.4          0.2  Iris-setosa\n"
     ]
    }
   ],
   "source": [
    "# 1. sepal_length (em cm)\n",
    "# 2. sepal_width (em cm)\n",
    "# 3. petal_length (em cm)\n",
    "# 4. petal_width (em cm)\n",
    "# 5. class\n",
    "url = \"https://archive.ics.uci.edu/ml/machine-learning-databases/iris/iris.data\"\n",
    "\n",
    "# nomes das colunas\n",
    "colunas = ['sepal_length', 'sepal_width', 'petal_length', 'petal_width', 'species']\n",
    "\n",
    "# Carregar os dados\n",
    "iris_df = pd.read_csv(url, header=None, names=colunas)\n",
    "\n",
    "# Exibir as primeiras linhas do DataFrame\n",
    "print(iris_df.head())\n"
   ]
  },
  {
   "cell_type": "markdown",
   "metadata": {},
   "source": [
    "### Passo 5. Falta algum valor no dataframe?"
   ]
  },
  {
   "cell_type": "code",
   "execution_count": 29,
   "metadata": {
    "collapsed": false
   },
   "outputs": [
    {
     "name": "stdout",
     "output_type": "stream",
     "text": [
      "sepal_length    0\n",
      "sepal_width     0\n",
      "petal_length    0\n",
      "petal_width     0\n",
      "species         0\n",
      "dtype: int64\n"
     ]
    }
   ],
   "source": [
    "# Verifica se há valores em falta no DataFrame\n",
    "emfalta = iris_df.isnull().sum()\n",
    "\n",
    "# Exibe a quantidade de valores em falta por coluna\n",
    "print(emfalta)\n"
   ]
  },
  {
   "cell_type": "markdown",
   "metadata": {},
   "source": [
    "### Passo 6. Vamos definir os valores das linhas 10 a 29 da coluna 'comprimento da pétala' para NaN"
   ]
  },
  {
   "cell_type": "code",
   "execution_count": 30,
   "metadata": {
    "collapsed": false
   },
   "outputs": [
    {
     "name": "stdout",
     "output_type": "stream",
     "text": [
      "    sepal_length  sepal_width  petal_length  petal_width      species\n",
      "10           5.4          3.7           NaN          0.2  Iris-setosa\n",
      "11           4.8          3.4           NaN          0.2  Iris-setosa\n",
      "12           4.8          3.0           NaN          0.1  Iris-setosa\n",
      "13           4.3          3.0           NaN          0.1  Iris-setosa\n",
      "14           5.8          4.0           NaN          0.2  Iris-setosa\n",
      "15           5.7          4.4           NaN          0.4  Iris-setosa\n",
      "16           5.4          3.9           NaN          0.4  Iris-setosa\n",
      "17           5.1          3.5           NaN          0.3  Iris-setosa\n",
      "18           5.7          3.8           NaN          0.3  Iris-setosa\n",
      "19           5.1          3.8           NaN          0.3  Iris-setosa\n",
      "20           5.4          3.4           NaN          0.2  Iris-setosa\n",
      "21           5.1          3.7           NaN          0.4  Iris-setosa\n",
      "22           4.6          3.6           NaN          0.2  Iris-setosa\n",
      "23           5.1          3.3           NaN          0.5  Iris-setosa\n",
      "24           4.8          3.4           NaN          0.2  Iris-setosa\n",
      "25           5.0          3.0           NaN          0.2  Iris-setosa\n",
      "26           5.0          3.4           NaN          0.4  Iris-setosa\n",
      "27           5.2          3.5           NaN          0.2  Iris-setosa\n",
      "28           5.2          3.4           NaN          0.2  Iris-setosa\n",
      "29           4.7          3.2           NaN          0.2  Iris-setosa\n"
     ]
    }
   ],
   "source": [
    "# Definir os valores entre 10 a 29 da coluna 'petal_length' para NaN\n",
    "iris_df.loc[10:29, 'petal_length'] = np.nan\n",
    "\n",
    "# Exibir as linhas 10 a 29 para verificar as alterações\n",
    "print(iris_df[10:30])  # Exibe as linhas 10 a 29\n"
   ]
  },
  {
   "cell_type": "markdown",
   "metadata": {},
   "source": [
    "### Passo 7. Vamos agora substituir os valores NaN por 1,0"
   ]
  },
  {
   "cell_type": "code",
   "execution_count": 31,
   "metadata": {},
   "outputs": [
    {
     "name": "stdout",
     "output_type": "stream",
     "text": [
      "     sepal_length  sepal_width  petal_length  petal_width         species\n",
      "0             5.1          3.5           1.4          0.2     Iris-setosa\n",
      "1             4.9          3.0           1.4          0.2     Iris-setosa\n",
      "2             4.7          3.2           1.3          0.2     Iris-setosa\n",
      "3             4.6          3.1           1.5          0.2     Iris-setosa\n",
      "4             5.0          3.6           1.4          0.2     Iris-setosa\n",
      "..            ...          ...           ...          ...             ...\n",
      "145           6.7          3.0           5.2          2.3  Iris-virginica\n",
      "146           6.3          2.5           5.0          1.9  Iris-virginica\n",
      "147           6.5          3.0           5.2          2.0  Iris-virginica\n",
      "148           6.2          3.4           5.4          2.3  Iris-virginica\n",
      "149           5.9          3.0           5.1          1.8  Iris-virginica\n",
      "\n",
      "[150 rows x 5 columns]\n"
     ]
    }
   ],
   "source": [
    "iris_df.fillna(1.0, inplace=True)\n",
    "\n",
    "print(iris_df)"
   ]
  },
  {
   "cell_type": "markdown",
   "metadata": {},
   "source": [
    "### Passo 8. Vamos eliminar a coluna class"
   ]
  },
  {
   "cell_type": "code",
   "execution_count": 32,
   "metadata": {},
   "outputs": [
    {
     "name": "stdout",
     "output_type": "stream",
     "text": [
      "   sepal_length  sepal_width  petal_length  petal_width\n",
      "0           5.1          3.5           1.4          0.2\n",
      "1           4.9          3.0           1.4          0.2\n",
      "2           4.7          3.2           1.3          0.2\n",
      "3           4.6          3.1           1.5          0.2\n",
      "4           5.0          3.6           1.4          0.2\n"
     ]
    }
   ],
   "source": [
    "del iris_df['species']\n",
    "\n",
    "print(iris_df.head())"
   ]
  },
  {
   "cell_type": "markdown",
   "metadata": {},
   "source": [
    "### Passo 9. Defina as 3 primeiras linhas como NaN"
   ]
  },
  {
   "cell_type": "code",
   "execution_count": 33,
   "metadata": {
    "collapsed": false
   },
   "outputs": [
    {
     "name": "stdout",
     "output_type": "stream",
     "text": [
      "   sepal_length  sepal_width  petal_length  petal_width\n",
      "0           NaN          NaN           NaN          NaN\n",
      "1           NaN          NaN           NaN          NaN\n",
      "2           NaN          NaN           NaN          NaN\n",
      "3           4.6          3.1           1.5          0.2\n",
      "4           5.0          3.6           1.4          0.2\n"
     ]
    }
   ],
   "source": [
    "iris_df.iloc[0:3, :] = np.nan\n",
    "\n",
    "print(iris_df.head())"
   ]
  },
  {
   "cell_type": "markdown",
   "metadata": {},
   "source": [
    "### Passo 10. Apague as linhas que possuem NaN"
   ]
  },
  {
   "cell_type": "code",
   "execution_count": 34,
   "metadata": {
    "collapsed": false
   },
   "outputs": [
    {
     "name": "stdout",
     "output_type": "stream",
     "text": [
      "   sepal_length  sepal_width  petal_length  petal_width\n",
      "3           4.6          3.1           1.5          0.2\n",
      "4           5.0          3.6           1.4          0.2\n",
      "5           5.4          3.9           1.7          0.4\n",
      "6           4.6          3.4           1.4          0.3\n",
      "7           5.0          3.4           1.5          0.2\n"
     ]
    }
   ],
   "source": [
    "iris_df.dropna(how='any', inplace=True)\n",
    "\n",
    "print(iris_df.head())\n"
   ]
  },
  {
   "cell_type": "markdown",
   "metadata": {},
   "source": [
    "### Passo 11. Reponha o índice para que comece novamente com 0"
   ]
  },
  {
   "cell_type": "code",
   "execution_count": 35,
   "metadata": {
    "collapsed": false
   },
   "outputs": [
    {
     "name": "stdout",
     "output_type": "stream",
     "text": [
      "   sepal_length  sepal_width  petal_length  petal_width\n",
      "0           4.6          3.1           1.5          0.2\n",
      "1           5.0          3.6           1.4          0.2\n",
      "2           5.4          3.9           1.7          0.4\n",
      "3           4.6          3.4           1.4          0.3\n",
      "4           5.0          3.4           1.5          0.2\n"
     ]
    }
   ],
   "source": [
    "iris_df.reset_index(drop=True, inplace=True)\n",
    "\n",
    "print(iris_df.head())"
   ]
  }
 ],
 "metadata": {
  "kernelspec": {
   "display_name": "venv",
   "language": "python",
   "name": "python3"
  },
  "language_info": {
   "codemirror_mode": {
    "name": "ipython",
    "version": 3
   },
   "file_extension": ".py",
   "mimetype": "text/x-python",
   "name": "python",
   "nbconvert_exporter": "python",
   "pygments_lexer": "ipython3",
   "version": "3.12.9"
  }
 },
 "nbformat": 4,
 "nbformat_minor": 0
}
