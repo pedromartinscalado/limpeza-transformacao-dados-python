{
 "cells": [
  {
   "cell_type": "markdown",
   "metadata": {},
   "source": [
    "# Wine"
   ]
  },
  {
   "cell_type": "markdown",
   "metadata": {},
   "source": [
    "### Introdução:\n",
    "\n",
    "Este exercício é uma adaptação do conjunto de dados UCI Wine.\n",
    "O único propósito é praticar o tratamento de dados com pandas.\n",
    "\n",
    "### Passo 1. Importe as bibliotecas necessárias"
   ]
  },
  {
   "cell_type": "code",
   "execution_count": 2,
   "metadata": {
    "collapsed": false
   },
   "outputs": [],
   "source": [
    "import pandas as pd\n",
    "import numpy as np"
   ]
  },
  {
   "cell_type": "markdown",
   "metadata": {},
   "source": [
    "### Passo 2. Importe o conjunto de dados deste endereço - https://archive.ics.uci.edu/ml/machine-learning-databases/wine/wine.data."
   ]
  },
  {
   "cell_type": "code",
   "execution_count": 3,
   "metadata": {},
   "outputs": [],
   "source": [
    "url = \"https://archive.ics.uci.edu/ml/machine-learning-databases/wine/wine.data\""
   ]
  },
  {
   "cell_type": "markdown",
   "metadata": {},
   "source": [
    "### Passo 3. Atribua-o a uma variável chamada vinho"
   ]
  },
  {
   "cell_type": "code",
   "execution_count": 4,
   "metadata": {
    "collapsed": false
   },
   "outputs": [
    {
     "name": "stdout",
     "output_type": "stream",
     "text": [
      "   class  alcohol  malic_acid   ash  alcalinity_of_ash  magnesium  \\\n",
      "0      1    14.23        1.71  2.43               15.6        127   \n",
      "1      1    13.20        1.78  2.14               11.2        100   \n",
      "2      1    13.16        2.36  2.67               18.6        101   \n",
      "3      1    14.37        1.95  2.50               16.8        113   \n",
      "4      1    13.24        2.59  2.87               21.0        118   \n",
      "\n",
      "   total_phenols  flavanoids  nonflavanoid_phenols  proanthocyanins  \\\n",
      "0           2.80        3.06                  0.28             2.29   \n",
      "1           2.65        2.76                  0.26             1.28   \n",
      "2           2.80        3.24                  0.30             2.81   \n",
      "3           3.85        3.49                  0.24             2.18   \n",
      "4           2.80        2.69                  0.39             1.82   \n",
      "\n",
      "   color_intensity   hue  od280/od315_of_diluted_wines  proline  \n",
      "0             5.64  1.04                          3.92     1065  \n",
      "1             4.38  1.05                          3.40     1050  \n",
      "2             5.68  1.03                          3.17     1185  \n",
      "3             7.80  0.86                          3.45     1480  \n",
      "4             4.32  1.04                          2.93      735  \n"
     ]
    }
   ],
   "source": [
    "colunas = ['class', 'alcohol', 'malic_acid', 'ash', 'alcalinity_of_ash', 'magnesium',\n",
    "           'total_phenols', 'flavanoids', 'nonflavanoid_phenols', 'proanthocyanins',\n",
    "           'color_intensity', 'hue', 'od280/od315_of_diluted_wines', 'proline']\n",
    "\n",
    "vinho = pd.read_csv(url, header=None, names=colunas)\n",
    "\n",
    "print(vinho.head())\n"
   ]
  },
  {
   "cell_type": "markdown",
   "metadata": {},
   "source": [
    "### Passo 4. Apague a primeira, quarta, sétima, nona, décima primeira, décima terceira e décima quarta colunas"
   ]
  },
  {
   "cell_type": "code",
   "execution_count": 5,
   "metadata": {
    "collapsed": false
   },
   "outputs": [
    {
     "name": "stdout",
     "output_type": "stream",
     "text": [
      "   alcohol  malic_acid  alcalinity_of_ash  magnesium  flavanoids  \\\n",
      "0    14.23        1.71               15.6        127        3.06   \n",
      "1    13.20        1.78               11.2        100        2.76   \n",
      "2    13.16        2.36               18.6        101        3.24   \n",
      "3    14.37        1.95               16.8        113        3.49   \n",
      "4    13.24        2.59               21.0        118        2.69   \n",
      "\n",
      "   proanthocyanins   hue  \n",
      "0             2.29  1.04  \n",
      "1             1.28  1.05  \n",
      "2             2.81  1.03  \n",
      "3             2.18  0.86  \n",
      "4             1.82  1.04  \n"
     ]
    }
   ],
   "source": [
    "vinho.drop(vinho.columns[[0, 3, 6, 8, 10, 12, 13]], axis=1, inplace=True)\n",
    "\n",
    "print(vinho.head())"
   ]
  },
  {
   "cell_type": "markdown",
   "metadata": {},
   "source": [
    "### Passo 5. Atribua as colunas conforme abaixo:\n",
    "\n",
    "Os atributos são (doados por Riccardo Leardi, riclea '@' anchem.unige.it):\n",
    "1) álcool\n",
    "2) ácido_málico\n",
    "3) alcalinidade_das_cinzas\n",
    "4) magnésio\n",
    "5) flavonóides\n",
    "6) proantocianinas\n",
    "7) matiz"
   ]
  },
  {
   "cell_type": "code",
   "execution_count": 6,
   "metadata": {
    "collapsed": false
   },
   "outputs": [
    {
     "name": "stdout",
     "output_type": "stream",
     "text": [
      "   alcohol  malic_acid  ash_alcalinity  magnesium  flavanoids  \\\n",
      "0    14.23        1.71            15.6        127        3.06   \n",
      "1    13.20        1.78            11.2        100        2.76   \n",
      "2    13.16        2.36            18.6        101        3.24   \n",
      "3    14.37        1.95            16.8        113        3.49   \n",
      "4    13.24        2.59            21.0        118        2.69   \n",
      "\n",
      "   proanthocyanins   hue  \n",
      "0             2.29  1.04  \n",
      "1             1.28  1.05  \n",
      "2             2.81  1.03  \n",
      "3             2.18  0.86  \n",
      "4             1.82  1.04  \n"
     ]
    }
   ],
   "source": [
    "vinho.columns = ['alcohol', 'malic_acid', 'ash_alcalinity', 'magnesium', 'flavanoids', 'proanthocyanins', 'hue']\n",
    "\n",
    "print(vinho.head())\n"
   ]
  },
  {
   "cell_type": "markdown",
   "metadata": {},
   "source": [
    "### Passo 6. Defina os valores das 3 primeiras linhas do álcool como NaN"
   ]
  },
  {
   "cell_type": "code",
   "execution_count": 7,
   "metadata": {
    "collapsed": false
   },
   "outputs": [
    {
     "name": "stdout",
     "output_type": "stream",
     "text": [
      "   alcohol  malic_acid  ash_alcalinity  magnesium  flavanoids  \\\n",
      "0      NaN        1.71            15.6        127        3.06   \n",
      "1      NaN        1.78            11.2        100        2.76   \n",
      "2      NaN        2.36            18.6        101        3.24   \n",
      "3    14.37        1.95            16.8        113        3.49   \n",
      "4    13.24        2.59            21.0        118        2.69   \n",
      "\n",
      "   proanthocyanins   hue  \n",
      "0             2.29  1.04  \n",
      "1             1.28  1.05  \n",
      "2             2.81  1.03  \n",
      "3             2.18  0.86  \n",
      "4             1.82  1.04  \n"
     ]
    }
   ],
   "source": [
    "vinho.loc[0:2, 'alcohol'] = np.nan\n",
    "\n",
    "print(vinho.head())"
   ]
  },
  {
   "cell_type": "markdown",
   "metadata": {},
   "source": [
    "### Passo 7. Agora defina o valor das linhas 3 e 4 do magnésio como NaN"
   ]
  },
  {
   "cell_type": "code",
   "execution_count": 8,
   "metadata": {
    "collapsed": false
   },
   "outputs": [
    {
     "name": "stdout",
     "output_type": "stream",
     "text": [
      "   alcohol  malic_acid  ash_alcalinity  magnesium  flavanoids  \\\n",
      "0      NaN        1.71            15.6      127.0        3.06   \n",
      "1      NaN        1.78            11.2      100.0        2.76   \n",
      "2      NaN        2.36            18.6        NaN        3.24   \n",
      "3    14.37        1.95            16.8        NaN        3.49   \n",
      "4    13.24        2.59            21.0      118.0        2.69   \n",
      "\n",
      "   proanthocyanins   hue  \n",
      "0             2.29  1.04  \n",
      "1             1.28  1.05  \n",
      "2             2.81  1.03  \n",
      "3             2.18  0.86  \n",
      "4             1.82  1.04  \n"
     ]
    }
   ],
   "source": [
    "vinho.loc[2:3, 'magnesium'] = np.nan\n",
    "\n",
    "print(vinho.head())"
   ]
  },
  {
   "cell_type": "markdown",
   "metadata": {},
   "source": [
    "### Passo 8. Preencha o valor de NaN com o número 10 em álcool e 100 em magnésio"
   ]
  },
  {
   "cell_type": "code",
   "execution_count": 9,
   "metadata": {
    "collapsed": false
   },
   "outputs": [
    {
     "name": "stdout",
     "output_type": "stream",
     "text": [
      "   alcohol  malic_acid  ash_alcalinity  magnesium  flavanoids  \\\n",
      "0    10.00        1.71            15.6      127.0        3.06   \n",
      "1    10.00        1.78            11.2      100.0        2.76   \n",
      "2    10.00        2.36            18.6      100.0        3.24   \n",
      "3    14.37        1.95            16.8      100.0        3.49   \n",
      "4    13.24        2.59            21.0      118.0        2.69   \n",
      "\n",
      "   proanthocyanins   hue  \n",
      "0             2.29  1.04  \n",
      "1             1.28  1.05  \n",
      "2             2.81  1.03  \n",
      "3             2.18  0.86  \n",
      "4             1.82  1.04  \n"
     ]
    }
   ],
   "source": [
    "vinho['alcohol'] = vinho['alcohol'].fillna(10)\n",
    "vinho['magnesium'] = vinho['magnesium'].fillna(100)\n",
    "\n",
    "print(vinho.head())"
   ]
  },
  {
   "cell_type": "markdown",
   "metadata": {},
   "source": [
    "### Passo 9. Conte o número de valores em falta"
   ]
  },
  {
   "cell_type": "code",
   "execution_count": 10,
   "metadata": {
    "collapsed": false
   },
   "outputs": [
    {
     "name": "stdout",
     "output_type": "stream",
     "text": [
      "alcohol            0\n",
      "malic_acid         0\n",
      "ash_alcalinity     0\n",
      "magnesium          0\n",
      "flavanoids         0\n",
      "proanthocyanins    0\n",
      "hue                0\n",
      "dtype: int64\n"
     ]
    }
   ],
   "source": [
    "valores_faltando = vinho.isna().sum()\n",
    "\n",
    "print(valores_faltando)"
   ]
  },
  {
   "cell_type": "markdown",
   "metadata": {},
   "source": [
    "### Passo 10. Crie uma matriz de 10 números aleatórios até 10"
   ]
  },
  {
   "cell_type": "code",
   "execution_count": 11,
   "metadata": {
    "collapsed": false
   },
   "outputs": [
    {
     "data": {
      "text/plain": [
       "array([6, 7, 2, 0, 3, 9, 0, 7, 0, 0], dtype=int32)"
      ]
     },
     "execution_count": 11,
     "metadata": {},
     "output_type": "execute_result"
    }
   ],
   "source": [
    "matriz = np.random.randint(0, 11, size=10)\n",
    "\n",
    "matriz\n",
    "\n",
    "# matriz = np.random.randint(0, 10, size=10)\n",
    "# matriz"
   ]
  },
  {
   "cell_type": "markdown",
   "metadata": {},
   "source": [
    "### Passo 11. Utilize os números aleatórios que gerou como índice e atribua o valor NaN a cada célula."
   ]
  },
  {
   "cell_type": "code",
   "execution_count": 12,
   "metadata": {
    "collapsed": false
   },
   "outputs": [
    {
     "name": "stdout",
     "output_type": "stream",
     "text": [
      "DataFrame original:\n",
      "          A         B         C         D         E\n",
      "0  0.011120 -0.543450 -0.380424 -0.526349  1.118029\n",
      "1 -0.194323  0.736480 -2.320563 -0.730862 -0.329620\n",
      "2 -1.511837  0.834701 -1.813252 -0.141143 -1.064270\n",
      "3 -0.099289 -0.349239 -1.270975 -0.228409  1.314080\n",
      "4  1.713888  2.760832 -1.741569 -0.456198 -0.070092\n",
      "5  0.469022 -0.026344  0.084499 -1.407287 -1.199024\n",
      "6  0.063180  0.690039 -0.029125 -0.284148  0.149486\n",
      "7  0.488216 -0.123770 -0.708933  0.169168  0.111576\n",
      "8  0.057144  0.108775  1.715927 -0.462127  0.890507\n",
      "9 -1.496286  0.983610  0.713319 -0.196633 -0.662914\n",
      "\n",
      "DataFrame após atribuir NaN:\n",
      "          A         B         C         D         E\n",
      "0  0.011120 -0.543450 -0.380424 -0.526349  1.118029\n",
      "1 -0.194323  0.736480 -2.320563 -0.730862 -0.329620\n",
      "2 -1.511837  0.834701 -1.813252 -0.141143 -1.064270\n",
      "3       NaN       NaN       NaN       NaN       NaN\n",
      "4       NaN       NaN       NaN       NaN       NaN\n",
      "5       NaN       NaN       NaN       NaN       NaN\n",
      "6       NaN       NaN       NaN       NaN       NaN\n",
      "7       NaN       NaN       NaN       NaN       NaN\n",
      "8  0.057144  0.108775  1.715927 -0.462127  0.890507\n",
      "9       NaN       NaN       NaN       NaN       NaN\n"
     ]
    }
   ],
   "source": [
    "matriz = np.random.randint(0, 10, size=10)\n",
    "\n",
    "\n",
    "df = pd.DataFrame(np.random.randn(10, 5), columns=['A', 'B', 'C', 'D', 'E'])\n",
    "\n",
    "print(\"DataFrame original:\")\n",
    "print(df)\n",
    "\n",
    "df.iloc[matriz] = np.nan\n",
    "\n",
    "print(\"\\nDataFrame após atribuir NaN:\")\n",
    "print(df)"
   ]
  },
  {
   "cell_type": "markdown",
   "metadata": {},
   "source": [
    "### Passo 12. Quantos valores em falta temos?"
   ]
  },
  {
   "cell_type": "code",
   "execution_count": 13,
   "metadata": {
    "collapsed": false
   },
   "outputs": [
    {
     "name": "stdout",
     "output_type": "stream",
     "text": [
      "Total de valores em falta (NaN): 30\n"
     ]
    }
   ],
   "source": [
    "valores_faltando = df.isna().sum().sum()\n",
    "\n",
    "print(f\"Total de valores em falta (NaN): {valores_faltando}\")"
   ]
  },
  {
   "cell_type": "markdown",
   "metadata": {},
   "source": [
    "### Passo 13. Apague as linhas que contêm valores em falta"
   ]
  },
  {
   "cell_type": "code",
   "execution_count": 15,
   "metadata": {
    "collapsed": false
   },
   "outputs": [
    {
     "name": "stdout",
     "output_type": "stream",
     "text": [
      "          A         B         C         D         E\n",
      "0  0.011120 -0.543450 -0.380424 -0.526349  1.118029\n",
      "1 -0.194323  0.736480 -2.320563 -0.730862 -0.329620\n",
      "2 -1.511837  0.834701 -1.813252 -0.141143 -1.064270\n",
      "8  0.057144  0.108775  1.715927 -0.462127  0.890507\n"
     ]
    }
   ],
   "source": [
    "df.dropna(axis=0, inplace=True)\n",
    "\n",
    "print(df)"
   ]
  },
  {
   "cell_type": "markdown",
   "metadata": {},
   "source": [
    "### Passo 14. Imprima apenas os valores não nulos em álcool"
   ]
  },
  {
   "cell_type": "code",
   "execution_count": 16,
   "metadata": {
    "collapsed": true
   },
   "outputs": [
    {
     "name": "stdout",
     "output_type": "stream",
     "text": [
      "Colunas após renomeação: Index(['alcohol', 'malic_acid', 'ash_alcalinity', 'magnesium', 'flavanoids'], dtype='object')\n",
      "\n",
      "Valores não nulos na coluna 'alcohol':\n",
      "0   -0.194923\n",
      "1   -0.770311\n",
      "2   -1.283842\n",
      "3   -0.234425\n",
      "4    1.022837\n",
      "5    0.466191\n",
      "6    0.693660\n",
      "7    0.491746\n",
      "8    0.310684\n",
      "9    0.566583\n",
      "Name: alcohol, dtype: float64\n"
     ]
    }
   ],
   "source": [
    "df = pd.DataFrame(np.random.randn(10, 5), columns=['A', 'B', 'C', 'D', 'E'])\n",
    "df.columns = ['alcohol', 'malic_acid', 'ash_alcalinity', 'magnesium', 'flavanoids']\n",
    "print(\"Colunas após renomeação:\", df.columns)\n",
    "\n",
    "print(\"\\nValores não nulos na coluna 'alcohol':\")\n",
    "print(df['alcohol'].dropna())"
   ]
  },
  {
   "cell_type": "markdown",
   "metadata": {},
   "source": [
    "### Passo 15. Reponha o índice para que comece com 0 novamente"
   ]
  },
  {
   "cell_type": "code",
   "execution_count": 17,
   "metadata": {
    "collapsed": false
   },
   "outputs": [
    {
     "name": "stdout",
     "output_type": "stream",
     "text": [
      "    alcohol  malic_acid  ash_alcalinity  magnesium  flavanoids\n",
      "0 -0.194923   -1.141091       -1.030740  -0.408617    1.039021\n",
      "1 -0.770311   -0.565700       -0.073100  -0.696611    0.528360\n",
      "2 -1.283842    0.552210        0.503623   0.297402    0.685534\n",
      "3 -0.234425   -1.996768        0.526692   1.412731   -0.788419\n",
      "4  1.022837    0.733598        0.319476  -0.325861    0.235693\n",
      "5  0.466191    1.081642        0.444004   0.305971    2.141312\n",
      "6  0.693660   -1.450059        0.385480  -1.728390   -0.682898\n",
      "7  0.491746   -0.076036        0.831360  -2.395525   -0.361935\n",
      "8  0.310684    0.816132       -0.977068  -0.197021   -0.920964\n",
      "9  0.566583    0.298368       -0.885698   1.152329   -1.195840\n"
     ]
    }
   ],
   "source": [
    "df.reset_index(drop=True, inplace=True)\n",
    "\n",
    "print(df)"
   ]
  }
 ],
 "metadata": {
  "kernelspec": {
   "display_name": "venv",
   "language": "python",
   "name": "python3"
  },
  "language_info": {
   "codemirror_mode": {
    "name": "ipython",
    "version": 3
   },
   "file_extension": ".py",
   "mimetype": "text/x-python",
   "name": "python",
   "nbconvert_exporter": "python",
   "pygments_lexer": "ipython3",
   "version": "3.12.9"
  }
 },
 "nbformat": 4,
 "nbformat_minor": 0
}
