{
  "cells": [
    {
      "cell_type": "markdown",
      "metadata": {},
      "source": [
        "# **Análise de Dados** <p>\n",
        "**por: @Manuel Viana** - <p>\n",
        "[Página do Curso](https://)"
      ]
    },
    {
      "cell_type": "code",
      "execution_count": null,
      "metadata": {
        "id": "NcZjaTqYz8_E"
      },
      "outputs": [],
      "source": [
        "# Biblioteca para recursos matemáticos\n",
        "import numpy as np\n",
        "\n",
        "# Biblioteca para recursos Graficos\n",
        "import matplotlib.pyplot as plt"
      ]
    },
    {
      "cell_type": "markdown",
      "metadata": {},
      "source": [
        "Gráfico de linhas"
      ]
    },
    {
      "cell_type": "code",
      "execution_count": null,
      "metadata": {},
      "outputs": [],
      "source": [
        "np.random.seed(7)\n",
        "# vetor com numeros inteiros aleatórios entre 1,1500, com 10 amostras\n",
        "y = np.random.randint(low = 1, high = 1500, size = 10)\n",
        "y"
      ]
    },
    {
      "cell_type": "code",
      "execution_count": null,
      "metadata": {},
      "outputs": [],
      "source": [
        "plt.plot(y)"
      ]
    },
    {
      "cell_type": "code",
      "execution_count": null,
      "metadata": {},
      "outputs": [],
      "source": [
        "# insere a primeia linha no plot\n",
        "plt.plot(y, color = \"#749187\", marker = 'o', ms = 5, mec = 'k',\n",
        "         markerfacecolor = 'w', ls = '-.')\n",
        "\n",
        "# insere a segunda linha no plot\n",
        "plt.plot(y*2, marker = '+', color = 'k', ms = 5)\n",
        "\n",
        "# nomes\n",
        "plt.xlabel('Eixo X', color = 'red', size = 12)\n",
        "plt.ylabel('Eixo y')\n",
        "plt.title('Titulo', loc = 'left')\n",
        "\n",
        "# gridlines\n",
        "plt.grid(axis  = 'y', color = 'gray',\n",
        "         linestyle = '--', linewidth = 1,\n",
        "         alpha = 0.8)\n",
        "plt.show() "
      ]
    },
    {
      "cell_type": "markdown",
      "metadata": {},
      "source": [
        "Subplots"
      ]
    },
    {
      "cell_type": "code",
      "execution_count": null,
      "metadata": {},
      "outputs": [],
      "source": [
        "np.random.seed(6)\n",
        "x = np.arange(1, 11)\n",
        "y1 = np.random.randint(1, 400, 10)\n",
        "y2 = np.random.randint(150, 500, 10)\n",
        "y3 = np.random.randint(200, 600, 10)\n",
        "\n",
        "plt.figure(figsize = (15, 5))\n",
        "plt.suptitle('Figura', fontsize = 15)\n",
        "plt.subplot( 1, 3, 1)\n",
        "plt.plot( x, y1, color = 'k')\n",
        "plt.title( 'Subplot 1', pad = 10)\n",
        "plt.xlabel( 'Eixo X')\n",
        "plt.ylabel( 'Eixo Y')\n",
        "\n",
        "plt.subplot( 1, 3, 2)\n",
        "plt.plot( x, y2, color = 'r')\n",
        "plt.title( 'Subplot 2', pad = 10)\n",
        "plt.xlabel( 'Eixo X')\n",
        "plt.ylabel( 'Eixo Y')\n",
        "\n",
        "plt.subplot( 1, 3, 3)\n",
        "plt.plot( x, y3, color = 'g')\n",
        "plt.title( 'Subplot 3', pad = 10)\n",
        "plt.xlabel( 'Eixo X')\n",
        "plt.ylabel( 'Eixo Y')\n",
        "\n",
        "plt.tight_layout( pad = 4)\n",
        "plt.show()"
      ]
    },
    {
      "cell_type": "markdown",
      "metadata": {},
      "source": [
        "Ou em alternativa"
      ]
    },
    {
      "cell_type": "code",
      "execution_count": null,
      "metadata": {},
      "outputs": [],
      "source": [
        "fig, ax = plt.subplots(1, 3, figsize = (15, 5))\n",
        "fig.suptitle('Figura')\n",
        "ax[0].plot(x,y1, color = 'black')\n",
        "ax[1].plot(x,y3, color = 'red')\n",
        "ax[2].plot(x,y1, color = 'green')\n",
        "\n",
        "for i in range(3):\n",
        "    ax[i].set(title = f'Subplot {i+1}', xlabel = 'Eixo X', ylabel = 'Eixo Y')"
      ]
    },
    {
      "cell_type": "markdown",
      "metadata": {},
      "source": [
        "# E agora novos exemplos de plots, incluindo novos gráficos e histogramas"
      ]
    },
    {
      "cell_type": "code",
      "execution_count": null,
      "metadata": {
        "id": "y-k9Wirv0kqn"
      },
      "outputs": [],
      "source": [
        "# Gerar numeros com o numpy\n",
        "Dados_x = np.linspace(0, 10, 200)\n",
        "Dados_y = Dados_x * Dados_x"
      ]
    },
    {
      "cell_type": "code",
      "execution_count": null,
      "metadata": {
        "colab": {
          "base_uri": "https://localhost:8080/",
          "height": 437
        },
        "id": "dEWn56nF0tYH",
        "outputId": "5d34bd1d-c0e5-431e-81b9-20759b670258"
      },
      "outputs": [],
      "source": [
        "# ---- Gráfico Linha com 2 eixos e ajustar os parâmetros\n",
        " \n",
        "# Ajustar a figura\n",
        "plt.figure( \n",
        "          figsize=(10,5), # Ajustar o tamanho do gráfico\n",
        "          facecolor='gray' # Ajustar cor de fundo\n",
        ")\n",
        "\n",
        "# Adicionar eixos\n",
        "Ax = plt.axes()\n",
        "Ax.set_facecolor('white') # Definicao cor de fundo no gráfico\n",
        " \n",
        "# Criar o gráfico e passar parâmetros para ajustes\n",
        "plt.plot(\n",
        "         Dados_x, Dados_y, # Dados do gráficos\n",
        "         color='magenta', # Cor da linha\n",
        "         linewidth=2, # Espessura da linha\n",
        "         markersize=5, # Tamanho do marcador\n",
        "         marker='o', # Tipo do marcados\n",
        "         linestyle='dashed', # Tipo da linha\n",
        "         markeredgecolor='black', # Cor linha do marcador\n",
        ")\n",
        " \n",
        "# Definindo label do eixo x\n",
        "plt.xlabel(\n",
        "            'Eixo x', # nome do label\n",
        "            fontweight='bold', # estilo\n",
        "            fontsize='large', # Tamanho da fonte\n",
        "            fontfamily='fantasy', # Tipo da fonte\n",
        "            color='blue', # Cor da Fonte\n",
        ")\n",
        " \n",
        "# Definir label do eixo y\n",
        "# Mesmo parâmetros pode ser aplicado do 'xlabel'\n",
        "plt.ylabel( 'Eixo y' )\n",
        " \n",
        "# Definindo um titulo\n",
        "plt.title(\n",
        "          'Gráfico Simples', # Título do Gráfico\n",
        "          fontweight='bold', # Estilo da fonte\n",
        "          fontsize='xx-large', # Tamanho da fonte\n",
        "          fontfamily='fantasy', # Tipo da fonte\n",
        "          color='blue', # Cor da Fonte\n",
        ")\n",
        " \n",
        "# Definir as legendas\n",
        "plt.legend(\n",
        "           'Números Aleatórios', # Nome da legenda\n",
        "           loc='upper center', # Posição da legenda\n",
        "           bbox_to_anchor=(1, 0., 0.0, 0.2), # Posição legenda na Figura\n",
        "           fontsize='large', # Tamanho do texto\n",
        "           shadow=True, # Sombra na legenda\n",
        "           borderpad=1, # Bordar da legenda\n",
        ")"
      ]
    },
    {
      "cell_type": "code",
      "execution_count": null,
      "metadata": {
        "colab": {
          "base_uri": "https://localhost:8080/",
          "height": 452
        },
        "id": "YG_DpNDikSaG",
        "outputId": "f4ba7a7b-ab0a-4b5a-c1a2-e3a2c6085f20"
      },
      "outputs": [],
      "source": [
        "# Plotar varios graficos em uma grelha\n",
        "\n",
        "# Definir a dimensão da Grelha\n",
        "Linhas = 2\n",
        "Colunas = 2\n",
        "\n",
        "# Grafico na 1º posição da Grelha\n",
        "plt.subplot( Linhas, Colunas, 1 )\n",
        "plt.plot( Dados_x, 'r--' )\n",
        "plt.title('Grafico 1')\n",
        "\n",
        "# Grafico 2º posição da Grelha\n",
        "plt.subplot( Linhas, Colunas, 2 )\n",
        "plt.plot( Dados_y, 'g-' )\n",
        "plt.title('Grafico 2')\n",
        "\n",
        "# Grafico 3º posição da Grelha\n",
        "plt.subplot( Linhas, Colunas, 3 )\n",
        "plt.plot( Dados_y , 'y-' )\n",
        "plt.title('Grafico 3')\n",
        "\n",
        "# Grafico 4º posição da Grelha - Incluindo 2 eixos\n",
        "plt.subplot( Linhas, Colunas, 4 )\n",
        "plt.plot( Dados_x , 'b--' )\n",
        "plt.plot( Dados_y , 'p--' )\n",
        "plt.title('Grafico 4')"
      ]
    },
    {
      "cell_type": "code",
      "execution_count": null,
      "metadata": {
        "colab": {
          "base_uri": "https://localhost:8080/",
          "height": 444
        },
        "id": "7ULBxgzOZZWm",
        "outputId": "6cbb0441-e68a-4419-df5e-a43d58962b1d"
      },
      "outputs": [],
      "source": [
        "# Grafico com mini grafico acoplado\n",
        "\n",
        "# Criar uma nova figura\n",
        "Figura = plt.figure()\n",
        "\n",
        "# Definir o tamanho do grafico\n",
        "Eixo_1 = Figura.add_axes([0.1, 0.1, 0.8, 0.8])\n",
        "\n",
        "# Definir o tamanho do grafico\n",
        "Eixo_2 = Figura.add_axes([0.2, 0.5, 0.3, 0.3])\n",
        "\n",
        "# Plotar os graficos\n",
        "Eixo_1.plot( Dados_x, Dados_y, 'r--' )\n",
        "Eixo_2.plot( Dados_y, Dados_x, 'y' )"
      ]
    },
    {
      "cell_type": "code",
      "execution_count": null,
      "metadata": {
        "colab": {
          "base_uri": "https://localhost:8080/",
          "height": 396
        },
        "id": "UrLJRFLTpHaU",
        "outputId": "c4bccd67-f755-45c5-a4c2-316e8b9be679"
      },
      "outputs": [],
      "source": [
        "# Grafico de Barras\n",
        "\n",
        "# Criar a figura\n",
        "Figura = plt.figure()\n",
        "\n",
        "# Definir o Tamanho\n",
        "Grafico = Figura.add_axes([0, 0, 0.7, 0.7])\n",
        "\n",
        "# Definir os rotulos\n",
        "Rotulos = ['A', 'B', 'C', 'D', 'E', 'F', 'G', 'H', 'I', 'J']\n",
        "\n",
        "# Gerar o gráfico\n",
        "Grafico.bar(Rotulos,Dados_x[:10])"
      ]
    },
    {
      "cell_type": "code",
      "execution_count": null,
      "metadata": {
        "colab": {
          "base_uri": "https://localhost:8080/",
          "height": 396
        },
        "id": "srdRMKht5Z9N",
        "outputId": "9277f9b1-2cff-4952-c5e1-60eb9830d2bd"
      },
      "outputs": [],
      "source": [
        "# Grafico de Barras com mais eixos\n",
        "\n",
        "# Criar a figura\n",
        "Figura = plt.figure()\n",
        "\n",
        "# Definir o Tamanho\n",
        "Grafico = Figura.add_axes([0, 0, 0.7, 0.7])\n",
        "\n",
        "# Definir os rotulos\n",
        "Rotulos = ['A', 'B', 'C', 'D', 'E', 'F', 'G', 'H', 'I', 'J']\n",
        "\n",
        "# Gerar o gráfico\n",
        "Grafico.bar(Rotulos, Dados_x[:10], color='r')\n",
        "Grafico.bar(Rotulos, Dados_y[:10] * 0.1, color='b')"
      ]
    },
    {
      "cell_type": "code",
      "execution_count": null,
      "metadata": {
        "colab": {
          "base_uri": "https://localhost:8080/",
          "height": 430
        },
        "id": "sZvm1GOM1kRU",
        "outputId": "7f7cd55e-797e-4edb-908e-ecd2dc594386"
      },
      "outputs": [],
      "source": [
        "# Grafico Boxplot\n",
        "plt.boxplot( Dados_y )"
      ]
    },
    {
      "cell_type": "markdown",
      "metadata": {},
      "source": []
    }
  ],
  "metadata": {
    "colab": {
      "collapsed_sections": [],
      "name": "Matplotlib.ipynb",
      "provenance": [],
      "toc_visible": true
    },
    "kernelspec": {
      "display_name": "venv",
      "language": "python",
      "name": "python3"
    },
    "language_info": {
      "codemirror_mode": {
        "name": "ipython",
        "version": 3
      },
      "file_extension": ".py",
      "mimetype": "text/x-python",
      "name": "python",
      "nbconvert_exporter": "python",
      "pygments_lexer": "ipython3",
      "version": "3.9.6"
    }
  },
  "nbformat": 4,
  "nbformat_minor": 0
}
