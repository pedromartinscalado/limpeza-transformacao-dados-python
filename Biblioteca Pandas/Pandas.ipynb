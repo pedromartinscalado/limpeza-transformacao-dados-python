{
  "cells": [
    {
      "cell_type": "markdown",
      "metadata": {},
      "source": [
        "# **Análise de Dados** <p>\n",
        "**por: @Manuel Viana** - <p>\n",
        "[Página do Curso](https://)"
      ]
    },
    {
      "cell_type": "code",
      "execution_count": null,
      "metadata": {
        "id": "Z6ZPN1dLApTO"
      },
      "outputs": [],
      "source": [
        "# Biblioteca para modelagem de dados\n",
        "import pandas as pd"
      ]
    },
    {
      "cell_type": "code",
      "execution_count": null,
      "metadata": {
        "colab": {
          "base_uri": "https://localhost:8080/"
        },
        "id": "QMIKdDhU_npX",
        "outputId": "c800ca25-43f4-44bf-95d2-3407fea0f25a"
      },
      "outputs": [],
      "source": [
        "# Lista com os rotulos\n",
        "Labels = ['1º', '2º', '3º']\n",
        "\n",
        "# Lista com os valores\n",
        "Valores = [10, 20, 30]\n",
        "\n",
        "# Criando a base de dados com as listas\n",
        "Serie = pd.Series( data=Valores, index=Labels )\n",
        "Serie"
      ]
    },
    {
      "cell_type": "code",
      "execution_count": null,
      "metadata": {
        "colab": {
          "base_uri": "https://localhost:8080/"
        },
        "id": "RwUyzVqNCoJ8",
        "outputId": "53256b36-d5a9-49e9-ba67-46d3aff5c335"
      },
      "outputs": [],
      "source": [
        "Serie['1º']"
      ]
    },
    {
      "cell_type": "code",
      "execution_count": null,
      "metadata": {
        "colab": {
          "base_uri": "https://localhost:8080/"
        },
        "id": "XdZSiOZWEd7G",
        "outputId": "f5ddd7b4-a0b9-4049-af76-42d21d153f8e"
      },
      "outputs": [],
      "source": [
        "Serie * 2"
      ]
    },
    {
      "cell_type": "code",
      "execution_count": null,
      "metadata": {
        "colab": {
          "base_uri": "https://localhost:8080/"
        },
        "id": "o3ltMXQ_HGTO",
        "outputId": "cc9c6d32-c83e-4e5d-c4b3-29a9f9ff1b59"
      },
      "outputs": [],
      "source": [
        "Serie_Nova = pd.Series( data=[50,100,150], index=Labels )\n",
        "\n",
        "Serie + Serie_Nova"
      ]
    },
    {
      "cell_type": "code",
      "execution_count": null,
      "metadata": {
        "colab": {
          "base_uri": "https://localhost:8080/",
          "height": 133
        },
        "id": "IyqAUA01CoTF",
        "outputId": "28af719a-dafb-48d3-efde-4fde601b509a"
      },
      "outputs": [],
      "source": [
        "# Criando um dicionário\n",
        "Dicionario = {\n",
        "    'A' : [1, 2, 3],\n",
        "    'B' : [-3, -2, -1],\n",
        "    'C' : [0, 10, 20] }\n",
        "\n",
        "# Criando uma lista com os labels\n",
        "Label = ['1º Linha', '2º Linha', '3º Linha']\n",
        "\n",
        "DataFrame_01 = pd.DataFrame( Dicionario, index=Label )\n",
        "DataFrame_01"
      ]
    },
    {
      "cell_type": "code",
      "execution_count": null,
      "metadata": {
        "colab": {
          "base_uri": "https://localhost:8080/"
        },
        "id": "DzqOJazGCoV-",
        "outputId": "419179b0-f6d9-4915-865c-0c02f387be34"
      },
      "outputs": [],
      "source": [
        "DataFrame_01['A']"
      ]
    },
    {
      "cell_type": "code",
      "execution_count": null,
      "metadata": {
        "colab": {
          "base_uri": "https://localhost:8080/",
          "height": 133
        },
        "id": "ykccrjRJCoYj",
        "outputId": "cd62346a-aaa3-47d7-a282-2d370aff2748"
      },
      "outputs": [],
      "source": [
        "DataFrame_01[['A', 'B']]"
      ]
    },
    {
      "cell_type": "code",
      "execution_count": null,
      "metadata": {
        "colab": {
          "base_uri": "https://localhost:8080/",
          "height": 133
        },
        "id": "9issFUC9CobZ",
        "outputId": "1181e1b6-5fd9-4a3b-db51-8d20cb0a41fb"
      },
      "outputs": [],
      "source": [
        "DataFrame_01['Nova_Coluna'] = DataFrame_01['A'] * DataFrame_01['B']\n",
        "DataFrame_01"
      ]
    },
    {
      "cell_type": "code",
      "execution_count": null,
      "metadata": {
        "colab": {
          "base_uri": "https://localhost:8080/",
          "height": 133
        },
        "id": "ZxFRYqqgb4xk",
        "outputId": "91ad8cac-6950-4b6f-f842-43de25571691"
      },
      "outputs": [],
      "source": [
        "DataFrame_01.drop('Nova_Coluna', axis=1, inplace=True)\n",
        "DataFrame_01"
      ]
    },
    {
      "cell_type": "code",
      "execution_count": null,
      "metadata": {
        "colab": {
          "base_uri": "https://localhost:8080/"
        },
        "id": "mORh8qrPb459",
        "outputId": "3f63a65b-3ae1-43f5-e5f3-09e4a87ad865"
      },
      "outputs": [],
      "source": [
        "DataFrame_01.loc['1º Linha']"
      ]
    },
    {
      "cell_type": "code",
      "execution_count": null,
      "metadata": {
        "colab": {
          "base_uri": "https://localhost:8080/",
          "height": 104
        },
        "id": "NUZ9MDyUeGRs",
        "outputId": "2ddab1ec-04bc-4cb1-c087-09edf24c0fac"
      },
      "outputs": [],
      "source": [
        "DataFrame_01.loc[['1º Linha','3º Linha' ], ['A', 'C']]"
      ]
    },
    {
      "cell_type": "code",
      "execution_count": null,
      "metadata": {
        "colab": {
          "base_uri": "https://localhost:8080/",
          "height": 133
        },
        "id": "ZMd3uw1ceGVa",
        "outputId": "49d41376-a63d-4324-d311-f469573f6584"
      },
      "outputs": [],
      "source": [
        "DataFrame_01.iloc[0:3, 1:]"
      ]
    },
    {
      "cell_type": "code",
      "execution_count": null,
      "metadata": {
        "colab": {
          "base_uri": "https://localhost:8080/",
          "height": 133
        },
        "id": "LP5IICz1eGay",
        "outputId": "6c8accc9-6098-4a9d-8d5c-68cef570d9e4"
      },
      "outputs": [],
      "source": [
        "DataFrame_01 > 0"
      ]
    },
    {
      "cell_type": "code",
      "execution_count": null,
      "metadata": {
        "colab": {
          "base_uri": "https://localhost:8080/"
        },
        "id": "yBKsobtub4-p",
        "outputId": "ab57e9e1-70ca-454a-e96d-35105f334e01"
      },
      "outputs": [],
      "source": [
        "DataFrame_01[ DataFrame_01['A'] > 0 ]['C']"
      ]
    },
    {
      "cell_type": "code",
      "execution_count": null,
      "metadata": {
        "colab": {
          "base_uri": "https://localhost:8080/"
        },
        "id": "pci5Rhx4hZlM",
        "outputId": "250f8cf1-1e5e-4949-9861-03712b0316e3"
      },
      "outputs": [],
      "source": [
        "Filtro = DataFrame_01['C'] > 0\n",
        "DataFrame_02 = DataFrame_01[Filtro]\n",
        "DataFrame_02['A']"
      ]
    },
    {
      "cell_type": "code",
      "execution_count": null,
      "metadata": {
        "colab": {
          "base_uri": "https://localhost:8080/",
          "height": 104
        },
        "id": "ln8L8tw7hZrK",
        "outputId": "235a3beb-cb32-4bf2-a02a-33af6949e2ec"
      },
      "outputs": [],
      "source": [
        "DataFrame_01[\n",
        "  ( DataFrame_01['A'] > 1 ) & ( DataFrame_01['C'] > 0 )\n",
        "]"
      ]
    },
    {
      "cell_type": "code",
      "execution_count": null,
      "metadata": {
        "colab": {
          "base_uri": "https://localhost:8080/",
          "height": 133
        },
        "id": "7Cv-Y7lwhZyz",
        "outputId": "14be21fd-f2cd-4527-d669-3ef327b9e01e"
      },
      "outputs": [],
      "source": [
        "DataFrame_01.reset_index()"
      ]
    },
    {
      "cell_type": "code",
      "execution_count": null,
      "metadata": {
        "colab": {
          "base_uri": "https://localhost:8080/",
          "height": 133
        },
        "id": "vsWequRLhZ2X",
        "outputId": "7df60421-f5b6-4102-e67b-337c3f1bb4e4"
      },
      "outputs": [],
      "source": [
        "DataFrame_01"
      ]
    },
    {
      "cell_type": "code",
      "execution_count": null,
      "metadata": {
        "id": "16FYy2TzhZ5a"
      },
      "outputs": [],
      "source": [
        "# Criando varios dicionarios\n",
        "Dicionario_01 = {'A' : [1, 2, 3], \n",
        "                 'B' : [-32, -21, -15], \n",
        "                 'C' : [60, 10, 20],\n",
        "                 'Chave' : ['AA', 'BB', 'CC'] }\n",
        "\n",
        "Dicionario_02 = {'A' : [6, 7, 8], \n",
        "                 'B' : [-39, -28, -17], \n",
        "                 'C' : [1000, 10, 60],\n",
        "                 'Chave' : ['AA', 'BB', 'CC'] }\n",
        "\n",
        "Dicionario_03 = {'A' : [11, 12, 13], \n",
        "                 'B' : [-39, -22, -11], \n",
        "                 'C' : [30, 10, 20],\n",
        "                 'Chave' : ['AA', 'BB', 'CC'] }\n",
        "\n",
        "# Criando varias listas para serem os labels\n",
        "Label_01 = ['1º Linha', '2º Linha', '3º Linha']\n",
        "Label_02 = ['4º Linha', '5º Linha', '6º Linha']\n",
        "Label_03 = ['7º Linha', '8º Linha', '9º Linha']\n",
        "\n",
        "# Estruturando as bases de dados\n",
        "DataFrame_01 = pd.DataFrame( Dicionario_01, index=Label_01 )\n",
        "DataFrame_02 = pd.DataFrame( Dicionario_02, index=Label_02 )\n",
        "DataFrame_03 = pd.DataFrame( Dicionario_03, index=Label_03 )\n"
      ]
    },
    {
      "cell_type": "code",
      "execution_count": null,
      "metadata": {
        "colab": {
          "base_uri": "https://localhost:8080/",
          "height": 307
        },
        "id": "1ELP9CJ9lkd9",
        "outputId": "55789572-6f9b-4db6-feb7-305016ae15be"
      },
      "outputs": [],
      "source": [
        "pd.concat(\n",
        "  [ DataFrame_01, DataFrame_02, DataFrame_03 ]\n",
        ")"
      ]
    },
    {
      "cell_type": "code",
      "execution_count": null,
      "metadata": {
        "colab": {
          "base_uri": "https://localhost:8080/",
          "height": 133
        },
        "id": "9PgtCgkGlkn8",
        "outputId": "c3e323ae-9b9c-4dbd-ec77-f294c29a7329"
      },
      "outputs": [],
      "source": [
        "pd.merge(\n",
        "  DataFrame_01, DataFrame_02, how='inner', on='Chave'\n",
        ")"
      ]
    },
    {
      "cell_type": "code",
      "execution_count": null,
      "metadata": {
        "colab": {
          "base_uri": "https://localhost:8080/",
          "height": 133
        },
        "id": "sdUW97gOrNaY",
        "outputId": "87fd3fb8-6d1e-4a57-a19d-4159d5fce3cb"
      },
      "outputs": [],
      "source": [
        "# Criando varios dicionarios\n",
        "Dicionario_01 = {'A' : [1, 2, 3], \n",
        "                 'B' : [-32, -21, -15], \n",
        "                 'C' : [60, 10, 20] }\n",
        "\n",
        "Dicionario_02 = {'D' : [6, 7, 8], \n",
        "                 'E' : [-39, -28, -17], \n",
        "                 'F' : [1000, 10, 60] }\n",
        "\n",
        "# Criando varias listas para serem os labels\n",
        "Label_01 = ['1º Linha', '2º Linha', '3º Linha']\n",
        "\n",
        "\n",
        "# Estruturando as bases de dados\n",
        "DataFrame_01 = pd.DataFrame( Dicionario_01, index=Label_01 )\n",
        "DataFrame_02 = pd.DataFrame( Dicionario_02, index=Label_01 )\n",
        "\n",
        "# Aplicando a função join\n",
        "DataFrame_01.join(DataFrame_02)"
      ]
    },
    {
      "cell_type": "code",
      "execution_count": null,
      "metadata": {
        "colab": {
          "base_uri": "https://localhost:8080/",
          "height": 133
        },
        "id": "4CttiZ2HlkuK",
        "outputId": "f9ec8f17-7a3a-49cf-84f0-a5542f695389"
      },
      "outputs": [],
      "source": [
        "import numpy as np"
      ]
    },
    {
      "cell_type": "code",
      "execution_count": null,
      "metadata": {
        "colab": {
          "base_uri": "https://localhost:8080/"
        },
        "id": "qAPH5nmVKdjt",
        "outputId": "286a9da2-a951-4c00-d8a0-460b13751703"
      },
      "outputs": [],
      "source": [
        " Dados = pd.Series( [1,3,5,np.nan,6,8] )\n",
        " Dados"
      ]
    },
    {
      "cell_type": "code",
      "execution_count": null,
      "metadata": {
        "colab": {
          "base_uri": "https://localhost:8080/"
        },
        "id": "Q9digJPVKy1R",
        "outputId": "000e812b-e5b4-43e8-cef0-ede82575ff27"
      },
      "outputs": [],
      "source": [
        "Lista_Datas = pd.date_range('20210101', periods=5)\n",
        "Lista_Datas"
      ]
    },
    {
      "cell_type": "code",
      "execution_count": null,
      "metadata": {
        "colab": {
          "base_uri": "https://localhost:8080/",
          "height": 191
        },
        "id": "yc1T6kIEK5Q3",
        "outputId": "0064a294-c72d-4869-bcfc-374a8952be73"
      },
      "outputs": [],
      "source": [
        "DataFrame_01 = pd.DataFrame( np.random.randn(5,4), \n",
        "                  index=Lista_Datas, \n",
        "                  columns=list( ['A','B','C','D']) )\n",
        "DataFrame_01"
      ]
    },
    {
      "cell_type": "code",
      "execution_count": null,
      "metadata": {
        "colab": {
          "base_uri": "https://localhost:8080/",
          "height": 162
        },
        "id": "KzrgIgahMV9I",
        "outputId": "0585db5a-5cce-4fdc-bba8-b6408a072bbc"
      },
      "outputs": [],
      "source": [
        "Dicionario = {\n",
        "    'A' : 1,\n",
        "    'B' : pd.Timestamp('20210102'),\n",
        "    'C' : pd.Series(1, index=list(range(4)), dtype='float32'),\n",
        "    'D' : np.array([3] * 4, dtype='int32'),\n",
        "    'E' : pd.Categorical( [\"Email\", \"Telefone\", \"Celular\", \"País\"] ),\n",
        "    'F' : pd.Categorical( [\"email@.email.com\", \"(11)4455-4455\", \"(11)922332233\", \"Brasil\"] ),\n",
        "}\n",
        "\n",
        "DataFrame_02 = pd.DataFrame( Dicionario )\n",
        "DataFrame_02"
      ]
    },
    {
      "cell_type": "code",
      "execution_count": null,
      "metadata": {
        "colab": {
          "base_uri": "https://localhost:8080/"
        },
        "id": "YbdLjHNbNDbI",
        "outputId": "64bb4099-c6fd-4185-8d28-eec806d914ff"
      },
      "outputs": [],
      "source": [
        "DataFrame_02.dtypes"
      ]
    },
    {
      "cell_type": "code",
      "execution_count": null,
      "metadata": {
        "colab": {
          "base_uri": "https://localhost:8080/",
          "height": 162
        },
        "id": "_UaMSZNnOhti",
        "outputId": "893029fc-0767-4fc5-83d3-06ab8b793727"
      },
      "outputs": [],
      "source": [
        "DataFrame_02.head()"
      ]
    },
    {
      "cell_type": "code",
      "execution_count": null,
      "metadata": {
        "colab": {
          "base_uri": "https://localhost:8080/",
          "height": 104
        },
        "id": "OwPI1YiqOykT",
        "outputId": "123736dc-b74e-44ca-ae0c-42e547f04910"
      },
      "outputs": [],
      "source": [
        "DataFrame_02.tail(2)"
      ]
    },
    {
      "cell_type": "code",
      "execution_count": null,
      "metadata": {
        "colab": {
          "base_uri": "https://localhost:8080/"
        },
        "id": "vwcMG_elO0VQ",
        "outputId": "7cfc1175-2683-4919-ee11-3e8bd995de75"
      },
      "outputs": [],
      "source": [
        "DataFrame_02.index"
      ]
    },
    {
      "cell_type": "code",
      "execution_count": null,
      "metadata": {
        "colab": {
          "base_uri": "https://localhost:8080/"
        },
        "id": "tcvyT-VSO4OP",
        "outputId": "6f715d64-809a-4f2b-f1a2-fd2e4db1df2b"
      },
      "outputs": [],
      "source": [
        "DataFrame_02.columns"
      ]
    },
    {
      "cell_type": "code",
      "execution_count": null,
      "metadata": {
        "colab": {
          "base_uri": "https://localhost:8080/"
        },
        "id": "AhVgKPyFO6L6",
        "outputId": "7cacbc5a-600e-42af-84d7-9d4461098190"
      },
      "outputs": [],
      "source": [
        "DataFrame_02.values"
      ]
    },
    {
      "cell_type": "code",
      "execution_count": null,
      "metadata": {
        "colab": {
          "base_uri": "https://localhost:8080/",
          "height": 278
        },
        "id": "BumOTyC0O8J0",
        "outputId": "cb728ca2-7d2f-43a2-846b-3e646b0f1360"
      },
      "outputs": [],
      "source": [
        "DataFrame_02.describe()"
      ]
    },
    {
      "cell_type": "code",
      "execution_count": null,
      "metadata": {
        "colab": {
          "base_uri": "https://localhost:8080/",
          "height": 191
        },
        "id": "O1lycNTgO-tM",
        "outputId": "1273687c-6da9-4a28-df5b-cf603947db79"
      },
      "outputs": [],
      "source": [
        "DataFrame_01.sort_index(axis=1, ascending=False)"
      ]
    },
    {
      "cell_type": "code",
      "execution_count": null,
      "metadata": {
        "colab": {
          "base_uri": "https://localhost:8080/",
          "height": 162
        },
        "id": "lGEcRYIO8F_z",
        "outputId": "c866ce8d-2d7e-470f-eaca-6c5bf5d7ab2b"
      },
      "outputs": [],
      "source": [
        "DataFrame_02.sort_values(by='E')"
      ]
    },
    {
      "cell_type": "code",
      "execution_count": null,
      "metadata": {
        "colab": {
          "base_uri": "https://localhost:8080/"
        },
        "id": "vDtGV_dm8Jat",
        "outputId": "9a576f8b-f6dc-4fb9-bc70-c155354e2cb4"
      },
      "outputs": [],
      "source": [
        "DataFrame_01['A']"
      ]
    },
    {
      "cell_type": "code",
      "execution_count": null,
      "metadata": {
        "colab": {
          "base_uri": "https://localhost:8080/",
          "height": 133
        },
        "id": "TfFb2ChK8QZv",
        "outputId": "bc5d05c2-df49-4ff1-9737-5b11acab5a19"
      },
      "outputs": [],
      "source": [
        "DataFrame_01[0:3]"
      ]
    },
    {
      "cell_type": "code",
      "execution_count": null,
      "metadata": {
        "colab": {
          "base_uri": "https://localhost:8080/",
          "height": 104
        },
        "id": "xE7CmXJ-8S_a",
        "outputId": "f5868cbe-ae29-4c4f-88ab-034884dfe06f"
      },
      "outputs": [],
      "source": [
        "DataFrame_01['20210101':'20210102']"
      ]
    },
    {
      "cell_type": "code",
      "execution_count": null,
      "metadata": {
        "colab": {
          "base_uri": "https://localhost:8080/"
        },
        "id": "VYSGg0vl8Z99",
        "outputId": "b3cee7d0-8823-4b5e-d0d4-90185c4a613a"
      },
      "outputs": [],
      "source": [
        "DataFrame_01.loc['20210101']"
      ]
    },
    {
      "cell_type": "code",
      "execution_count": null,
      "metadata": {
        "colab": {
          "base_uri": "https://localhost:8080/",
          "height": 191
        },
        "id": "Ao4y9eUq8e6U",
        "outputId": "85a8d172-34e2-4333-b055-7e01fa051214"
      },
      "outputs": [],
      "source": [
        "DataFrame_01.loc[:,['A','B']]"
      ]
    },
    {
      "cell_type": "code",
      "execution_count": null,
      "metadata": {
        "colab": {
          "base_uri": "https://localhost:8080/"
        },
        "id": "Pa1kEPCG8j8a",
        "outputId": "c7a6fd90-63a9-4925-8ff6-14d3dc40c289"
      },
      "outputs": [],
      "source": [
        "DataFrame_01.iloc[3]"
      ]
    },
    {
      "cell_type": "code",
      "execution_count": null,
      "metadata": {
        "colab": {
          "base_uri": "https://localhost:8080/",
          "height": 104
        },
        "id": "h8gnVdTS8oFY",
        "outputId": "bede3189-0fa8-433f-991a-9961f367ad01"
      },
      "outputs": [],
      "source": [
        "DataFrame_01.iloc[3:5,0:2]"
      ]
    },
    {
      "cell_type": "code",
      "execution_count": null,
      "metadata": {
        "colab": {
          "base_uri": "https://localhost:8080/",
          "height": 133
        },
        "id": "4jPUB5-z8sQL",
        "outputId": "a8489b8d-8655-4ff5-f388-01a841f5bf4b"
      },
      "outputs": [],
      "source": [
        "DataFrame_01[ DataFrame_01.A > 0 ]"
      ]
    },
    {
      "cell_type": "code",
      "execution_count": null,
      "metadata": {
        "colab": {
          "base_uri": "https://localhost:8080/",
          "height": 191
        },
        "id": "dlk8JEiA8zCO",
        "outputId": "8f63fb96-5297-4cfe-fc40-c95a63e2443b"
      },
      "outputs": [],
      "source": [
        "DataFrame_01[ DataFrame_01 > 0 ]"
      ]
    },
    {
      "cell_type": "code",
      "execution_count": null,
      "metadata": {
        "colab": {
          "base_uri": "https://localhost:8080/",
          "height": 191
        },
        "id": "Vffq_mca83pb",
        "outputId": "8b516f5a-8565-4378-f2f7-4afeac386b13"
      },
      "outputs": [],
      "source": [
        "DataFrame_03 = DataFrame_01.copy()\n",
        "DataFrame_03"
      ]
    },
    {
      "cell_type": "code",
      "execution_count": null,
      "metadata": {
        "colab": {
          "base_uri": "https://localhost:8080/",
          "height": 191
        },
        "id": "R1XqOStE9CML",
        "outputId": "d7651980-a905-4e96-f2c7-db169a7f23c8"
      },
      "outputs": [],
      "source": [
        "DataFrame_03['Nova_Coluna'] = ['abc', 'def', 'ghi', 'jkl', 'mno']\n",
        "DataFrame_03"
      ]
    },
    {
      "cell_type": "code",
      "execution_count": null,
      "metadata": {
        "colab": {
          "base_uri": "https://localhost:8080/",
          "height": 104
        },
        "id": "Zf6tIiMy9L7M",
        "outputId": "d1dd7959-4f8c-4789-951b-a00dfb8ab365"
      },
      "outputs": [],
      "source": [
        "DataFrame_03[ DataFrame_03['Nova_Coluna'].isin(['abc', 'mno']) ]"
      ]
    },
    {
      "cell_type": "code",
      "execution_count": null,
      "metadata": {
        "colab": {
          "base_uri": "https://localhost:8080/"
        },
        "id": "lgLJ7dSb9X7z",
        "outputId": "8d99558b-c926-4363-fff6-034fb42f66c9"
      },
      "outputs": [],
      "source": [
        "DataFrame_04 = pd.Series( [1,2,3,4,5,6], \n",
        "                          index=pd.date_range('20210101', periods=6) )\n",
        "DataFrame_04"
      ]
    },
    {
      "cell_type": "code",
      "execution_count": null,
      "metadata": {
        "id": "-yxslsA29mOj"
      },
      "outputs": [],
      "source": [
        "# DataFrame_04.at[ datas[0], 'A'] = 0"
      ]
    },
    {
      "cell_type": "code",
      "execution_count": null,
      "metadata": {
        "id": "eQR4WcUWb-AD"
      },
      "outputs": [],
      "source": [
        "Lista = [ c for c in range(1,50000000) ]"
      ]
    },
    {
      "cell_type": "code",
      "execution_count": null,
      "metadata": {
        "colab": {
          "base_uri": "https://localhost:8080/"
        },
        "id": "nQLIAV9Ob-nC",
        "outputId": "625767a9-8a25-4ab5-c8e4-53edb4e8dbed"
      },
      "outputs": [],
      "source": [
        "%time for i in Lista: pass"
      ]
    },
    {
      "cell_type": "code",
      "execution_count": null,
      "metadata": {
        "colab": {
          "base_uri": "https://localhost:8080/"
        },
        "id": "X-T-0tHNeQA7",
        "outputId": "e8b959e5-ad4e-4dd5-d796-e03d8496285f"
      },
      "outputs": [],
      "source": [
        "%time\n",
        "for c in range(1, 50000000):\n",
        "  pass\n",
        "%time\n"
      ]
    },
    {
      "cell_type": "code",
      "execution_count": null,
      "metadata": {
        "id": "P2aE6kkReVaq"
      },
      "outputs": [],
      "source": []
    }
  ],
  "metadata": {
    "colab": {
      "collapsed_sections": [],
      "name": "Pandas",
      "provenance": []
    },
    "kernelspec": {
      "display_name": "venv",
      "language": "python",
      "name": "python3"
    },
    "language_info": {
      "codemirror_mode": {
        "name": "ipython",
        "version": 3
      },
      "file_extension": ".py",
      "mimetype": "text/x-python",
      "name": "python",
      "nbconvert_exporter": "python",
      "pygments_lexer": "ipython3",
      "version": "3.9.6"
    }
  },
  "nbformat": 4,
  "nbformat_minor": 0
}
