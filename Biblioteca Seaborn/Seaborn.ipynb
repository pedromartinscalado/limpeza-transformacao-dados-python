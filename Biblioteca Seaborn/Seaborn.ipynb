{
  "cells": [
    {
      "cell_type": "markdown",
      "metadata": {
        "id": "S-M0iuEhhUBA"
      },
      "source": [
        "# **Análise de Dados** <p>\n",
        "**por: @Manuel Viana** - <p>\n",
        "[Página do Curso](https://)"
      ]
    },
    {
      "cell_type": "markdown",
      "metadata": {
        "id": "oU2U2MFfhdSt"
      },
      "source": [
        "O Seaborn é uma biblioteca de visualização de dados do Python baseado no Matplotlib. Ele provê uma interface de alto nível para construção de gráficos estatísticos atrativos e informativos.\n",
        "[Site Seaborn org](https://seaborn.pydata.org/)"
      ]
    },
    {
      "cell_type": "code",
      "execution_count": null,
      "metadata": {
        "id": "-L1455uGhUpr"
      },
      "outputs": [],
      "source": [
        "import numpy as np\n",
        "import pandas as pd\n",
        "import seaborn as sns\n",
        "\n",
        "# Definir tema\n",
        "sns.set_theme(style='darkgrid')"
      ]
    },
    {
      "cell_type": "code",
      "execution_count": null,
      "metadata": {
        "colab": {
          "base_uri": "https://localhost:8080/",
          "height": 206
        },
        "id": "yxqBYrbGBAZS",
        "outputId": "019e6ca0-8905-458a-a49c-ae95627991a1"
      },
      "outputs": [],
      "source": [
        "# to use unverified certificates\n",
        "import ssl\n",
        "ssl._create_default_https_context = ssl._create_unverified_context\n",
        "\n",
        "# Dados\n",
        "Base_Dados = sns.load_dataset('tips')\n",
        "\n",
        "# Verificar\n",
        "Base_Dados.head()"
      ]
    },
    {
      "cell_type": "code",
      "execution_count": null,
      "metadata": {
        "id": "InW8gNIfBhZn"
      },
      "outputs": [],
      "source": [
        "# Renomear as colunas\n",
        "Base_Dados.rename( columns={\n",
        "    'total_bill' : 'Total Conta',\n",
        "    'tip' : 'Gorjeta',\n",
        "    'sex' : 'Sexo',\n",
        "    'smoker' : 'Fumador',\n",
        "    'day' : 'Dia da Semana',\n",
        "    'time' : 'Periodo',\n",
        "    'size' : 'Pessoas na Mesa'\n",
        " }, inplace=True )"
      ]
    },
    {
      "cell_type": "code",
      "execution_count": null,
      "metadata": {
        "colab": {
          "base_uri": "https://localhost:8080/",
          "height": 206
        },
        "id": "Dj3rbsm2BhkD",
        "outputId": "ad300d08-aa05-49f5-c2ed-934272aef8f9"
      },
      "outputs": [],
      "source": [
        "Base_Dados.head()"
      ]
    },
    {
      "cell_type": "markdown",
      "metadata": {
        "id": "Ohh4zGKiiEti"
      },
      "source": [
        "**Gráfico relplot**"
      ]
    },
    {
      "cell_type": "code",
      "execution_count": null,
      "metadata": {
        "colab": {
          "base_uri": "https://localhost:8080/",
          "height": 369
        },
        "id": "AXaVuIHJhsNo",
        "outputId": "8da261aa-7f4f-499a-b2fe-a95c3b05af71"
      },
      "outputs": [],
      "source": [
        "# Gráfico relplot\n",
        "# sns.relplot( x='total_bill', y='tip', data=Base_Dados )\n",
        "sns.relplot( x='Total Conta', y='Gorjeta', data=Base_Dados )"
      ]
    },
    {
      "cell_type": "code",
      "execution_count": null,
      "metadata": {
        "colab": {
          "base_uri": "https://localhost:8080/",
          "height": 369
        },
        "id": "KzPyQQN2hzdu",
        "outputId": "62a029d9-72f4-4df7-931c-a040809b8ff0"
      },
      "outputs": [],
      "source": [
        "# Gráfico relplot\n",
        "# Passando outro parametro como classe no gráfico\n",
        "# sns.relplot( x='total_bill', y='tip', data=Base_Dados, hue='sex' )\n",
        "sns.relplot( x='Total Conta', y='Gorjeta', data=Base_Dados, hue='Sexo' )"
      ]
    },
    {
      "cell_type": "code",
      "execution_count": null,
      "metadata": {
        "colab": {
          "base_uri": "https://localhost:8080/",
          "height": 369
        },
        "id": "a4-QgCM_h0wQ",
        "outputId": "e82e132e-92b9-4020-bd5a-507a46b8a124"
      },
      "outputs": [],
      "source": [
        "# Gráfico de Linha com 2 Eixos\n",
        "# sns.relplot( x='total_bill', y='tip', data=Base_Dados, kind='line' )\n",
        "sns.relplot( x='Total Conta', y='Gorjeta', data=Base_Dados, kind='line' )"
      ]
    },
    {
      "cell_type": "code",
      "execution_count": null,
      "metadata": {
        "colab": {
          "base_uri": "https://localhost:8080/",
          "height": 369
        },
        "id": "yG9H7YZAh184",
        "outputId": "42544a79-80bf-4d11-d5a9-aa6226736066"
      },
      "outputs": [],
      "source": [
        "# Gráfico de Linha com 2 Eixos\n",
        "# sns.relplot( x='total_bill', y='tip', data=Base_Dados, \n",
        "#             kind='line', hue='smoker' )\n",
        "sns.relplot( x='Total Conta', y='Gorjeta', data=Base_Dados, \n",
        "            kind='line', hue='Fumador' )"
      ]
    },
    {
      "cell_type": "markdown",
      "metadata": {
        "id": "7oja09nHiIz4"
      },
      "source": [
        "**Gráfico histplot**"
      ]
    },
    {
      "cell_type": "code",
      "execution_count": null,
      "metadata": {
        "colab": {
          "base_uri": "https://localhost:8080/",
          "height": 304
        },
        "id": "XvlzTvXPh3B4",
        "outputId": "928f1f22-031d-4b80-f596-feb22a5cf1fc"
      },
      "outputs": [],
      "source": [
        "# sns.histplot( data=Base_Dados, x='total_bill')\n",
        "sns.histplot( data=Base_Dados, x='Total Conta')\n"
      ]
    },
    {
      "cell_type": "code",
      "execution_count": null,
      "metadata": {
        "colab": {
          "base_uri": "https://localhost:8080/",
          "height": 285
        },
        "id": "1yvu0Krdh32X",
        "outputId": "30c1b4e3-95d3-435f-a7b0-a18468fd28f8"
      },
      "outputs": [],
      "source": [
        "# sns.histplot( data=Base_Dados, x='total_bill', hue='smoker')\n",
        "sns.histplot( data=Base_Dados, x='Total Conta', hue='Fumador')"
      ]
    },
    {
      "cell_type": "markdown",
      "metadata": {
        "id": "SrAoUZ-BiL9y"
      },
      "source": [
        "**Gráfico barplot**"
      ]
    },
    {
      "cell_type": "code",
      "execution_count": null,
      "metadata": {
        "colab": {
          "base_uri": "https://localhost:8080/",
          "height": 285
        },
        "id": "3n-q8Ldjh4q8",
        "outputId": "b5ce058b-e2d0-4057-d2ad-df9080dfe2b6"
      },
      "outputs": [],
      "source": [
        "# sns.barplot( data=Base_Dados, x='sex', y='total_bill', hue='smoker')\n",
        "sns.barplot( data=Base_Dados, x='Sexo', y='Total Conta', hue='Fumador')"
      ]
    },
    {
      "cell_type": "markdown",
      "metadata": {
        "id": "UVq7dROBiNwN"
      },
      "source": [
        "**Gráfico pairplot**"
      ]
    },
    {
      "cell_type": "code",
      "execution_count": null,
      "metadata": {
        "colab": {
          "base_uri": "https://localhost:8080/",
          "height": 550
        },
        "id": "v0Gs3fFIh5cb",
        "outputId": "fbfcc6f9-08c6-47af-af50-da46009f0b08"
      },
      "outputs": [],
      "source": [
        "sns.pairplot( Base_Dados )"
      ]
    },
    {
      "cell_type": "code",
      "execution_count": null,
      "metadata": {
        "colab": {
          "base_uri": "https://localhost:8080/",
          "height": 550
        },
        "id": "eQJD03uEh6pv",
        "outputId": "7f169064-58cd-48bb-bd2c-c89bf55fd332"
      },
      "outputs": [],
      "source": [
        "# sns.pairplot( Base_Dados, hue='sex' )\n",
        "sns.pairplot( Base_Dados, hue='Sexo' )"
      ]
    },
    {
      "cell_type": "code",
      "execution_count": null,
      "metadata": {
        "colab": {
          "base_uri": "https://localhost:8080/",
          "height": 550
        },
        "id": "gz0f2AFah7mP",
        "outputId": "01de16b0-982b-45aa-b0c8-514b2dbada41"
      },
      "outputs": [],
      "source": [
        "sns.pairplot( Base_Dados, kind='kde' )"
      ]
    },
    {
      "cell_type": "markdown",
      "metadata": {
        "id": "rZaqp2iviQJm"
      },
      "source": [
        "**Gráfico boxplot**"
      ]
    },
    {
      "cell_type": "code",
      "execution_count": null,
      "metadata": {
        "colab": {
          "base_uri": "https://localhost:8080/",
          "height": 285
        },
        "id": "mp6hZFlVh8ol",
        "outputId": "74268097-4131-4202-f5f4-bb69e1bb4d0f"
      },
      "outputs": [],
      "source": [
        "# sns.boxplot( data=Base_Dados, x='day', y='total_bill')\n",
        "sns.boxplot( data=Base_Dados, x='Dia da Semana', y='Total Conta')"
      ]
    },
    {
      "cell_type": "code",
      "execution_count": null,
      "metadata": {
        "colab": {
          "base_uri": "https://localhost:8080/",
          "height": 285
        },
        "id": "ZtLcQJSXh9hs",
        "outputId": "e79943c8-06ae-4814-d500-5e9787c5c049"
      },
      "outputs": [],
      "source": [
        "# sns.boxplot( data=Base_Dados, x='day', y='total_bill', hue='sex')\n",
        "sns.boxplot( data=Base_Dados, x='Dia da Semana', y='Total Conta', hue='Sexo')"
      ]
    },
    {
      "cell_type": "markdown",
      "metadata": {
        "id": "cOytkEuciR2-"
      },
      "source": [
        "**Gráfico violinplot**"
      ]
    },
    {
      "cell_type": "code",
      "execution_count": null,
      "metadata": {
        "colab": {
          "base_uri": "https://localhost:8080/",
          "height": 285
        },
        "id": "VZ-JLD8mh-VQ",
        "outputId": "fa2a5c43-a2dd-4250-badc-bf470d3b9f58"
      },
      "outputs": [],
      "source": [
        "# sns.violinplot( data=Base_Dados, x='day', y='total_bill' )\n",
        "sns.violinplot( data=Base_Dados, x='Dia da Semana', y='Total Conta' )"
      ]
    },
    {
      "cell_type": "markdown",
      "metadata": {
        "id": "AyG8qdBOiV0q"
      },
      "source": [
        "**Gráfico swarmplot**"
      ]
    },
    {
      "cell_type": "code",
      "execution_count": null,
      "metadata": {
        "colab": {
          "base_uri": "https://localhost:8080/",
          "height": 285
        },
        "id": "hfwIkw08h_OI",
        "outputId": "19ac83b9-8e91-4150-ddf3-511e3735b88c"
      },
      "outputs": [],
      "source": [
        "# sns.swarmplot(data=Base_Dados, x='total_bill', y='sex' )\n",
        "sns.swarmplot(data=Base_Dados, x='Total Conta', y='Sexo' )"
      ]
    },
    {
      "cell_type": "markdown",
      "metadata": {
        "id": "Cctlc4odiYFD"
      },
      "source": [
        "**Gráfico jointplot**"
      ]
    },
    {
      "cell_type": "code",
      "execution_count": null,
      "metadata": {
        "colab": {
          "base_uri": "https://localhost:8080/",
          "height": 441
        },
        "id": "mBZD_5-NiAVc",
        "outputId": "20c717f7-fd7c-45d4-ed8c-7a66ddcdc0ea"
      },
      "outputs": [],
      "source": [
        "# sns.jointplot( data=Base_Dados, x='total_bill', y='tip')\n",
        "sns.jointplot( data=Base_Dados, x='Total Conta', y='Gorjeta')"
      ]
    }
  ],
  "metadata": {
    "colab": {
      "collapsed_sections": [],
      "name": "03 - Seaborn.ipynb",
      "provenance": []
    },
    "kernelspec": {
      "display_name": "venv",
      "language": "python",
      "name": "python3"
    },
    "language_info": {
      "codemirror_mode": {
        "name": "ipython",
        "version": 3
      },
      "file_extension": ".py",
      "mimetype": "text/x-python",
      "name": "python",
      "nbconvert_exporter": "python",
      "pygments_lexer": "ipython3",
      "version": "3.9.6"
    }
  },
  "nbformat": 4,
  "nbformat_minor": 0
}
