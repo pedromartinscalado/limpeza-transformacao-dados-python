{
  "cells": [
    {
      "cell_type": "markdown",
      "metadata": {
        "id": "u1elsrD7TWdZ"
      },
      "source": [
        "# **Análise de Dados** <p>\n",
        "**por: @Manuel Viana** - <p>\n",
        "[Página do Curso](https://)"
      ]
    },
    {
      "cell_type": "markdown",
      "metadata": {
        "id": "uVOvB9KvVa0U"
      },
      "source": [
        "Programação em Python"
      ]
    },
    {
      "cell_type": "markdown",
      "metadata": {
        "id": "8YZaousxV4_h"
      },
      "source": [
        "Nesse módulo vamos estudar a sintaxe nativa do Python. <p>\n",
        "\n",
        "**Exemplo de 1 jogo** <p>\n",
        "\n",
        "Com base no exemplo que vimos anteriormente:"
      ]
    },
    {
      "cell_type": "code",
      "execution_count": null,
      "metadata": {},
      "outputs": [],
      "source": [
        "# While True\n",
        "# Joginho\n",
        "import random\n",
        "\n",
        "# from datetime import datetime\n",
        "# random.seed(datetime.now().timestamp())\n",
        "\n",
        "while True:\n",
        "\n",
        "  Jogador1 = random.randint(0, 6)\n",
        "  Jogador2 = random.randint(5, 10)\n",
        "\n",
        "  if Jogador1 > Jogador2:\n",
        "    print(Jogador1, '-', Jogador2, 'FINALMENTE !!!!!!!!!!!')\n",
        "    break\n",
        "\n",
        "  else:\n",
        "    print(Jogador1, '-', Jogador2)"
      ]
    },
    {
      "cell_type": "markdown",
      "metadata": {},
      "source": [
        "**Crie um jogo em que:** <p>\n",
        "1. escolher um aleatorio e pedir ao utilizador para adivinhar\n",
        "2. máximo de 3 tentativas\n",
        "3. se escrever \"s\" em vez de um numero terminar o programa\n",
        "4. se o jogo correr por 10 vezes, apresentar quantes vezes acertou no numero"
      ]
    },
    {
      "cell_type": "code",
      "execution_count": null,
      "metadata": {},
      "outputs": [
        {
          "name": "stdout",
          "output_type": "stream",
          "text": [
            "Jogo 1\n",
            "4 - Alto\n",
            "2 - Alto\n",
            "Não conseguiu acertar\n",
            "Jogo 2\n",
            "Desitiu de jogar\n"
          ]
        }
      ],
      "source": [
        "import random\n",
        "\n",
        "from datetime import datetime\n",
        "random.seed(datetime.now().timestamp())\n",
        "\n",
        "# ..."
      ]
    }
  ],
  "metadata": {
    "colab": {
      "collapsed_sections": [],
      "name": "01 - Programação Python.ipynb",
      "provenance": []
    },
    "kernelspec": {
      "display_name": "venv",
      "language": "python",
      "name": "python3"
    },
    "language_info": {
      "codemirror_mode": {
        "name": "ipython",
        "version": 3
      },
      "file_extension": ".py",
      "mimetype": "text/x-python",
      "name": "python",
      "nbconvert_exporter": "python",
      "pygments_lexer": "ipython3",
      "version": "3.9.6"
    }
  },
  "nbformat": 4,
  "nbformat_minor": 0
}
