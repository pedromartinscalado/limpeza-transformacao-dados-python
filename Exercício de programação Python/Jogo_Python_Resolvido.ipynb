{
  "cells": [
    {
      "cell_type": "markdown",
      "metadata": {
        "id": "u1elsrD7TWdZ"
      },
      "source": [
        "# **Análise de Dados** <p>\n",
        "**por: @Manuel Viana** - <p>\n",
        "[Página do Curso](https://)"
      ]
    },
    {
      "cell_type": "markdown",
      "metadata": {
        "id": "uVOvB9KvVa0U"
      },
      "source": [
        "Programação em Python"
      ]
    },
    {
      "cell_type": "markdown",
      "metadata": {
        "id": "8YZaousxV4_h"
      },
      "source": [
        "Nesse módulo vamos estudar a sintaxe nativa do Python. <p>\n",
        "\n",
        "**Exemplo de 1 jogo** <p>\n",
        "\n",
        "Com base no exemplo que vimos anteriormente:"
      ]
    },
    {
      "cell_type": "code",
      "execution_count": null,
      "metadata": {},
      "outputs": [],
      "source": [
        "# While True\n",
        "# Joginho\n",
        "import random\n",
        "\n",
        "# from datetime import datetime\n",
        "# random.seed(datetime.now().timestamp())\n",
        "\n",
        "while True:\n",
        "\n",
        "  Jogador1 = random.randint(0, 6)\n",
        "  Jogador2 = random.randint(5, 10)\n",
        "\n",
        "  if Jogador1 > Jogador2:\n",
        "    print(Jogador1, '-', Jogador2, 'FINALMENTE !!!!!!!!!!!')\n",
        "    break\n",
        "\n",
        "  else:\n",
        "    print(Jogador1, '-', Jogador2)"
      ]
    },
    {
      "cell_type": "markdown",
      "metadata": {},
      "source": [
        "**Crie um jogo em que:** <p>\n",
        "1. escolher um aleatorio e pedir ao utilizador para adivinhar\n",
        "2. máximo de 3 tentativas\n",
        "3. se escrever \"s\" em vez de um numero terminar o programa\n",
        "4. se o jogo correr por 10 vezes, apresentar quantes vezes acertou no numero"
      ]
    },
    {
      "cell_type": "code",
      "execution_count": 2,
      "metadata": {},
      "outputs": [
        {
          "name": "stdout",
          "output_type": "stream",
          "text": [
            "\n",
            "Rodada 1: Tente adivinhar o número entre 1 e 10 (ou escreva 's' para sair)\n",
            "O número é maior!\n",
            "O número é maior!\n",
            "O número é menor!\n",
            "O número era 6.\n",
            "\n",
            "Rodada 2: Tente adivinhar o número entre 1 e 10 (ou escreva 's' para sair)\n",
            "Jogo encerrado pelo utilizador.\n"
          ]
        }
      ],
      "source": [
        "import random\n",
        "\n",
        "from datetime import datetime\n",
        "random.seed(datetime.now().timestamp())\n",
        "\n",
        "import random\n",
        "\n",
        "def jogo():\n",
        "    acertos = 0  # Contador de acertos\n",
        "    rodadas = 0  # Contador de rodadas\n",
        "    \n",
        "    while rodadas < 10: \n",
        "        numero = random.randint(1, 10)  # Escolhe um número aleatório entre 1 e 10\n",
        "        tentativas = 0 # Contador de tentativas\n",
        "        print(f\"\\nRodada {rodadas + 1}: Tente adivinhar o número entre 1 e 10 (ou escreva 's' para sair)\")\n",
        "        \n",
        "        while tentativas < 3: # O jogador tem 3 tentativas\n",
        "            tentativa = input(f\"Tentativa {tentativas + 1}: \")\n",
        "            \n",
        "            if tentativa.lower() == 's': # Se o jogador escrever 's', o jogo termina\n",
        "                print(\"Jogo encerrado pelo utilizador.\")\n",
        "                return\n",
        "            \n",
        "            if not tentativa.isdigit(): # Se a tentativa não for um número\n",
        "                print(\"Por favor, insira um número válido.\")\n",
        "                continue\n",
        "            \n",
        "            tentativa = int(tentativa) # Converte a tentativa para inteiro\n",
        "            \n",
        "            if tentativa == numero: # Se a tentativa for igual ao número\n",
        "                print(\"Parabéns! Acertaste no número!\")\n",
        "                acertos += 1 # Incrementa o contador de acertos\n",
        "                break  # Sai do loop da tentativa\n",
        "            else:\n",
        "                if tentativa < numero: # Se a tentativa for menor que o número\n",
        "                    print(\"O número é maior!\")\n",
        "                else:\n",
        "                    print(\"O número é menor!\")\n",
        "                tentativas += 1 # Incrementa o contador de tentativas\n",
        "        \n",
        "        print(f\"O número era {numero}.\")\n",
        "        rodadas += 1 # Incrementa o contador de rodadas\n",
        "    \n",
        "    print(f\"\\nFim do jogo! Acertaste {acertos} vezes em 10 rodadas.\")\n",
        "\n",
        "# Executar o jogo\n",
        "jogo() "
      ]
    }
  ],
  "metadata": {
    "colab": {
      "collapsed_sections": [],
      "name": "01 - Programação Python.ipynb",
      "provenance": []
    },
    "kernelspec": {
      "display_name": "venv",
      "language": "python",
      "name": "python3"
    },
    "language_info": {
      "codemirror_mode": {
        "name": "ipython",
        "version": 3
      },
      "file_extension": ".py",
      "mimetype": "text/x-python",
      "name": "python",
      "nbconvert_exporter": "python",
      "pygments_lexer": "ipython3",
      "version": "3.12.9"
    }
  },
  "nbformat": 4,
  "nbformat_minor": 0
}
