{
  "cells": [
    {
      "cell_type": "markdown",
      "metadata": {
        "id": "u1elsrD7TWdZ"
      },
      "source": [
        "# **Análise de Dados** <p>\n",
        "**por: @Manuel Viana** - <p>\n",
        "[Página do Curso](https://)"
      ]
    },
    {
      "cell_type": "markdown",
      "metadata": {
        "id": "uVOvB9KvVa0U"
      },
      "source": [
        "Programação em Python"
      ]
    },
    {
      "cell_type": "markdown",
      "metadata": {
        "id": "8YZaousxV4_h"
      },
      "source": [
        "Nesse módulo vamos estudar a sintaxe nativa do Python. <p>\n",
        "\n",
        "**O que é Python?** <p>\n",
        "Python é uma linguagem de programação popular. Foi criada por Guido van Rossum e lançada em 1991.\n",
        "\n",
        "**Python pode ser usado para:**\n",
        "\n",
        "1.   Inteligência Artificial;\n",
        "2.   Machine Learning;\n",
        "3.   Desenvolvimento de Software;\n",
        "4.   Desenvolvimento de aplicações;\n",
        "5.   Automações (RPA);\n",
        "6.   IoT (internet das coisas);\n",
        "7.   Muitas outras.\n",
        "\n",
        "\n",
        "\n",
        "\n",
        "\n"
      ]
    },
    {
      "cell_type": "markdown",
      "metadata": {
        "id": "LeLUmWFPXSQ4"
      },
      "source": [
        "# **1. - Sintaxe básica** <p>\n",
        "Podemos utilizar ' ' (aspas simples) <p>\n",
        "Podemos utilizar \" \" (aspas duplas) <p>\n",
        "Utilizando o \\n para mudar de linha na impressão do valor <p>\n",
        "Usamos o hastgag # para comentar algo"
      ]
    },
    {
      "cell_type": "code",
      "execution_count": null,
      "metadata": {
        "colab": {
          "base_uri": "https://localhost:8080/"
        },
        "id": "6b6jsk5fNIk4",
        "outputId": "f68324e6-28a0-4d2c-9699-02d47f4650be"
      },
      "outputs": [],
      "source": [
        "# Sintaxe básica\n",
        "print('Olá Mundo!!! \\n')\n",
        "print(\"Olá Mundo!!!\")"
      ]
    },
    {
      "cell_type": "markdown",
      "metadata": {
        "id": "YUdY6RPMX9QN"
      },
      "source": [
        "# 2. - Operadores matemáticos <p>\n",
        "Os operadores são usados ​​para realizar operações em variáveis ​​e valores:\n",
        "1. Soma\n",
        "2. Subtração\n",
        "3. Multiplicação\n",
        "4. Divisão\n",
        "5. Exponenciação\n",
        "6. Resto da Divisão\n",
        "7. Divisão Inteira"
      ]
    },
    {
      "cell_type": "code",
      "execution_count": null,
      "metadata": {
        "colab": {
          "base_uri": "https://localhost:8080/"
        },
        "id": "wtpWfqbHmwGr",
        "outputId": "ec4284a1-31fd-44c2-8148-1bc6cdd89f09"
      },
      "outputs": [],
      "source": [
        "# Operadores para cálculos\n",
        "Soma = 1 + 2\n",
        "Subtração = 1 - 1\n",
        "Multiplicação = 2 * 10\n",
        "Divisão = 10 / 2\n",
        "Exponenciação = 2 ** 2\n",
        "Resto_Divisao = 9 % 4\n",
        "Divisao_Inteira = 9 // 4\n",
        "\n",
        "# Print formatado\n",
        "print( 'Somar:{}'.format(Soma) ) \n",
        "print( 'Subtração:', Subtração ) \n",
        "print( f'Multiplacação: {Multiplicação}' )\n",
        "\n",
        "print( 'Divisão', Divisão ) \n",
        "print( 'Exponenciação: {}' .format(Exponenciação) )\n",
        "print( 'Resto_Divisao', Resto_Divisao )\n",
        "print( 'Divisao_Inteira: {}'.format(Divisao_Inteira) )\n",
        "print( 'Varios elementos: {}, {}, {}'.format(Soma, Subtração, Divisão) )"
      ]
    },
    {
      "cell_type": "markdown",
      "metadata": {
        "id": "4eGEIiIoZ5dd"
      },
      "source": [
        "# 3º Variáveis\n",
        "Variáveis ​​são \"containers\" para armazenar valores de dados.<p>\n",
        "Uma variável é criada no momento em que se lhe atribui um valor."
      ]
    },
    {
      "cell_type": "code",
      "execution_count": null,
      "metadata": {
        "colab": {
          "base_uri": "https://localhost:8080/"
        },
        "id": "GYqhWYcVZ71Z",
        "outputId": "a04da33d-8a00-44dc-80ae-854ad100572b"
      },
      "outputs": [],
      "source": [
        "# Tipos de Variaveis\n",
        "Inteiro_Exemplo_1 = int ( 100 )\n",
        "Inteiro_Exemplo_2 = 100\n",
        "\n",
        "Flutuante_Exemplo_1 = 10.50\n",
        "Flutuante_Exemplo_2 = float( 10.50 )\n",
        "\n",
        "Palavra_Exemplo_1 = 'Qualquer Palavra'\n",
        "Palavra_Exemplo_2 = str( 'Qualquer Palavra' )\n",
        "\n",
        "Booleando_Exemplo_1 = True \n",
        "Booleando_Exemplo_2 = False\n",
        "\n",
        "print( Inteiro_Exemplo_1, Inteiro_Exemplo_2 )\n",
        "print( Flutuante_Exemplo_1, Flutuante_Exemplo_2 )\n",
        "print( Palavra_Exemplo_1, Palavra_Exemplo_2 )\n",
        "print( Booleando_Exemplo_1, Booleando_Exemplo_2 )"
      ]
    },
    {
      "cell_type": "markdown",
      "metadata": {
        "id": "EsEsPiS1cGBs"
      },
      "source": [
        "# **4º Tipos de Dados**\n",
        "1. Listas - São criadas usando [ ] (Parenteses retos)\n",
        "2. Tuplas - São criadas usando ( ) (Parenteses)\n",
        "3. Dicionários - São criadas usando { } (Chavetas) <p>\n",
        "Esses tipos de dados podem receber qualquer tipo de informação, inclusive Operações Aritméticas"
      ]
    },
    {
      "cell_type": "code",
      "execution_count": null,
      "metadata": {
        "colab": {
          "base_uri": "https://localhost:8080/"
        },
        "id": "vGLvKYkpqPpJ",
        "outputId": "f5feccc1-f0e9-4356-fb1c-3f105ee90eaf"
      },
      "outputs": [],
      "source": [
        "# Tipos de Dados\n",
        "# Vetores/Listas são mutáveis (modificaveis)\n",
        "Lista_Exemplo_1 = [1, 2, 3, 4, 5]\n",
        "Lista_Exemplo_2 = ['Nome', 'Quarto', 'Morango', 4, 5]\n",
        "Lista_Exemplo_3 = [1, 'Quarto', True, False]\n",
        "\n",
        "# Tuplos são imutaveis (Não modificaveis)\n",
        "Tupla_Exemplo_1 = ( 2, 3, 4, 6 )\n",
        "Tupla_Exemplo_2 = ( 'João', 'Almeida', 4 )\n",
        "\n",
        "# Dicionário são para organizar os dados (Chave, Valor)\n",
        "Dicionario = { 'Nome':'João', 'Idade':29 }\n",
        "\n",
        "print( Lista_Exemplo_1 )\n",
        "print( Lista_Exemplo_2 )\n",
        "print( Lista_Exemplo_3, '\\n' )\n",
        "\n",
        "print( Tupla_Exemplo_1 )\n",
        "print( Tupla_Exemplo_2, '\\n' )\n",
        "\n",
        "print( Dicionario )"
      ]
    },
    {
      "cell_type": "markdown",
      "metadata": {
        "id": "vTq_Y3g5dao5"
      },
      "source": [
        "# 5º Definição de variáveis <p>\n",
        "Podemos definir variáveis e tipos de dados de diversas formas:\n",
        "1. Declarar as variáveis em uma única linha de comando;\n",
        "2. Atribuir um valor à diversas variáveis;\n",
        "3. Declarar usando uma Lista;\n",
        "4. Combinar variáveis;\n",
        "5. Operar com operadores matemáticos;\n",
        "6. Muitos outros.\n",
        "\n"
      ]
    },
    {
      "cell_type": "code",
      "execution_count": null,
      "metadata": {
        "colab": {
          "base_uri": "https://localhost:8080/"
        },
        "id": "S0Y8IKn_svfV",
        "outputId": "cea395cc-9584-4548-a72a-56675f70e92b"
      },
      "outputs": [],
      "source": [
        "# Definição de Variaveis | Exemplo 1\n",
        "Laranja, Melão, Limão = 1, 2, 3\n",
        "print( Laranja, Melão, Limão, '\\n' )\n",
        "\n",
        "# Definição de Variaveis | Exemplo 2\n",
        "Morango = Uva = Kiwi = 100\n",
        "print( Morango, Uva, Kiwi, '\\n' )\n",
        "\n",
        "# Definição de Variaveis | Exemplo 3\n",
        "# Criando uma lista\n",
        "Carros = ['VW', 'GM', 'Ford']\n",
        "\n",
        "# Definição de variaveis com uma lista\n",
        "Marca_01, Marca_02, Marca_03 = Carros\n",
        "print( Marca_03, '\\n' )\n",
        "\n",
        "# Combinando Variaveis | Exemplo 1\n",
        "Nome = 'João'\n",
        "Sobrenome = 'Almeida'\n",
        "Nome_Completo = Nome + ' ' + Sobrenome\n",
        "print( Nome_Completo, '\\n' )\n",
        "\n",
        "# Combinando Variaveis | Exemplo 2\n",
        "Dolar = 0.950\n",
        "Imposto = 0.20\n",
        "Valor_Liquido = Dolar - ( Dolar * Imposto )\n",
        "print( Valor_Liquido )"
      ]
    },
    {
      "cell_type": "markdown",
      "metadata": {
        "id": "4H9ud-NqrKE8"
      },
      "source": [
        "# **6º Tipo da Informação**\n",
        "Na programação, o tipo de dados é um conceito importante.\n",
        "As variáveis ​​podem armazenar dados de diferentes tipos, e diferentes tipos podem fazer coisas diferentes.\n",
        "O Python tem os seguintes tipos de dados integrados por padrão, nestas categorias:\n",
        "1. Text Type: *str*\n",
        "2. Numeric Types:\t*int*, *float*, *complex*\n",
        "3. Sequence Types:\t*list*, *tuple*, *range*\n",
        "4. Mapping Type:\t*dict*\n",
        "5. Set Types:\t*set*, *frozenset*\n",
        "6. Boolean Type:\t*bool*\n",
        "7. Binary Types:\t*bytes*, *bytearray*, *memoryview*\n",
        "\n"
      ]
    },
    {
      "cell_type": "code",
      "execution_count": null,
      "metadata": {
        "colab": {
          "base_uri": "https://localhost:8080/"
        },
        "id": "O0U8I7KargzY",
        "outputId": "14708e39-9e5d-4eb9-d769-0f397d5ed0c0"
      },
      "outputs": [],
      "source": [
        "# Criação de tipos de informações\n",
        "String = str('Olá Mundo!')\n",
        "Inteiro = int(10)\n",
        "Flutuante = float(10.99)\n",
        "Complex = complex(1j)\n",
        "Lista = list( ('Maça', 'Morango', 'Pera') )\n",
        "Tupla = tuple( ('Maça', 'Morango', 'Pera') )\n",
        "Range = range(6)\n",
        "Dicionario = dict(nome='Odemir', age=29)\n",
        "Set = set( ('Maça', 'Morango', 'Pera') )\n",
        "Fronzet = frozenset( ('Maça', 'Morango', 'Pera') )\n",
        "Boleano = bool(5)\n",
        "Bytes = bytes(5)\n",
        "ByteArray = bytearray(5)\n",
        "Memoryview = memoryview( bytes(5) )\n",
        "\n",
        "from datetime import datetime\n",
        "Data = datetime.today().date()\n",
        "\n",
        "# Mostrando os Valores\n",
        "print( type(String) )\n",
        "print( type(Inteiro) )\n",
        "print( type(Flutuante) )\n",
        "print( type(Complex) )\n",
        "print( type(Lista) )\n",
        "print( type(Tupla) )\n",
        "print( type(Range) )\n",
        "print( type(Dicionario) )\n",
        "print( type(Set) )\n",
        "print( type(Fronzet) )\n",
        "print( type(Boleano) )\n",
        "print( type(Bytes) )\n",
        "print( type(ByteArray) )\n",
        "print( type(Memoryview) )\n",
        "print( type(Data) )"
      ]
    },
    {
      "cell_type": "markdown",
      "metadata": {
        "id": "_vyTISBrt9BD"
      },
      "source": [
        "# **7º Função Round**\n",
        "Quando trabalhamos com números com vírgula flutuantes, podemos arredondar o valor usando uma função nativa do Python<p>\n",
        "\n",
        "round( valor, número de casas)"
      ]
    },
    {
      "cell_type": "code",
      "execution_count": null,
      "metadata": {
        "colab": {
          "base_uri": "https://localhost:8080/"
        },
        "id": "rKndFOr9WvP9",
        "outputId": "aa537fdc-d323-4ac8-f4a9-68e91099d8b8"
      },
      "outputs": [],
      "source": [
        "# Função Round\n",
        "# Metodo round, arredonda valores\n",
        "\n",
        "Valor_Exemplo = 12.123456789\n",
        "\n",
        "print( round( Valor_Exemplo, 1 ) )\n",
        "print( round( Valor_Exemplo, 2 ) )\n",
        "print( round( Valor_Exemplo, 3 ) )\n",
        "print( round( Valor_Exemplo, 5 ) )"
      ]
    },
    {
      "cell_type": "markdown",
      "metadata": {
        "id": "nXb3f4OXv1VQ"
      },
      "source": [
        "# **8º Função Len**\n",
        "A função len() retorna a quantidade de elementos de qualquer lista em Python, essa é mais uma função built-in e disponível em qualquer parte dos nossos códigos."
      ]
    },
    {
      "cell_type": "code",
      "execution_count": null,
      "metadata": {
        "colab": {
          "base_uri": "https://localhost:8080/"
        },
        "id": "KVx_s9BywBh6",
        "outputId": "4aa77deb-fb7a-436c-c1aa-38c52f935daa"
      },
      "outputs": [],
      "source": [
        "Lista = [1, 2, 3, 4, 5]\n",
        "Dicionario = { 'Nome':'João', 'Idade':29, 'Vip':False }\n",
        "Tuplo = (10, 20)\n",
        "String = 'Olá Mundo!'\n",
        "\n",
        "print( len(Lista) )\n",
        "print( len(Dicionario) )\n",
        "print( len(Tuplo) )\n",
        "print( len(String) )"
      ]
    },
    {
      "cell_type": "markdown",
      "metadata": {
        "id": "UC0xUa3UurIW"
      },
      "source": [
        "# **9º Fatiamento/Slicing de Strings**\n",
        "Strings são listas de bytes representando caracteres.<p>\n",
        "Podemos aceder às suas posições usando Parenteses retos<p>\n",
        "String [Posição Inicial: Posição Final]"
      ]
    },
    {
      "cell_type": "code",
      "execution_count": null,
      "metadata": {
        "colab": {
          "base_uri": "https://localhost:8080/"
        },
        "id": "lWcimolMu3ag",
        "outputId": "35c77c0d-77f3-4c0f-97a4-792d0930fa69"
      },
      "outputs": [],
      "source": [
        "# Strings\n",
        "Minha_String = 'Aprender python é Top!'\n",
        "print( type(Minha_String) )\n",
        "print( len(Minha_String) )\n",
        "\n",
        "print( Minha_String[0] )\n",
        "print( Minha_String[5] )\n",
        "print( Minha_String[-1] )\n",
        "print( Minha_String[-10:] )\n",
        "print( Minha_String[0:10] )"
      ]
    },
    {
      "cell_type": "markdown",
      "metadata": {
        "id": "IF8GdirtxBrk"
      },
      "source": [
        "# **10° Manipulação de Strings**<p>\n",
        "Um tipo de dados bastante usado no dia a dia são as strings, ou cadeias de caracteres (ou sequências de caracteres). O tipo de dados string, ou str como é chamado em Python, possui várias operações úteis associadas a ele. Essas operações tornam Python uma linguagem bastante propícia para manipulação de textos.\n",
        "Algumas funções mais utilizadas:\n",
        "\n",
        "1. replace()\n",
        "2. startswith()\n",
        "3. endswith()\n",
        "4. count()\n",
        "5. capitalize()\n",
        "6. isdigit()\n",
        "7. isalnum()\n",
        "8. upper()\n",
        "9. lower()\n",
        "10. find ()\n",
        "11. strip()\n",
        "12. split()\n"
      ]
    },
    {
      "cell_type": "code",
      "execution_count": null,
      "metadata": {
        "colab": {
          "base_uri": "https://localhost:8080/"
        },
        "id": "-umu50oqxM54",
        "outputId": "e0c86327-b194-4080-8188-37b4da462dcd"
      },
      "outputs": [],
      "source": [
        "# Imprimindo uma string.\n",
        "String = 'Olá Mundo!'\n",
        "print( String )\n",
        "\n",
        "# Tipo de uma string.\n",
        "print( type( String ) )\n",
        "\n",
        "# Tamanho de uma string.\n",
        "print( len( String ) )\n",
        "\n",
        "# Concatenação\n",
        "print( String + ' Estou a aprender Python...' )\n",
        "\n",
        "# Substitui uma substring por alguma outra coisa.\n",
        "Substituir = String.replace('Mundo', 'Mundo Louco :X')\n",
        "print( Substituir )\n",
        "\n",
        "# A string s começa com \"Olá\"?\n",
        "print( String.startswith('Olá') )\n",
        "\n",
        "# A string termina com \"mundo\"?\n",
        "print( String.endswith('mundo') )\n",
        "\n",
        "# Quantas ocorrências da palavra \"a\" a string possui?\n",
        "print( String.count('M') )\n",
        "\n",
        "# Capitalize - Transformar a primeira letra da primeira palavra em maiúscula.\n",
        "String_02 = 'joão almeida'\n",
        "print( String_02.capitalize() )\n",
        "\n",
        "# Verificar se uma string só possui números.\n",
        "String_03 = '123456789'\n",
        "String_04 = '123456789ABC'\n",
        "print( String_03.isdigit() )\n",
        "print( String_04.isdigit() )\n",
        "\n",
        "# Verificar se uma string é alfanumérica (só possui letras e números).\n",
        "print( '12345abc'.isalnum() )\n",
        "\n",
        "# Transformar tudo em Maiusculo\n",
        "print( String.upper() )\n",
        "\n",
        "# Transformar tudo em Minúsculo\n",
        "print( String.lower() )\n",
        "\n",
        "# Procurar algo na string\n",
        "print( String.find('!') )\n",
        "\n",
        "# Removendo espaçoes antes e fim da palavra\n",
        "String_05 =' Olá Mundo! '\n",
        "print( String_05.strip() )\n",
        "\n",
        "# Removendo espaçoes antes e fim da palavra\n",
        "String_06 ='Loja 1 vendou 10, Loja 2 vendou 20, Loja 3 vendou 30 '\n",
        "print( String_06.split(',') )"
      ]
    },
    {
      "cell_type": "markdown",
      "metadata": {
        "id": "HGzNUJkJ2N7C"
      },
      "source": [
        "# **11º Comando Input**\n",
        "A função input() recebe como parâmetro uma string que será mostrada como auxílio ao utilizador, geralmente informando que tipo de dado o programa está a aguardar receber.\n",
        "\n",
        "input()"
      ]
    },
    {
      "cell_type": "code",
      "execution_count": null,
      "metadata": {
        "colab": {
          "base_uri": "https://localhost:8080/"
        },
        "id": "sksQdzKGiL5P",
        "outputId": "33632c11-2b20-40bb-9d81-49db6c4f9120"
      },
      "outputs": [],
      "source": [
        "# Comando input\n",
        "# Enviar uma informação momentânea\n",
        "\n",
        "Nome = input('Qual seu nome? ')\n",
        "Idade = input('Quantos anos tem? ')\n",
        "\n",
        "print('Seu nome é:', Nome)\n",
        "print('Sua idade:', Idade)"
      ]
    },
    {
      "cell_type": "markdown",
      "metadata": {
        "id": "F9_PeEHo7qKT"
      },
      "source": [
        "# **12º Operadores de Comparação**\n",
        "Os operadores de comparação são usados ​​para comparar dois valores:\n",
        "1. '==' ( Igual a )\n",
        "2. '!=' ( Diferente )\n",
        "3. '>' ( Maior )\n",
        "4. '<' ( Menor )\n",
        "5. '>=' ( Maior igual )\n",
        "6. '<=' ( Menor igual )"
      ]
    },
    {
      "cell_type": "code",
      "execution_count": null,
      "metadata": {
        "colab": {
          "base_uri": "https://localhost:8080/"
        },
        "id": "8AGM8GIlkGlM",
        "outputId": "4e321f2e-50de-4c56-8186-2ff7902fedbb"
      },
      "outputs": [],
      "source": [
        "# Operadores de Comparações - Parte 1\n",
        "Igual = '=='\n",
        "Diferente = '!='\n",
        "Maior = '>'\n",
        "Maior_Igual = '>='\n",
        "Menor = '<'\n",
        "Menor_Igual = '<='\n",
        "\n",
        "print('8 é maior que 7:', 8 > 7 )\n",
        "print('8 é menor que 7:', 8 < 7 )\n",
        "print('8 é igual 7:', 8 == 7 )\n",
        "print('10 é maior 10:', 10 > 10 )\n",
        "print('10 é maior ou igual à 10:', 10 >= 10 )\n",
        "print('10 é menor 10:', 10 < 10 )\n",
        "print('10 é menor ou igual à 10:', 10 <= 10 )"
      ]
    },
    {
      "cell_type": "markdown",
      "metadata": {
        "id": "6Lqd3mrZ8UtD"
      },
      "source": [
        "# **13º Operadores Lógicos**\n",
        "Os operadores lógicos são usados ​​para combinar instruções condicionais:\n",
        "1. and (Retorna True se ambas as declarações forem verdadeiras)\n",
        "2. or (Retorna True se uma das declarações for verdadeira)"
      ]
    },
    {
      "cell_type": "code",
      "execution_count": null,
      "metadata": {
        "colab": {
          "base_uri": "https://localhost:8080/"
        },
        "id": "xntWZ8vN8RkN",
        "outputId": "1dc18ce8-2c00-4cab-aa81-91a421f3a548"
      },
      "outputs": [],
      "source": [
        "# Operadores de Comparações - Parte 2\n",
        "And = 'and'\n",
        "Ou = 'or'\n",
        "Negação = 'not'\n",
        "\n",
        "print('8 é maior que 7 e 7 maior que 8:', 8 > 7 and 7 > 8 )\n",
        "print('8 é maior que 7 e 7 menor que 8:', 8 > 7 and 7 < 8 )\n",
        "print('8 é igual a 7 ou 7 é igual a 8:', 8 == 7 or 7 == 8 )\n",
        "print('8 é maior que 7 ou 7 menor que 8:', 8 > 7 or 7 > 8 )"
      ]
    },
    {
      "cell_type": "markdown",
      "metadata": {
        "id": "52wZm8e68wSF"
      },
      "source": [
        "# **14º Operadores de Identidade**\n",
        "Os operadores de identidade são usados ​​para comparar os objetos, não se forem iguais, mas se forem realmente o mesmo objeto, com a mesma localização de memória:\n",
        "1. is (Retorna True se ambas as variáveis ​​forem o mesmo objeto)\n",
        "2. is not (Retorna True se ambas as variáveis ​​não forem o mesmo objeto)"
      ]
    },
    {
      "cell_type": "code",
      "execution_count": null,
      "metadata": {
        "colab": {
          "base_uri": "https://localhost:8080/"
        },
        "id": "Mx3XYI8LnSfK",
        "outputId": "f3a1bdd6-3b17-426d-ae04-7c00f43c20bf"
      },
      "outputs": [],
      "source": [
        "String_01 = str('Olá Mundo')\n",
        "String_02 = str('Olá Mundo')\n",
        "\n",
        "print( String_01 is String_01 )\n",
        "print( String_01 is String_02 )\n",
        "print( String_01 == String_02 )\n",
        "print( type(String_01) is type(String_02) )"
      ]
    },
    {
      "cell_type": "markdown",
      "metadata": {
        "id": "RrCYnXRI89b_"
      },
      "source": [
        "# **15º Operadores de Associação**\n",
        "Os operadores de associação são usados ​​para testar se uma sequência é apresentada em um objeto:\n",
        "1. in (Retorna True se uma sequência com o valor especificado estiver presente no objeto)\n",
        "2. not in (Retorna True se uma sequência com o valor especificado não estiver presente no objeto)"
      ]
    },
    {
      "cell_type": "code",
      "execution_count": null,
      "metadata": {
        "colab": {
          "base_uri": "https://localhost:8080/"
        },
        "id": "OJ9-UYrU9Jfl",
        "outputId": "40af4cec-20e2-4fac-c415-f99b75f8a505"
      },
      "outputs": [],
      "source": [
        "Lista_Ações = ['Magalu', 'Via', 'Aldi', 'Carrefour']\n",
        "\n",
        "print( 'Via' in Lista_Ações )\n",
        "print( 'Via' not in Lista_Ações )"
      ]
    },
    {
      "cell_type": "markdown",
      "metadata": {
        "id": "DbMZYX6S_Fwb"
      },
      "source": [
        "# **16º Manipulando Listas**\n",
        "As listas são usadas para armazenar vários items numa única variável.\n",
        "\n",
        "As listas são um dos 4 tipos de dados internos do Python usados ​​para armazenar coleções de dados, os outros 3 são Tuple, Set e Dictionary, todos com qualidades e usos diferentes.<p>\n",
        "Comandos mais utilizados:\n",
        "1. append() - Para adicionar um item ao final da lista\n",
        "2. len() - Calcular o tamanho da lista\n",
        "3. [  ] - Aceder a posições\n",
        "4. del() - Excluir um elemento\n",
        "5. clear() - Limpar a lista\n",
        "6. insert() - Para inserir um item de lista num índice especificado\n",
        "7. extend() - Anexar elementos de outra lista à lista atual\n",
        "8. remove() - Remove o item especificado\n",
        "9. pop() - Remove o índice especificado\n",
        "10. sort() - Ordenar os valores\n",
        "11. copy() - Faz uma copia da Lista\n",
        "12. index() - Retorna o index do elemento da lista"
      ]
    },
    {
      "cell_type": "code",
      "execution_count": null,
      "metadata": {
        "colab": {
          "base_uri": "https://localhost:8080/"
        },
        "id": "UxlQ-8s--7bN",
        "outputId": "5807d543-9593-4cfc-b0ca-ba1d304a6f66"
      },
      "outputs": [],
      "source": [
        "# Manipular dados dentro das Lista\n",
        "Lista_Vazia = []\n",
        "print('Lista antes:', Lista_Vazia, '\\n' )\n",
        "\n",
        "# Inserir valores na Lista\n",
        "Lista_Vazia.append(1)\n",
        "Lista_Vazia.append(2)\n",
        "Lista_Vazia.append(3)\n",
        "print('Lista Depois:', Lista_Vazia, '\\n' )\n",
        "\n",
        "# Tamanho da lista\n",
        "print('Lista contém:', len(Lista_Vazia), 'elementos', '\\n' )\n",
        "\n",
        "# Tamanho da lista\n",
        "print('Aceder ao 1º Elemento:', Lista_Vazia[0] )\n",
        "print('Aceder ao 2º Elemento:', Lista_Vazia[1] )\n",
        "print('Aceder ao último Elemento:', Lista_Vazia[-1] )\n",
        "print('Aceder a um periodo:', Lista_Vazia[0:2], '\\n' )\n",
        "\n",
        "# Excluir valor na lista\n",
        "del Lista_Vazia[1]\n",
        "print('Depois da exclusão:', Lista_Vazia, '\\n' )\n",
        "\n",
        "# Limpar a lista\n",
        "print('Depois da limpeza:', Lista_Vazia.clear(), '\\n' )\n",
        "\n",
        "# Inserir um valor com uma posição\n",
        "Lista_Inserir = ['Posição 1', 'Posição 2', 'Posição 3']\n",
        "Lista_Inserir.insert( 0, 'Posição 4' )\n",
        "print( Lista_Inserir, '\\n' )\n",
        "\n",
        "# Inserir uma lista na outra\n",
        "Lista_Inserir_01 = ['Posição 1', 'Posição 2', 'Posição 3']\n",
        "Lista_Inserir_02 = ['Posição 4', 'Posição 5', 'Posição 6']\n",
        "Lista_Inserir_01.extend( Lista_Inserir_02 )\n",
        "print( Lista_Inserir_01, '\\n' )\n",
        "\n",
        "# Remover itens especifico pelo nome\n",
        "Lista_Inserir_01.remove('Posição 6')\n",
        "print( Lista_Inserir_01, '\\n' )\n",
        "\n",
        "# Remover itens pelo index\n",
        "Lista_Inserir_01.pop(0)\n",
        "print( Lista_Inserir_01, '\\n' )\n",
        "\n",
        "# Ordenar uma lista\n",
        "Lista_Alfabetica = ['Z', 'C', 'A', 'B', 'L']\n",
        "Lista_Alfabetica.sort()\n",
        "print( Lista_Alfabetica, '\\n' )\n",
        "\n",
        "# Ordenar uma lista de forma inversa\n",
        "Lista_Alfabetica.sort( reverse=True )\n",
        "print( Lista_Alfabetica, '\\n' )\n",
        "\n",
        "# Copiar uma Lista\n",
        "Lista_Alfabetica_02 = Lista_Alfabetica.copy()\n",
        "print( Lista_Alfabetica_02, '\\n' )\n",
        "\n",
        "# Indetificar o Index do elemtno na lista\n",
        "print( Lista_Alfabetica_02.index('L'), '\\n' )"
      ]
    },
    {
      "cell_type": "markdown",
      "metadata": {
        "id": "tlAQIqszEgDi"
      },
      "source": [
        "# **17º Módulo Externo - Datetime**\n",
        "O módulo datetime fornece classes para manipulação de datas e horas.\n"
      ]
    },
    {
      "cell_type": "code",
      "execution_count": null,
      "metadata": {
        "colab": {
          "base_uri": "https://localhost:8080/"
        },
        "id": "TMa8Z54aEwlP",
        "outputId": "f14f4523-3f75-4777-e6db-b4eaabcd2f6c"
      },
      "outputs": [],
      "source": [
        "import datetime\n",
        "\n",
        "# Dia de Hoje\n",
        "Dia_Hoje = datetime.datetime.today().date()\n",
        "print( f'Hoje é: {Dia_Hoje} \\n' )\n",
        "\n",
        "# Construindo uma Data\n",
        "Data = datetime.date(2020, 10, 1)\n",
        "print( f'Construir uma Data {Data} \\n' )\n",
        "\n",
        "# Aceder aos atributos da DAta\n",
        "Ano = Data.year\n",
        "Mes = Data.month\n",
        "Dia = Data.day\n",
        "print(f'Hoje é dia {Dia} do mês {Mes} do ano de {Ano} \\n')\n",
        "\n",
        "# Operação\n",
        "Intervalo = Data - Dia_Hoje\n",
        "print(f'Já ocorreu {Intervalo} dias \\n' )\n",
        "\n",
        "# Ajustar o formato\n",
        "Novo_Formato = Dia_Hoje.strftime('%d/%m/%y')\n",
        "print( f'Hoje é: {Novo_Formato} \\n' )\n",
        "\n",
        "# Aumentar dias ou diminuir\n",
        "print( f'Somando 30 dias, {Dia_Hoje + datetime.timedelta(days = 30)}' )\n",
        "print( f'Diminuindo 30 dias, {Dia_Hoje - datetime.timedelta(days = 30)}' )"
      ]
    },
    {
      "cell_type": "markdown",
      "metadata": {
        "id": "AkzpmFB37MR-"
      },
      "source": [
        "# **18° Módulo Externo - Time**\n",
        "Este módulo fornece várias funções relacionadas ao tempo"
      ]
    },
    {
      "cell_type": "code",
      "execution_count": null,
      "metadata": {
        "colab": {
          "base_uri": "https://localhost:8080/"
        },
        "id": "g7Ru0a446HCj",
        "outputId": "c6c53ca8-4e34-4967-a894-ddc7ae0c69cc"
      },
      "outputs": [],
      "source": [
        "# Importar a Lib\n",
        "import time\n",
        "\n",
        "print('Esse print foi rápido!')\n",
        "time.sleep(2.5)\n",
        "print('Esse print aconteceu depois de 2.5 segundos \\n')\n",
        "\n",
        "# Capturar o local agora\n",
        "Agora = time.localtime()\n",
        "print( type(Agora) )\n",
        "print( Agora )\n",
        "print( time.strftime('%m/%d/%Y, %H:%M:%S', Agora ), '\\n' )\n",
        "\n",
        "# Converter uma string para time\n",
        "Time_Texto = '21 June, 2018'\n",
        "Conversao = time.strptime(Time_Texto, '%d %B, %Y')\n",
        "print(Conversao)"
      ]
    },
    {
      "cell_type": "markdown",
      "metadata": {
        "id": "4bG8pLZYINAF"
      },
      "source": [
        "# 19º Módulo Externo - Math\n",
        "**negrito**O Python possui um conjunto de funções matemáticas integradas, incluindo um extenso módulo matemático, que permite realizar tarefas matemáticas em números."
      ]
    },
    {
      "cell_type": "code",
      "execution_count": null,
      "metadata": {
        "colab": {
          "base_uri": "https://localhost:8080/"
        },
        "id": "MYZhJucuIQNP",
        "outputId": "670dd942-0d0a-4f4e-8a73-a9c1d397c02c"
      },
      "outputs": [],
      "source": [
        "import math\n",
        "\n",
        "# Sem necessidade do math\n",
        "\n",
        "# Minino e Maximo\n",
        "Tupla = (10, 15, 5, 8, 20)\n",
        "print( min(Tupla) )\n",
        "print( max(Tupla) )\n",
        "\n",
        "# ABS  retorna o valor absoluto (positivo) do número especificado\n",
        "print( abs(-7.25) )\n",
        "\n",
        "# Retorna a potencia (seria o msm que 3 * 3 * 3 * 3)\n",
        "print( pow(3, 4) )\n",
        "\n",
        "# Raiz quadrada\n",
        "Raiz_Quadrada = math.sqrt( 81 )\n",
        "print( Raiz_Quadrada )\n",
        "\n",
        "# Arrendondamento\n",
        "\n",
        "# Arredonda um número para cima até o número inteiro mais próximo\n",
        "print( math.ceil(1.4) )\n",
        "\n",
        "# Arredonda um número para baixo até o número inteiro mais próximo\n",
        "print( math.floor(1.4) )\n",
        "\n",
        "# retorna o numero de PI\n",
        "print( math.pi )"
      ]
    },
    {
      "cell_type": "markdown",
      "metadata": {
        "id": "evGNmtIZ9j_b"
      },
      "source": [
        "# **20° Módulo Externo - Random**\n",
        "Este módulo implementa geradores de números pseudo-aleatórios para várias distribuições."
      ]
    },
    {
      "cell_type": "code",
      "execution_count": null,
      "metadata": {
        "colab": {
          "base_uri": "https://localhost:8080/"
        },
        "id": "6m8tC8-J8dJU",
        "outputId": "edd02b7a-e248-4cf3-a45e-14fcecf7429a"
      },
      "outputs": [],
      "source": [
        "# import random\n",
        "import random\n",
        " \n",
        "# Lista numerico\n",
        "Lista_Numerica = [1, 2, 3, 4, 5, 6]\n",
        "print(f'O número sorteado foi: {random.choice(Lista_Numerica)} \\n')\n",
        " \n",
        "# Sortear uma letra da palavra\n",
        "Palavra = 'João'\n",
        "print(f'A Letra sorteada foi: {random.choice(Palavra)} \\n')\n",
        "\n",
        "# Numero aleatorio entre 0 e 1\n",
        "Numero_Aleatorio = random.random()\n",
        "print(f'O Numero gerado foi: {Numero_Aleatorio} \\n')\n",
        "\n",
        "Numero_Aleatorio_01 = random.randint(0, 10)\n",
        "print(f'Número aleatorio entre 1 e 10 foi: {Numero_Aleatorio_01}')"
      ]
    },
    {
      "cell_type": "markdown",
      "metadata": {
        "id": "_ItJifJkCggh"
      },
      "source": [
        "# **21° Módulo Externo - Statistics**\n",
        "Este módulo fornece funções para calcular estatísticas matemáticas de dados numéricos e interage com as listas"
      ]
    },
    {
      "cell_type": "code",
      "execution_count": null,
      "metadata": {
        "colab": {
          "base_uri": "https://localhost:8080/"
        },
        "id": "87Npf9xs9edv",
        "outputId": "d5c17412-65bb-449f-8b32-9f897ef850eb"
      },
      "outputs": [],
      "source": [
        "# Importando a Statistics para operar nas listas\n",
        "import statistics\n",
        "\n",
        "# Retirando a média\n",
        "Media = statistics.mean( [1, 2, 3, 4, 4] )\n",
        "print(f'A media seria: {Media} \\n')\n",
        "\n",
        "Mediana = statistics.median( [1, 2, 3, 4, 4] )\n",
        "print(f'A mediana seria: {Mediana} \\n')\n",
        "\n",
        "Moda = statistics.mode( [1, 2, 3, 4, 4] )\n",
        "print(f'A moda seria: {Moda}')"
      ]
    },
    {
      "cell_type": "markdown",
      "metadata": {
        "id": "sa4ffKUyDbbX"
      },
      "source": [
        "# **22º Condição If**\n",
        "if é a declaração mais simples de tomada de decisão. <p>Ele é usado para decidir se uma determinada instrução ou bloco de instruções será executado ou não, ou seja, se uma determinada condição for verdadeira, um bloco de instruções será executado, caso contrário, não.\n",
        "\n",
        "if condição :<p>\n",
        "*   declarações a serem executadas se\n",
        "*   condição é verdadeira\n",
        "\n"
      ]
    },
    {
      "cell_type": "code",
      "execution_count": null,
      "metadata": {
        "id": "ZHXnyy8dXmF3"
      },
      "outputs": [],
      "source": [
        "# Condição se a pessoa tiver menor de 18 anos, ela nao entra no sistema.\n",
        "Idade = 10\n",
        "\n",
        "if Idade >= 18:\n",
        "  print('você é maior de idade!')"
      ]
    },
    {
      "cell_type": "code",
      "execution_count": null,
      "metadata": {
        "colab": {
          "base_uri": "https://localhost:8080/"
        },
        "id": "EVqREeIXWi84",
        "outputId": "0398fa9c-78fb-4349-97f9-e813fd31ce38"
      },
      "outputs": [],
      "source": [
        "# Condição IF + ELSE\n",
        "\n",
        "Idade = int( 15 )\n",
        "\n",
        "if Idade >= 18:\n",
        "  print('Você é de maior!')\n",
        "\n",
        "else:\n",
        "  print('Você é menor de Idade!!! Não pode entrar')"
      ]
    },
    {
      "cell_type": "code",
      "execution_count": null,
      "metadata": {
        "colab": {
          "base_uri": "https://localhost:8080/"
        },
        "id": "yxW4eBrbWqQ_",
        "outputId": "98b7b2c5-a67c-4069-b6b0-50e9475113e0"
      },
      "outputs": [],
      "source": [
        "# Condição IF + ELSE + ELIF\n",
        "\n",
        "Idade = int( 14 )\n",
        "\n",
        "if Idade > 18:\n",
        "  print('Você é maior de Idade!')\n",
        "\n",
        "elif Idade == 18:\n",
        "  print('Opa! Welcome the jungle!!! ')\n",
        "\n",
        "elif Idade < 18 and Idade >= 14:\n",
        "\n",
        "  if Idade % 2 == 0:\n",
        "    print('Quase um adulto!!! Aproveita !!!!!!!!!!')\n",
        "\n",
        "else:\n",
        "  print('Você é menor de Idade!!! Não pode entrar')"
      ]
    },
    {
      "cell_type": "markdown",
      "metadata": {
        "id": "loDAbkKVFBQo"
      },
      "source": [
        "# **23º Estrutura de Ciclo FOR**\n",
        "O ciclo For do Python é usado para travessia sequencial, ou seja, é usado para iterar sobre um iterável como string, tupla, lista, etc. Ele se enquadra na categoria de iteração definida . Iterações definidas significam que o número de repetições é especificado explicitamente com antecedência. <p>\n",
        "for variável in objeto:\n",
        "*   loop\n",
        "\n"
      ]
    },
    {
      "cell_type": "code",
      "execution_count": null,
      "metadata": {
        "colab": {
          "base_uri": "https://localhost:8080/"
        },
        "id": "wFLN2e5NEBpd",
        "outputId": "3c326781-1b8a-4445-aaef-5b313cc0d607"
      },
      "outputs": [],
      "source": [
        "# For [ Loop ]\n",
        "\n",
        "for QualquerCoisaQueVoceQuiser in range(10):\n",
        "  print( QualquerCoisaQueVoceQuiser ** 2  ) "
      ]
    },
    {
      "cell_type": "code",
      "execution_count": null,
      "metadata": {
        "colab": {
          "base_uri": "https://localhost:8080/"
        },
        "id": "v2L7juIgWzSi",
        "outputId": "4f126b2f-4829-45f2-8c49-f0ddae92c693"
      },
      "outputs": [],
      "source": [
        "# For + Lista\n",
        "\n",
        "Lista_Paises = ['Hungria', 'Ucrânia', 'Polónia', 'Alemanha', 'Suiça', 'Grécia', 'República Checa', \n",
        "                'Itália', 'França', 'Espanha', 'Portugal']\n",
        "\n",
        "for Loop in Lista_Paises:\n",
        "  print( Loop )"
      ]
    },
    {
      "cell_type": "code",
      "execution_count": null,
      "metadata": {
        "colab": {
          "base_uri": "https://localhost:8080/"
        },
        "id": "vGrayTvPW7V7",
        "outputId": "507aae6e-051b-4d58-8c9a-8c49174e8ed6"
      },
      "outputs": [],
      "source": [
        "# For + Lista\n",
        "Lista_Paises = ['Hungria', 'Ucrânia', 'Polónia', 'Alemanha', 'Suiça', 'Grécia', 'República Checa', \n",
        "                'Itália', 'França', 'Espanha', 'Portugal']\n",
        "\n",
        "for Loop in range( len(Lista_Paises) ):\n",
        "  print( Lista_Paises[Loop] )"
      ]
    },
    {
      "cell_type": "code",
      "execution_count": null,
      "metadata": {
        "colab": {
          "base_uri": "https://localhost:8080/"
        },
        "id": "oK3FGvztXCBw",
        "outputId": "76d62c9c-9d30-43ec-edbf-67429cc08c8f"
      },
      "outputs": [],
      "source": [
        "# For + Lista + IF + enumerate\n",
        "for Posicao, P in enumerate( Lista_Paises ):\n",
        "  print( Posicao, P )"
      ]
    },
    {
      "cell_type": "code",
      "execution_count": null,
      "metadata": {
        "colab": {
          "base_uri": "https://localhost:8080/"
        },
        "id": "sSupXTHsXFY8",
        "outputId": "5a06ae62-49dd-4557-c9d3-120fc5991dc1"
      },
      "outputs": [],
      "source": [
        "# for + LISTa + IF + RANGE\n",
        "Lista_Numerica = [ Numero for Numero in range(1, 100, 5) ]\n",
        "Armazenar = []\n",
        "\n",
        "for x in Lista_Numerica:\n",
        "\n",
        "  if x % 2 == 0:\n",
        "    Armazenar.append( x )\n",
        "\n",
        "print( Armazenar )\n",
        "\n",
        "from pandas import DataFrame\n",
        "print( DataFrame(Armazenar) )"
      ]
    },
    {
      "cell_type": "code",
      "execution_count": null,
      "metadata": {
        "colab": {
          "base_uri": "https://localhost:8080/"
        },
        "id": "n4f3dBYFXIoV",
        "outputId": "13702916-2346-40c9-84ad-b3378f149ab6"
      },
      "outputs": [],
      "source": [
        "# For + Lista + Dicionario\n",
        "\n",
        "Lista = [ 'Portugal', 'Inglaterra', 'Estados Unidos', 'Angola' ]\n",
        "\n",
        "Dicionario = {\n",
        "    'Portugal' : 'Euro',\n",
        "    'Inglaterra' : 'Libra',\n",
        "    'Estados Unidos' : 'Dolar',\n",
        "    'Angola' : 'Kwanza'\n",
        "}\n",
        "\n",
        "for Paises in Lista:\n",
        "\n",
        "  if Paises == 'Portugal':\n",
        "    print( f'Moeda do {Paises} é { Dicionario[Paises] }' )\n",
        "    print('Moeda do', Paises, 'é', Dicionario[Paises] )\n",
        "    print('Moeda do ' + str (Paises) + ' é ' + str(Dicionario[Paises] ) )\n",
        "  else:\n",
        "    pass"
      ]
    },
    {
      "cell_type": "markdown",
      "metadata": {
        "id": "7FpxhKe9FqbX"
      },
      "source": [
        "# **24º Estrutura de Ciclo WHILE**\n",
        "O Ciclo While é usado para executar um bloco de instruções repetidamente até que uma determinada condição seja satisfeita. E quando a condição se torna falsa, a linha imediatamente após o loop no programa é executada. While loop se enquadra na categoria de iteração indefinida . A iteração indefinida significa que o número de vezes que o loop é executado não é especificado explicitamente com antecedência.<p>\n",
        "while expressão:\n",
        "*   loop\n",
        "\n",
        "\n"
      ]
    },
    {
      "cell_type": "code",
      "execution_count": null,
      "metadata": {
        "colab": {
          "base_uri": "https://localhost:8080/"
        },
        "id": "v3CkR4oQGj7J",
        "outputId": "4c7bd2fe-0dd7-416f-c0ef-ef3a7f71f6dd"
      },
      "outputs": [],
      "source": [
        "# While\n",
        "Loop = 0\n",
        "\n",
        "while Loop <= 10:\n",
        "  print( Loop )\n",
        "  Loop += 1"
      ]
    },
    {
      "cell_type": "code",
      "execution_count": null,
      "metadata": {
        "colab": {
          "base_uri": "https://localhost:8080/"
        },
        "id": "TGZGO_WTXMwh",
        "outputId": "eb910bbf-96de-4bb5-d4b3-aa6ef9c119c2"
      },
      "outputs": [],
      "source": [
        "# While\n",
        "Loop = 0\n",
        "\n",
        "while Loop <= 10:\n",
        "  print( Loop )\n",
        "  Loop += 1\n",
        "\n",
        "  if Loop == 5:\n",
        "    \n",
        "    for c in range(10):\n",
        "      print(c)"
      ]
    },
    {
      "cell_type": "code",
      "execution_count": null,
      "metadata": {
        "colab": {
          "base_uri": "https://localhost:8080/"
        },
        "id": "L94HlSMBXMzM",
        "outputId": "f3d96a84-3d31-4984-d56f-88eb26266904"
      },
      "outputs": [],
      "source": [
        "# While True\n",
        "# Joginho\n",
        "import random\n",
        "\n",
        "# from datetime import datetime\n",
        "# random.seed(datetime.now().timestamp())\n",
        "\n",
        "while True:\n",
        "\n",
        "  Jogador1 = random.randint(0, 6)\n",
        "  Jogador2 = random.randint(5, 10)\n",
        "\n",
        "  if Jogador1 > Jogador2:\n",
        "    print(Jogador1, '-', Jogador2, 'FINALMENTE !!!!!!!!!!!')\n",
        "    break\n",
        "\n",
        "  else:\n",
        "    print(Jogador1, '-', Jogador2)"
      ]
    },
    {
      "cell_type": "markdown",
      "metadata": {},
      "source": [
        "DESENVOLVA UM JOGO SIMPLES A PARTIR DESTE EXEMPLO..."
      ]
    },
    {
      "cell_type": "markdown",
      "metadata": {
        "id": "noodylU2GVbI"
      },
      "source": [
        "# **25º Estrutura de Paragem BREAK e CONTINUE**\n",
        "O uso de ciclos no Python automatiza e repete as tarefas de maneira eficiente. Mas, às vezes, pode surgir uma condição em que deseje sair completamente do ciclo, pular uma iteração ou ignorar essa condição. Isso pode ser feito por instruções de controle de ciclo. As instruções de controle de ciclo alteram a execução de sua sequência normal. Quando a execução sai de âmbito, todos os objetos automáticos que foram criados nesse âmbito são destruídos. O Python suporta as seguintes instruções de controle."
      ]
    },
    {
      "cell_type": "code",
      "execution_count": null,
      "metadata": {
        "colab": {
          "base_uri": "https://localhost:8080/"
        },
        "id": "MqjsMqmCF00z",
        "outputId": "3077967c-cdc6-4894-e51a-63968d2518bf"
      },
      "outputs": [],
      "source": [
        "# For + Lista + IF + Break\n",
        "Lista_Paises = ['Hungria', 'Ucrânia', 'Polónia', 'Alemanha', 'Suiça', 'Grécia', 'República Checa', \n",
        "                'Itália', 'França', 'Espanha', 'Portugal']\n",
        "Loop = 0\n",
        "\n",
        "for P in Lista_Paises:\n",
        "\n",
        "  if P == 'Portugal':\n",
        "    print('Chegou')\n",
        "    break\n",
        "\n",
        "  else:\n",
        "    pass\n",
        "\n",
        "  Loop += 1\n",
        "  print( Loop )"
      ]
    },
    {
      "cell_type": "code",
      "execution_count": null,
      "metadata": {
        "colab": {
          "base_uri": "https://localhost:8080/"
        },
        "id": "uo-bnZ7YXPBz",
        "outputId": "5dc185d1-fb08-495c-8aa1-53c8b67d2040"
      },
      "outputs": [],
      "source": [
        "# While\n",
        "Loop = 0\n",
        "\n",
        "while Loop <= 10:\n",
        "  print( Loop )\n",
        "  Loop += 1\n",
        "\n",
        "  if Loop == 5:\n",
        "    \n",
        "    for c in range(10):\n",
        "      print(c)\n",
        "  \n",
        "    break"
      ]
    },
    {
      "cell_type": "code",
      "execution_count": null,
      "metadata": {
        "colab": {
          "base_uri": "https://localhost:8080/"
        },
        "id": "g-Q3loRuaCAS",
        "outputId": "53ead85b-a54d-497d-811f-43f0b4dd3f5b"
      },
      "outputs": [],
      "source": [
        "# Loop de 1 a 10\n",
        "for i in range(1, 11):\n",
        " \n",
        "    # If i is equals to 6,\n",
        "    # continue to next iteration\n",
        "    # without printing\n",
        "    if i == 5:\n",
        "      continue\n",
        "      print(f'{i}º interação --> Estou no IF')\n",
        "        \n",
        "    else:\n",
        "        # otherwise print the value\n",
        "        # of i\n",
        "        print(f'{i}º Continue continua sempre!!!!')\n",
        "        #print(i)"
      ]
    },
    {
      "cell_type": "markdown",
      "metadata": {
        "id": "R_Am7FRBOnUC"
      },
      "source": [
        "# **26º Estrutura de Funções**\n",
        "Uma função é um bloco de código que só é executado quando é chamado.<p>\n",
        "Pode passar dados, conhecidos como parâmetros, para uma função.<p>\n",
        "Uma função pode retornar dados como resultado.\n",
        "\n"
      ]
    },
    {
      "cell_type": "code",
      "execution_count": null,
      "metadata": {
        "colab": {
          "base_uri": "https://localhost:8080/"
        },
        "id": "8GZLV-nCOusD",
        "outputId": "5c3d5bfc-4552-402e-e18c-672e82b76ae7"
      },
      "outputs": [],
      "source": [
        "# Funções simples\n",
        "def Somar(Valor1, Valor2):\n",
        "  Soma = Valor1 + Valor2\n",
        "  print(Soma)\n",
        "\n",
        "Somar(-67.900, 10.121233)"
      ]
    },
    {
      "cell_type": "code",
      "execution_count": null,
      "metadata": {
        "colab": {
          "base_uri": "https://localhost:8080/"
        },
        "id": "D15f-hGRXTyb",
        "outputId": "aa4003df-d315-4b0d-8201-5d1adb1864d3"
      },
      "outputs": [],
      "source": [
        "def Boas_Vindas():\n",
        "  print('********* PYTHON **************')\n",
        "\n",
        "Boas_Vindas()"
      ]
    },
    {
      "cell_type": "code",
      "execution_count": null,
      "metadata": {
        "colab": {
          "base_uri": "https://localhost:8080/"
        },
        "id": "ZCo_VY__XWV3",
        "outputId": "9320143e-4ac0-42e5-8324-ce235289d84c"
      },
      "outputs": [],
      "source": [
        "from random import randint\n",
        "# Função\n",
        "def Sobrenome( Algum_Texto, Numero ):\n",
        "  print(f'O nome dele é: {Algum_Texto}')\n",
        "\n",
        "  if Numero >= 10:\n",
        "    print('Maior que 10')\n",
        "  else:\n",
        "    print('NADA!')\n",
        "\n",
        "Lista_Nomes = ['João', 'Pedro', 'Carlitos']\n",
        "\n",
        "for Nome in Lista_Nomes:\n",
        "  Sobrenome( Nome, randint(1,12) )"
      ]
    },
    {
      "cell_type": "markdown",
      "metadata": {
        "id": "fvEKA7fPOvIY"
      },
      "source": [
        "# **27º Estrutura Lambda**\n",
        "Uma função lambda é uma pequena função anónima.<p>\n",
        "Uma função lambda pode receber qualquer número de argumentos, mas pode ter apenas uma expressão."
      ]
    },
    {
      "cell_type": "code",
      "execution_count": null,
      "metadata": {
        "colab": {
          "base_uri": "https://localhost:8080/"
        },
        "id": "hoEbekXhOxwZ",
        "outputId": "aef9bfff-f2a9-4912-ffb4-3b25d31e604c"
      },
      "outputs": [],
      "source": [
        "# Função\n",
        "Funcao = lambda valor: valor + 10\n",
        "print( Funcao( 10 ) )\n",
        "\n",
        "Funcao_02 = lambda valor1, valor2 : valor1 + valor2\n",
        "print( Funcao_02( 100 , 100 ) )"
      ]
    },
    {
      "cell_type": "code",
      "execution_count": null,
      "metadata": {
        "colab": {
          "base_uri": "https://localhost:8080/",
          "height": 35
        },
        "id": "xolelYKrXcX5",
        "outputId": "46695b9e-393f-43db-99b3-cc3c70b2082e"
      },
      "outputs": [],
      "source": [
        "# Função Lambda\n",
        "Nao_Faxa_isso = lambda Qualquer_Valor: 'Verdadeiro' if Qualquer_Valor % 2 == 0 else 'Falso'\n",
        "#Nao_Faxa_isso = lambda x: True if x % 2 == 0 else Falso\n",
        "Nao_Faxa_isso( 100 )"
      ]
    },
    {
      "cell_type": "markdown",
      "metadata": {
        "id": "Hs9bCzzEO188"
      },
      "source": [
        "# **28º Estrutura TRY**\n",
        "O **try** permite testar um bloco de código quanto a erros.<p>\n",
        "O **except** permite que você lide com o erro.<p>\n",
        "O **else** permite executar código quando não há erro. <p>\n",
        "O **finally** permite que você execute código, independentemente do resultado dos blocos try e except. <p>\n",
        "\n"
      ]
    },
    {
      "cell_type": "code",
      "execution_count": null,
      "metadata": {
        "colab": {
          "base_uri": "https://localhost:8080/"
        },
        "id": "xyxiQY6oO4pP",
        "outputId": "5bc55737-6f14-4670-f179-c477fad9ec5d"
      },
      "outputs": [],
      "source": [
        "# \n",
        "try:\n",
        "  0 / 0 \n",
        "except:\n",
        "  print('Deu Asneira!!!')\n",
        "print('Terminamos bem')"
      ]
    },
    {
      "cell_type": "code",
      "execution_count": null,
      "metadata": {
        "colab": {
          "base_uri": "https://localhost:8080/"
        },
        "id": "2SgAKDxBa6q6",
        "outputId": "c0acb00b-a749-458b-af5a-743bbeb278fb"
      },
      "outputs": [],
      "source": [
        "\n",
        "try:\n",
        "  print(Algo_Coisa_Que_Nao_Defini)\n",
        "\n",
        "except NameError:\n",
        "  print(\"Ops deu algum erro!\")\n",
        "\n",
        "finally:\n",
        "  print(\"Vou ser executado de qualquer forma\")"
      ]
    },
    {
      "cell_type": "markdown",
      "metadata": {
        "id": "JwEWcdRfPFyA"
      },
      "source": [
        "# 29° Estrutura de Classes/Objetos\n",
        "Python é uma linguagem de programação orientada a objetos.<p>\n",
        "Quase tudo em Python é um objeto, com suas propriedades e métodos.<p>\n",
        "Uma classe é como um construtor de objetos, ou um \"projeto\" para criar objetos."
      ]
    },
    {
      "cell_type": "code",
      "execution_count": null,
      "metadata": {
        "id": "cfN8jl6ZhAI9"
      },
      "outputs": [],
      "source": [
        "class Pessoa:\n",
        "\n",
        "  # Metodo Construtor\n",
        "  def __init__(self, Nome, Idade):\n",
        "    self.Nome = Nome\n",
        "    self.Idade = Idade\n",
        "\n",
        "  def Boas_Vindas(self):\n",
        "    print('Olá sem benvindo: ', self.Nome)\n",
        "\n",
        "  def Recusado(self):\n",
        "    print('O seu acesso foi recusado!')\n",
        "\n",
        "  # Função\n",
        "  def Maior_Idade(self):\n",
        "    if self.Idade >= 18:\n",
        "      print('Utilizador é maior de Idade')\n",
        "      self.Boas_Vindas()\n",
        "    else:\n",
        "      print('Utilizador é menor de Idade')\n",
        "      self.Recusado()"
      ]
    },
    {
      "cell_type": "code",
      "execution_count": null,
      "metadata": {
        "id": "HIZOScMkhB0m"
      },
      "outputs": [],
      "source": [
        "Dados = Pessoa('João', 12)"
      ]
    },
    {
      "cell_type": "code",
      "execution_count": null,
      "metadata": {
        "colab": {
          "base_uri": "https://localhost:8080/"
        },
        "id": "2a8OFXZghB3D",
        "outputId": "3f4f6772-86e5-4884-d2d2-0cdb6f1b0f18"
      },
      "outputs": [],
      "source": [
        "Dados.Maior_Idade()"
      ]
    },
    {
      "cell_type": "markdown",
      "metadata": {
        "id": "XtIq1njAfzDg"
      },
      "source": [
        "# **30º Módulos/Pacotes**\n",
        "Considere um módulo como sendo o mesmo que uma biblioteca de código.<p>\n",
        "Para instalar um pacote utilize o 'pip install'"
      ]
    },
    {
      "cell_type": "code",
      "execution_count": null,
      "metadata": {
        "id": "r9T5J89bkZWp"
      },
      "outputs": [],
      "source": [
        "import time\n",
        "import datetime"
      ]
    },
    {
      "cell_type": "code",
      "execution_count": null,
      "metadata": {
        "colab": {
          "base_uri": "https://localhost:8080/"
        },
        "id": "43IwL9uIktw7",
        "outputId": "8ad11958-a35b-473c-9622-3a4806ab5a01"
      },
      "outputs": [],
      "source": [
        "# !pip install pandas\n",
        "!pip install pandas"
      ]
    },
    {
      "cell_type": "markdown",
      "metadata": {
        "id": "8PCXIVOMlHCQ"
      },
      "source": [
        "# **31° Print formatado**\n",
        "Existe diversas formas de utilizar prints no python"
      ]
    },
    {
      "cell_type": "code",
      "execution_count": null,
      "metadata": {
        "colab": {
          "base_uri": "https://localhost:8080/"
        },
        "id": "rLs1tqm-lcbt",
        "outputId": "b1bd2631-8ee1-4fc7-ade9-e6656def74e0"
      },
      "outputs": [],
      "source": [
        "print('Soma de 2 + 2 é:', 2 + 2 )"
      ]
    },
    {
      "cell_type": "code",
      "execution_count": null,
      "metadata": {
        "colab": {
          "base_uri": "https://localhost:8080/"
        },
        "id": "bgr2MXLLlpcD",
        "outputId": "6382995f-18e5-428a-a54a-f7ea722c464d"
      },
      "outputs": [],
      "source": [
        "print( f'Soma de 2 + 2 é: { round(2 + 2) }' )"
      ]
    },
    {
      "cell_type": "code",
      "execution_count": null,
      "metadata": {
        "colab": {
          "base_uri": "https://localhost:8080/"
        },
        "id": "BceEEtaslxt5",
        "outputId": "38f11b5f-6f18-49a7-ed9d-6341c3c341aa"
      },
      "outputs": [],
      "source": [
        "print('Soma de 2 + 2 é: {}'.format(2+2) )"
      ]
    }
  ],
  "metadata": {
    "colab": {
      "collapsed_sections": [],
      "name": "01 - Programação Python.ipynb",
      "provenance": []
    },
    "kernelspec": {
      "display_name": "venv",
      "language": "python",
      "name": "python3"
    },
    "language_info": {
      "codemirror_mode": {
        "name": "ipython",
        "version": 3
      },
      "file_extension": ".py",
      "mimetype": "text/x-python",
      "name": "python",
      "nbconvert_exporter": "python",
      "pygments_lexer": "ipython3",
      "version": "3.9.6"
    }
  },
  "nbformat": 4,
  "nbformat_minor": 0
}
