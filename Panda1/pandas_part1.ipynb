{
 "cells": [
  {
   "cell_type": "markdown",
   "metadata": {},
   "source": [
    "# Introdução aos Pandas"
   ]
  },
  {
   "cell_type": "markdown",
   "metadata": {},
   "source": [
    "#### 1. O que é o Data Science ?\n"
   ]
  },
  {
   "cell_type": "markdown",
   "metadata": {},
   "source": [
    "\n",
    "A ciência de dados (Data science) é o processo de análise de dados e extração de informações úteis. Para extrair as informações úteis, primeiro precisamos analisar o conjunto de dados realizando algumas operações. <br>\n",
    "De outra forma, pode dizer que é a ciência dos dados, encontrar relações ocultas e usá-las para prever o futuro. <br>\n",
    "![alt text](ds1.png) <br>\n",
    "Ciência de dados combinando vários campos como pré-processamento de dados, conhecimento de domínio, aprendizagem de máquina, matemática, estatística. Aqui falamos apenas sobre pré-processamento de dados de maneira eficiente com o pandas."
   ]
  },
  {
   "cell_type": "markdown",
   "metadata": {},
   "source": [
    "#### 2. O que é o Pandas ?"
   ]
  },
  {
   "cell_type": "markdown",
   "metadata": {},
   "source": [
    "O Pandas é usado como ferramenta de limpeza de dados no campo da ciência de dados. Pode fazer qualquer operação que desejar no conjunto de dados com esta ferramenta. Agora surge a pergunta, podemos limpar ou alterar o valor no conjunto de dados manualmente? A resposta é sim, podemos se o tamanho do conjunto de dados for pequeno. E se tivermos um conjunto de dados grande, não podemos fazê-lo manualmente, levará muito tempo. O Pandas torna a ciência de dados muito fácil e eficaz."
   ]
  },
  {
   "cell_type": "markdown",
   "metadata": {},
   "source": [
    "###### Para usar pandas você precisa primeiro importar o módulo pandas em seu programa"
   ]
  },
  {
   "cell_type": "code",
   "execution_count": null,
   "metadata": {},
   "outputs": [],
   "source": [
    "import pandas as pd #Now you can use pandas functions by pd.read_csv(\"path\") etc..\n",
    "print( pd.__version__)"
   ]
  },
  {
   "cell_type": "markdown",
   "metadata": {},
   "source": [
    "### Leitura de ficheiros CSV e folhas de cálculo Excel:"
   ]
  },
  {
   "cell_type": "markdown",
   "metadata": {},
   "source": [
    "##### d=pd.read_csv(\"path\"):\n",
    " * pd.read_csv() é a função para ler o ficheiro CSV (valores separados por vírgula) do seu computador.\n",
    " * Na função pode passar \"caminho\" do ficheiro CSV entre aspas.\n",
    " * Armazene o dataframe em qualquer variável, neste caso na variável \"d\".\n",
    " * A função read_csv() transforma o ficheiro CSV em dataframe para que possa acedê-lo como um dicionário.\n",
    "\n",
    "##### d=pd.read_excel(\"path\") : \n",
    "* É o mesmo que read_csv(), mas lê folha de cálculo ou arquivo do Excel.\n",
    "Aqui estou usando o conjunto de dados meteorológicos que possui todos os dados do clima.\n",
    "###### Neste caso, o ficneiro weather.csv está no meu diretório atual, por isso o caminho do arquivo é o próprio nome do arquivo."
   ]
  },
  {
   "cell_type": "code",
   "execution_count": null,
   "metadata": {},
   "outputs": [],
   "source": [
    "d=pd.read_csv('datasets/weather.csv') \n",
    "# returning dataframe object\n",
    "d\n",
    "# printing dataframe d"
   ]
  },
  {
   "cell_type": "markdown",
   "metadata": {},
   "source": [
    "#### Quantas linhas ?"
   ]
  },
  {
   "cell_type": "code",
   "execution_count": null,
   "metadata": {},
   "outputs": [],
   "source": [
    "print(len(d))\n",
    "# there are 96453 rows"
   ]
  },
  {
   "cell_type": "markdown",
   "metadata": {},
   "source": [
    "### Para obter as primeiras n linhas do conjunto de dados\n",
    "  * Para ver as primeiras cinco linhas, chame a função head() com o objeto dataframe. <br>\n",
    "      por exemplo-\n",
    "      <code> d.head() </code> <br>\n",
    "  * Se quiser ver as primeiras n linhas <br>\n",
    "      <code> d.head(n) </code>"
   ]
  },
  {
   "cell_type": "code",
   "execution_count": null,
   "metadata": {},
   "outputs": [],
   "source": [
    "d.head() # first five rows"
   ]
  },
  {
   "cell_type": "code",
   "execution_count": null,
   "metadata": {},
   "outputs": [],
   "source": [
    "d.head(9) # to print first n=9 rows"
   ]
  },
  {
   "cell_type": "markdown",
   "metadata": {},
   "source": [
    "### Obter as últimas n linhas do conjunto de dados\n",
    "  * Chame a função tail() <br>\n",
    "     <code> d.tail() </code> <br>\n",
    "Mostra apenas as últimas cinco linhas do dataframe d. <br>\n",
    "  * Se quiser ver as últimas n linhas - <br>\n",
    "     <code> d.tail(n) </code>"
   ]
  },
  {
   "cell_type": "code",
   "execution_count": null,
   "metadata": {},
   "outputs": [],
   "source": [
    "d.tail() #last five rows"
   ]
  },
  {
   "cell_type": "code",
   "execution_count": null,
   "metadata": {},
   "outputs": [],
   "source": [
    "d.tail(9) # last 9 rows"
   ]
  },
  {
   "cell_type": "markdown",
   "metadata": {},
   "source": [
    "### Slicing in the dataframe\n",
    " * Suppose you want to get 10 rows of the dataframe ranging from row 20 to 30. <br>\n",
    "   <code> d[20<b>:</b>30+1] </code>\n",
    "\n",
    "### Fatiando o dataframe\n",
    " * Suponha que quer obter 10 linhas do dataframe variando da linha 20 a 30. <br>\n",
    "   <code> d[20<b>:</b>30+1] </code>"
   ]
  },
  {
   "cell_type": "code",
   "execution_count": null,
   "metadata": {},
   "outputs": [],
   "source": [
    "d[20:31]"
   ]
  },
  {
   "cell_type": "markdown",
   "metadata": {},
   "source": [
    "### Aceder a uma coluna específica do dataframe:\n",
    " * Pode aceder à coluna específica do dataframe apenas mencionando seu nome entre aspas com dataframe d.<br>\n",
    "    por exemplo, para aceder à coluna de umidade e.i, <br>\n",
    "\n",
    "    <code> d['Humidity'] </code>"
   ]
  },
  {
   "cell_type": "code",
   "execution_count": null,
   "metadata": {},
   "outputs": [],
   "source": [
    "d['Humidity'].head(10) \n",
    "#Here i have applied head() function just to see only first 10 values because humidity \n",
    "#column has too many values"
   ]
  },
  {
   "cell_type": "markdown",
   "metadata": {},
   "source": [
    "### Encontrar o min, o max e a média de uma coluna:\n",
    "  * <b>min() :</b> Para encontrar o mínimo de uma coluna\n",
    "  * <b>max() :</b> Para encontrar o máximo de uma coluna <br>\n",
    "  * <b>mean() :</b> Para encontrar a média de uma coluna <br>\n",
    "  \n",
    "Encontrar o mínimo e o máximo da coluna de Umidade-"
   ]
  },
  {
   "cell_type": "code",
   "execution_count": null,
   "metadata": {},
   "outputs": [],
   "source": [
    "d['Humidity'].min() \n",
    "#Printing minimum value of Humidity"
   ]
  },
  {
   "cell_type": "code",
   "execution_count": null,
   "metadata": {},
   "outputs": [],
   "source": [
    "d['Humidity'].max()\n",
    "#Print maximum value Humidity"
   ]
  },
  {
   "cell_type": "code",
   "execution_count": null,
   "metadata": {},
   "outputs": [],
   "source": [
    "d['Humidity'].mean()\n",
    "#Print average value Humidty"
   ]
  },
  {
   "cell_type": "markdown",
   "metadata": {},
   "source": [
    "### Declarações condicionais\n",
    "  * <code>d[\"sua coluna\"][\"sua condição\"] </code> <br>\n",
    "   Retornará todos os valores em que sua condição for verdadeira.\n",
    "#### Exemplos : <br>\n",
    "  * Encontrar a temperatura quando a umidade é mínima<br>\n",
    "  \n",
    "    <code> d['Temperature(C)'][d['Humidade']==d['Humidade'].min() ]</code> <br><br>\n",
    "    \n",
    "  * Encontrar temp quando a umidade é máxima <br>\n",
    "  \n",
    "    <code> d['Temperature(C)'][d['Humidade']==d['Humidade'].max() ] </code>\n"
   ]
  },
  {
   "cell_type": "code",
   "execution_count": null,
   "metadata": {},
   "outputs": [],
   "source": [
    "d['Temperature (C)'][d['Humidity']==d['Humidity'].min()]"
   ]
  },
  {
   "cell_type": "code",
   "execution_count": null,
   "metadata": {},
   "outputs": [],
   "source": [
    "d['Temperature (C)'][d['Humidity']==d['Humidity'].max()]"
   ]
  },
  {
   "cell_type": "markdown",
   "metadata": {},
   "source": [
    "###### In the same way you can apply various condition and analyse it hidden features"
   ]
  },
  {
   "cell_type": "markdown",
   "metadata": {},
   "source": [
    "### Substituir NaN por um valor específico\n",
    " * Aqui estamos a substituir todos os valores NaN por 0.<p>\n",
    " * Mas antes contar e mostrar algumas linhas"
   ]
  },
  {
   "cell_type": "code",
   "execution_count": null,
   "metadata": {},
   "outputs": [],
   "source": [
    "d[d.isna().any(axis=1)]"
   ]
  },
  {
   "cell_type": "code",
   "execution_count": null,
   "metadata": {},
   "outputs": [],
   "source": [
    "d[52672:52673]"
   ]
  },
  {
   "cell_type": "markdown",
   "metadata": {},
   "source": [
    "E finalmente a correção no dataframe dos dados"
   ]
  },
  {
   "cell_type": "code",
   "execution_count": null,
   "metadata": {},
   "outputs": [],
   "source": [
    "d.fillna(0,inplace=True)\n"
   ]
  },
  {
   "cell_type": "code",
   "execution_count": null,
   "metadata": {},
   "outputs": [],
   "source": [
    "d[52672:52673]"
   ]
  }
 ],
 "metadata": {
  "kernelspec": {
   "display_name": "venv",
   "language": "python",
   "name": "python3"
  },
  "language_info": {
   "codemirror_mode": {
    "name": "ipython",
    "version": 3
   },
   "file_extension": ".py",
   "mimetype": "text/x-python",
   "name": "python",
   "nbconvert_exporter": "python",
   "pygments_lexer": "ipython3",
   "version": "3.9.6"
  }
 },
 "nbformat": 4,
 "nbformat_minor": 2
}
