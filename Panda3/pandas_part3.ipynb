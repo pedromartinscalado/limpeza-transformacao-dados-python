{
 "cells": [
  {
   "cell_type": "markdown",
   "metadata": {},
   "source": [
    "# Ler e escrever ficheiros CSV e Excel <br>"
   ]
  },
  {
   "cell_type": "code",
   "execution_count": null,
   "metadata": {},
   "outputs": [],
   "source": [
    "import pandas as pd\n",
    "print( pd.__version__)"
   ]
  },
  {
   "cell_type": "code",
   "execution_count": null,
   "metadata": {
    "scrolled": true
   },
   "outputs": [],
   "source": [
    "#Reading CSV file\n",
    "d=pd.read_csv('datasets/weather.csv')\n",
    "d.head(3)"
   ]
  },
  {
   "cell_type": "code",
   "execution_count": null,
   "metadata": {},
   "outputs": [],
   "source": [
    "#Reading excel file # eventualmente faltara instalar o pacote xlrd\n",
    "df=pd.read_excel('datasets/titanic.xls')\n",
    "df.head(3)"
   ]
  },
  {
   "cell_type": "markdown",
   "metadata": {},
   "source": [
    "### Se quiser ler apenas algumas linhas em vez de todas"
   ]
  },
  {
   "cell_type": "code",
   "execution_count": null,
   "metadata": {},
   "outputs": [],
   "source": [
    "df=pd.read_csv('datasets/weather.csv',nrows=7)\n",
    "df"
   ]
  },
  {
   "cell_type": "markdown",
   "metadata": {},
   "source": [
    "### Alterar valores específicos com NaN durante a leitura\n",
    " * Ao ler o conjunto de dados, pode alterar o valor específico com NaN\n",
    "   > df = pd.read_excel( \"titanic.xls\", na_values ​​= [ lista do elemento que deseja alterar para NaN ] )"
   ]
  },
  {
   "cell_type": "code",
   "execution_count": null,
   "metadata": {},
   "outputs": [],
   "source": [
    "df = pd.read_excel(\"datasets/titanic.xls\",na_values=['None']) \n",
    "df.head()"
   ]
  },
  {
   "cell_type": "markdown",
   "metadata": {},
   "source": [
    "### Alterar valores específicos com colunas NaN durante a leitura"
   ]
  },
  {
   "cell_type": "code",
   "execution_count": null,
   "metadata": {},
   "outputs": [],
   "source": [
    "df=pd.read_excel('datasets/titanic.xls')\n",
    "df.head()"
   ]
  },
  {
   "cell_type": "code",
   "execution_count": null,
   "metadata": {},
   "outputs": [],
   "source": [
    "df=pd.read_excel('datasets/titanic.xls',na_values={'body':['None'],'boat':['None'],'parch':[2,0]})\n",
    "df.head()"
   ]
  },
  {
   "cell_type": "markdown",
   "metadata": {},
   "source": [
    " * O argumento <b>na_values ​​</b> é usado para substituir todos os valores passados ​​na lista por NaN. Também pode substituir alguns valores inválidos na coluna, como no código acima. Se executar o código acima, terá um dataframe em que 'Nenhum' na coluna do corpo é substituído por NaN, novamente Nenhum na coluna do barco é substituído por NaN e 2 e 0 na coluna parch são substituídos por NaN."
   ]
  },
  {
   "cell_type": "markdown",
   "metadata": {},
   "source": [
    "### Escrever em CSV ou Excel\n",
    " * Pode converter qualquer dataframe em um novo ficheiro CSV ou Excel"
   ]
  },
  {
   "cell_type": "code",
   "execution_count": null,
   "metadata": {},
   "outputs": [],
   "source": [
    "#Creatiing my own dictionary\n",
    "mydict={\n",
    "         'dates':['02-01-12','03-01-12','04-01-12','05-01-12','06-01-12'],\n",
    "         'day':['sunny','rainy','hot','sunny','hot'],\n",
    "         'wind-speed':[12,34,45,56,67],\n",
    "         'temp':[45,46,47,48,49]\n",
    "       }\n",
    "#Converting disction to dataframe object\n",
    "df=pd.DataFrame(mydict)\n",
    "\n",
    "#Printing the dataframe\n",
    "df"
   ]
  },
  {
   "cell_type": "markdown",
   "metadata": {},
   "source": [
    "### Criar um novo ficheiro"
   ]
  },
  {
   "cell_type": "markdown",
   "metadata": {},
   "source": [
    "#### Criar um novo ficheiro csv mycsv.csv"
   ]
  },
  {
   "cell_type": "markdown",
   "metadata": {},
   "source": [
    "Suponha que leu um ficheiro csv ou excel como objeto de dataframe e que fez alguma modificação. Agora quer escrever um novo ficheiro csv ou excel que contenha o dataframe modificado. Nesse caso, precisará da função to_csv() ou to_excel() para criar um novo ficheiro. Veja o exemplo abaixo -"
   ]
  },
  {
   "cell_type": "code",
   "execution_count": null,
   "metadata": {},
   "outputs": [],
   "source": [
    "df.to_csv('datasets/mycsv.csv',index=False)\n"
   ]
  },
  {
   "cell_type": "markdown",
   "metadata": {},
   "source": [
    "#### Criar um novo ficheiro excel myexcel.xls"
   ]
  },
  {
   "cell_type": "code",
   "execution_count": null,
   "metadata": {},
   "outputs": [],
   "source": [
    "df.to_excel('datasets/myexcel.xlsx',index=False) # eventualmente precisa instalar o modulo xlwt\n",
    "# caso necessário com um python mais recente, crie antes um xlsx e se necessário instale o módulo openpyxl"
   ]
  },
  {
   "cell_type": "markdown",
   "metadata": {},
   "source": [
    "### Escrever em csv ou excel apenas linhas selecionadas\n",
    "<br>\n",
    "Suponha que modificou o dataframe e deseja escrevê-lo em outro ficheiro csv com apenas colunas selecionadas. temp, velocidade do vento (day, temp, wind-speed) e eu ignorei a coluna de data."
   ]
  },
  {
   "cell_type": "markdown",
   "metadata": {},
   "source": [
    "#### quantas colunas no dataframe df ?"
   ]
  },
  {
   "cell_type": "code",
   "execution_count": null,
   "metadata": {},
   "outputs": [],
   "source": [
    "df.columns"
   ]
  },
  {
   "cell_type": "code",
   "execution_count": null,
   "metadata": {},
   "outputs": [],
   "source": [
    "#Writing only three columns day,temp,wind-speed\n",
    "df.to_csv('datasets/mycsv_few_columns.csv',columns=['day','temp','wind-speed'],index=False)\n",
    "\n",
    "#Again reading to see the result\n",
    "d=pd.read_csv('datasets/mycsv_few_columns.csv')\n",
    "d"
   ]
  },
  {
   "cell_type": "markdown",
   "metadata": {},
   "source": [
    "### Conversores :"
   ]
  },
  {
   "cell_type": "markdown",
   "metadata": {},
   "source": [
    "Em muitos casos não tem um conjunto de dados limpo. Valores inválidos no conjunto de dados levam a muitos problemas ao prever ou extrair as informações significativas. Para evitar esse problema, usamos conversores.\n",
    "* Os conversores são basicamente funções que convertem o valor específico de uma coluna em seu valor desejado\n",
    "* Função de conversão passada para o dicionário como no na_values."
   ]
  },
  {
   "cell_type": "markdown",
   "metadata": {},
   "source": [
    "Este é nosso conjunto de dados no qual pode ver que há muitos valores inválidos presentes. Esses valores são ruídos em nosso conjunto de dados."
   ]
  },
  {
   "cell_type": "code",
   "execution_count": null,
   "metadata": {},
   "outputs": [],
   "source": [
    "df=pd.read_csv('datasets/season.csv')\n",
    "df"
   ]
  },
  {
   "cell_type": "markdown",
   "metadata": {},
   "source": [
    "#### A função a seguir irá converter qualquer célula da coluna com 'NaN' em 40, então aqui vamos aplicar esta função na coluna 'temp' e assim para as colunas 'day' e 'wind-speed'."
   ]
  },
  {
   "cell_type": "code",
   "execution_count": null,
   "metadata": {},
   "outputs": [],
   "source": [
    "def converter_for_temp(col):\n",
    "    if col=='NaN':\n",
    "        return 40\n",
    "    else:\n",
    "        return col\n",
    "def converter_for_day(col):\n",
    "    if col=='NaN':\n",
    "        return 'sunny'\n",
    "    else:\n",
    "        return col\n",
    "def converter_for_wind_speed(col):\n",
    "    if col=='Not available':\n",
    "        return 30\n",
    "    elif col==\"NaN\":\n",
    "        return 48\n",
    "    else:\n",
    "        return col"
   ]
  },
  {
   "cell_type": "code",
   "execution_count": null,
   "metadata": {},
   "outputs": [],
   "source": [
    "df=pd.read_csv('datasets/season.csv',converters={\n",
    "    'day':converter_for_day,\n",
    "    'temp':converter_for_temp,\n",
    "    'wind-speed':converter_for_wind_speed\n",
    "   })\n",
    "df"
   ]
  },
  {
   "cell_type": "markdown",
   "metadata": {},
   "source": [
    "Pode observar que anteriormente as colunas 'day', 'temp' e 'wind-speed' tinham alguns dados inválidos como 'NaN','NAN','Não disponível' mas após aplicar as funções do conversor obtivemos um conjunto de dados limpo. Agora podemos aplicar algumas técnicas de análise de dados para prever algo em nosso conjunto de dados."
   ]
  },
  {
   "cell_type": "markdown",
   "metadata": {},
   "source": [
    "### Escrever dataframes diferentes num ficheiro, mas com nomes diferentes de folhas de cálculo"
   ]
  },
  {
   "cell_type": "markdown",
   "metadata": {},
   "source": [
    "Vamos supor que tem dois dataframes diferentes e quer escrevê-los no mesmo ficheiro Excel, mas com nomes de folhas de cálculo diferentes.\n",
    "<br>\n",
    "\n",
    "Vamos usar dois dicionários um é \"weather1\" e outro é \"house1\" e fazer dois dataframe \"weather\" e \"house\""
   ]
  },
  {
   "cell_type": "code",
   "execution_count": null,
   "metadata": {},
   "outputs": [],
   "source": [
    "#Creating weather dictionary\n",
    "weather1={\n",
    "         'dates':['02-01-12','03-01-12','04-01-12','05-01-12','06-01-12'],\n",
    "         'day':['sunny','rainy','hot','sunny','hot'],\n",
    "         'wind-speed':[12,34,45,56,67],\n",
    "         'temp':[45,46,47,48,49]\n",
    "       }\n",
    "#Converting disction to dataframe object\n",
    "weather=pd.DataFrame(weather1)\n",
    "\n",
    "#Creating house dictionary\n",
    "house1={\n",
    "         'dates':['02-01-12','03-01-12','04-01-12','05-01-12','06-01-12'],\n",
    "         'price':[20000,30000,40000,50000,60000],\n",
    "         'bhk':[1,3,2,1,2],\n",
    "         'how-old':[2,5,2,7,4]\n",
    "       }\n",
    "\n",
    "#converting house dictionary to dataframe object\n",
    "house=pd.DataFrame(house1)\n"
   ]
  },
  {
   "cell_type": "markdown",
   "metadata": {},
   "source": [
    "Chame o \"ExcelWriter\" e crie o objeto \"writer\". Agora chame a função to_excel() e passe três argumentos -\n",
    "  * <b>1. objeto \"writer\":</b>\n",
    "  * <b>2. nome_da_folha \"sheet_name\": </b>\n",
    "  * <b>3. Índice :</b> Opcional"
   ]
  },
  {
   "cell_type": "code",
   "execution_count": null,
   "metadata": {},
   "outputs": [],
   "source": [
    "with pd.ExcelWriter('datasets/weather_and_house.xlsx') as writer:\n",
    "   weather.to_excel(writer,sheet_name='Weather',index=False)\n",
    "   house.to_excel(writer,sheet_name='House',index=False)"
   ]
  },
  {
   "cell_type": "code",
   "execution_count": null,
   "metadata": {},
   "outputs": [],
   "source": [
    "# instalar openpyxl para criar ficheiros xlsx\n",
    "with pd.ExcelWriter('datasets/weather_and_house.xlsx') as writer:\n",
    "   weather.to_excel(writer,sheet_name='Weather',index=False)\n",
    "   house.to_excel(writer,sheet_name='House',index=False)\n"
   ]
  },
  {
   "cell_type": "markdown",
   "metadata": {},
   "source": [
    "#### Agora aceda as folhas de cálculo separadamente passando o seu nome durante a leitura\n",
    "Veja o exemplo"
   ]
  },
  {
   "cell_type": "code",
   "execution_count": null,
   "metadata": {},
   "outputs": [],
   "source": [
    "d1=pd.read_excel('datasets/weather_and_house.xlsx','Weather')\n",
    "d1"
   ]
  },
  {
   "cell_type": "code",
   "execution_count": null,
   "metadata": {},
   "outputs": [],
   "source": [
    "d2=pd.read_excel('datasets/weather_and_house.xlsx','House')\n",
    "d2"
   ]
  }
 ],
 "metadata": {
  "kernelspec": {
   "display_name": "venv",
   "language": "python",
   "name": "python3"
  },
  "language_info": {
   "codemirror_mode": {
    "name": "ipython",
    "version": 3
   },
   "file_extension": ".py",
   "mimetype": "text/x-python",
   "name": "python",
   "nbconvert_exporter": "python",
   "pygments_lexer": "ipython3",
   "version": "3.9.6"
  }
 },
 "nbformat": 4,
 "nbformat_minor": 2
}
