{
 "cells": [
  {
   "cell_type": "markdown",
   "metadata": {},
   "source": [
    "# Manipulação de dados ausentes parte-1\n",
    "---------------\n",
    "     1) Método fillna()\n",
    "     2) Método de preenchimento direto (Forward fill)\n",
    "     3) Método de preenchimento para trás (Backward fill)\n",
    "     4) Métodos de interpolação (linear, quadrático, polinomial, tempo etc.)\n",
    "     5) Método dropna()"
   ]
  },
  {
   "cell_type": "code",
   "execution_count": null,
   "metadata": {},
   "outputs": [],
   "source": [
    "import pandas as pd\n",
    "print( pd.__version__)"
   ]
  },
  {
   "cell_type": "code",
   "execution_count": null,
   "metadata": {},
   "outputs": [],
   "source": [
    "df=pd.read_csv('datasets/season.csv')\n",
    "\n",
    "# This is our dataframe\n",
    "df"
   ]
  },
  {
   "cell_type": "markdown",
   "metadata": {},
   "source": [
    "### Preencher todo o NaN com qualquer número ou string"
   ]
  },
  {
   "cell_type": "markdown",
   "metadata": {},
   "source": [
    "Se o seu dataframe contém valores NaN, então não pode fazer nenhuma operação de análise de dados porque NaN não faz sentido. Às vezes é melhor preenchê-lo com qualquer número ou string.\n",
    "* Para preencher todas as células contendo NaN com qualquer número ou string vamos usar\n",
    "   > ##### fillna ( seu_valor_vai_aqui )\n",
    "Aqui estamos a substituir todos os valores NaN por zeros."
   ]
  },
  {
   "cell_type": "code",
   "execution_count": null,
   "metadata": {},
   "outputs": [],
   "source": [
    "df"
   ]
  },
  {
   "cell_type": "code",
   "execution_count": null,
   "metadata": {},
   "outputs": [],
   "source": [
    "df2=df.fillna(0)\n",
    "df2"
   ]
  },
  {
   "cell_type": "markdown",
   "metadata": {},
   "source": [
    "### Método Forward Fill"
   ]
  },
  {
   "cell_type": "markdown",
   "metadata": {},
   "source": [
    "Em vários casos, preencher todos os NaN com o mesmo valor leva a conclusões erradas. Portanto, deve desejar preencher todos os NaN das respectivas colunas com dados semelhantes a essa coluna. No exemplo anterior podemos ver que o preenchimento de zero na coluna \"dia\" não é significativo porque zero não denota nenhuma condição de dia. E se pudermos preencher os dados de forma semelhante às respectivas colunas. <br>\n",
    "No método de preenchimento para frente (forward fill), preenchemos o valor de NaN com o valor anterior da mesma coluna, como se tivéssemos o valor NaN na coluna temporária na quarta linha, o valor NaN da quarta linha da coluna temporária será preenchido com o valor da terceira linha da mesma coluna neste método\n",
    " * Este método pode ser implementado por\n",
    "         \n",
    "         fillna(method = \"ffill\")"
   ]
  },
  {
   "cell_type": "code",
   "execution_count": null,
   "metadata": {},
   "outputs": [],
   "source": [
    "df2=df.fillna(method='ffill')\n",
    "df2"
   ]
  },
  {
   "cell_type": "markdown",
   "metadata": {},
   "source": [
    "Observe a 4ª e 6ª coluna da temp e do dia (temp e day), há uma mudança"
   ]
  },
  {
   "cell_type": "markdown",
   "metadata": {},
   "source": [
    "### Método Backward Fill"
   ]
  },
  {
   "cell_type": "markdown",
   "metadata": {},
   "source": [
    "Isso é exatamente o oposto do método de preenchimento direto. Neste método, preencheremos o valor NaN de um dataframe com o valor na mesma coluna, mas o valor da próxima linha, como se tivéssemos NaN na coluna temporária na 4ª linha, então o preencheremos com dados na 5ª linha da mesma coluna.\n",
    "* Isso pode ser implementado por\n",
    "> fillna(metodo = \"bfill\")"
   ]
  },
  {
   "cell_type": "code",
   "execution_count": null,
   "metadata": {},
   "outputs": [],
   "source": [
    "df2=df.fillna(method=\"bfill\")\n",
    "df2"
   ]
  },
  {
   "cell_type": "markdown",
   "metadata": {},
   "source": [
    "* <b>limit=m :</b> Se o seu dataframe tem \"n\" valores NaN contínuos e quer apenas \"m\" NaN contínuos para preencher pelo método de preenchimento para frente ou para trás, então pode preencher o NaN contínuo m passando como argumento extra em\n",
    "> <b>fillna(method=\"ffill\",limit=m)</b>"
   ]
  },
  {
   "cell_type": "markdown",
   "metadata": {},
   "source": [
    "### Método de Interpolação"
   ]
  },
  {
   "cell_type": "markdown",
   "metadata": {},
   "source": [
    "Se quer preencher sua coluna de dataframe com o valor relativo a essa coluna, mas não copiado da linha anterior ou seguinte da mesma coluna. Suponha que o valor numa coluna na linha 2 seja 30, o mesmo na linha 4 seja 34 e a linha 3 seja NaN na mesma coluna. Neste caso, se aplicar a interpolação, obterá 32 na linha-2 na mesma coluna. Isso é chamado de interpolação linear.<p>\n",
    "Existem outros tipos de interpolação:\n",
    "* 1) linear\n",
    "* 2) quadrático\n",
    "* 3) polinomial\n",
    "* 4) tempo etc."
   ]
  },
  {
   "cell_type": "code",
   "execution_count": null,
   "metadata": {},
   "outputs": [],
   "source": [
    "df"
   ]
  },
  {
   "cell_type": "code",
   "execution_count": null,
   "metadata": {},
   "outputs": [],
   "source": [
    "#By default it is linear interpolation\n",
    "df2=df.interpolate()\n",
    "df2"
   ]
  },
  {
   "cell_type": "markdown",
   "metadata": {},
   "source": [
    "##### Nota\n",
    "* Pode ver que apenas a coluna temporária é afetada porque contém valores\n",
    "* A interpolação se aplica apenas a colunas que contêm valores e não strings"
   ]
  },
  {
   "cell_type": "code",
   "execution_count": null,
   "metadata": {},
   "outputs": [],
   "source": [
    "df"
   ]
  },
  {
   "cell_type": "markdown",
   "metadata": {},
   "source": [
    "#### Método \"tempo\" (\"time\"):"
   ]
  },
  {
   "cell_type": "raw",
   "metadata": {},
   "source": [
    "No método do tempo, pode preencher o valor NaN com dados de acordo com o valor do tempo, ele continuará em relação ao tempo.\n",
    "Por exemplo, se tiver dados como estes-\n",
    "      _____________________\n",
    "     |   datas   | dados   |\n",
    "     |___________|_________|\n",
    "     |01-02-2012 |  10     |\n",
    "     |02-02-2012 |  30     |\n",
    "     |03-02-2012 |  50     |\n",
    "     |05-02-2012 |  NaN    |\n",
    "     |06-02-2012 |  110    |\n",
    "     |___________|_________|\n",
    "\n",
    "Pode observar que os dados aumentam 20 unidades por dia. Se aplicar a interpolação provavelmente obterá uma resposta em torno de 75 pelo método linear, mas se você aplicar o método do tempo, obterá 90 em vez de 75. Agora você pode ver a diferença nos valores.\n",
    "Mas há um problema se aplicar o método time no dataframe sem converter seu índice para timestamp da string.\n",
    "O código a seguir irá converter o índice de df dataframe em timestamp.\n",
    "Aqui passamos a coluna de datas na função to_datetime() e ele retornará o valor de timestamp da coluna de datas então depois de definir a coluna de datas como seu índice.\n",
    "Agora podemos aplicar o método \"time\" com sucesso."
   ]
  },
  {
   "cell_type": "code",
   "execution_count": null,
   "metadata": {},
   "outputs": [],
   "source": [
    "df['dates'] = pd.to_datetime(df['dates'])\n",
    "df = df.set_index('dates')\n",
    "df"
   ]
  },
  {
   "cell_type": "code",
   "execution_count": null,
   "metadata": {},
   "outputs": [],
   "source": [
    "df2=df.interpolate(\"time\")\n",
    "df2"
   ]
  },
  {
   "cell_type": "markdown",
   "metadata": {},
   "source": [
    "### Eliminar as linhas contendo NaN"
   ]
  },
  {
   "cell_type": "markdown",
   "metadata": {},
   "source": [
    "#### A eliminação de linhas contendo NaN será feita da seguinte maneira -"
   ]
  },
  {
   "cell_type": "markdown",
   "metadata": {},
   "source": [
    " * Eliminação ou exclusão de todas as linhas que contém pelo menos um NaN <br>\n",
    " A função dropna() descartará todas as linhas que contenham pelo menos um NaN."
   ]
  },
  {
   "cell_type": "code",
   "execution_count": null,
   "metadata": {},
   "outputs": [],
   "source": [
    "df2=df.dropna()\n",
    "df2"
   ]
  },
  {
   "cell_type": "markdown",
   "metadata": {},
   "source": [
    "* Eliminar todas as linhas que contém todos os valores NaN <br>\n",
    "Para descartar todas as linhas que contêm apenas NaN, exceto index (aqui a data é o índice), precisa passar how=\"all\" na função dropna()."
   ]
  },
  {
   "cell_type": "code",
   "execution_count": null,
   "metadata": {},
   "outputs": [],
   "source": [
    "df2=df.dropna(how=\"all\")\n",
    "df2"
   ]
  },
  {
   "cell_type": "markdown",
   "metadata": {},
   "source": [
    "* Eliminar todas as linhas que contêm n valores válidos (n é qualquer número natural)\n",
    "Se quer excluir as linhas que contêm apenas n=2 valores válidos. Da mesma forma, pode excluir n=1,2,3..etc, desde que n<=número de colunas.Aqui n é chamado de valor limite."
   ]
  },
  {
   "cell_type": "code",
   "execution_count": null,
   "metadata": {},
   "outputs": [],
   "source": [
    "df2=df.dropna(thresh=2)\n",
    "df2\n"
   ]
  },
  {
   "cell_type": "markdown",
   "metadata": {},
   "source": [
    "        Pode ver a linha que contém pelo menos valores válidos, permanece a mesma\n",
    "    e a linha não contém pelo menos um valor é excluída.\"não disponível\" não é\n",
    "    NaN então será considerado um valor válido para a função dropna()."
   ]
  }
 ],
 "metadata": {
  "kernelspec": {
   "display_name": "venv",
   "language": "python",
   "name": "python3"
  },
  "language_info": {
   "codemirror_mode": {
    "name": "ipython",
    "version": 3
   },
   "file_extension": ".py",
   "mimetype": "text/x-python",
   "name": "python",
   "nbconvert_exporter": "python",
   "pygments_lexer": "ipython3",
   "version": "3.9.6"
  }
 },
 "nbformat": 4,
 "nbformat_minor": 2
}
