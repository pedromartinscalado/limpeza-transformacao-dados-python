{
 "cells": [
  {
   "cell_type": "markdown",
   "metadata": {},
   "source": [
    "# Manipulação dados ausentes parte-2\n",
    "------------"
   ]
  },
  {
   "cell_type": "code",
   "execution_count": null,
   "metadata": {},
   "outputs": [],
   "source": [
    "import pandas as pd\n",
    "import numpy as np\n",
    "print( pd.__version__)\n",
    "print( np.__version__)\n"
   ]
  },
  {
   "cell_type": "code",
   "execution_count": null,
   "metadata": {},
   "outputs": [],
   "source": [
    "df=pd.read_csv(\"datasets/travel.csv\")\n",
    "df"
   ]
  },
  {
   "cell_type": "markdown",
   "metadata": {},
   "source": [
    "### Substituir um valor específico por outro valor"
   ]
  },
  {
   "cell_type": "markdown",
   "metadata": {},
   "source": [
    "       Suponha que o seu dataframe contenha alguns valores inválidos e quer substituí-los por outros valores como 0 ou NaN.\n",
    "    Neste caso, os valores especiais são 5000 e 2000. Pode ver o seguinte resultado onde 2000 e 5000 são substituídos pelo valor NaN"
   ]
  },
  {
   "cell_type": "code",
   "execution_count": null,
   "metadata": {},
   "outputs": [],
   "source": [
    "df2=df.replace([\"5000\",\"2000\"],np.NaN)\n",
    "df2"
   ]
  },
  {
   "cell_type": "markdown",
   "metadata": {},
   "source": [
    "    Há um problema com esta abordagem é que ela substituirá todos os valores que passou na lista pelo seu valor, mas em muitos outros casos não quer como se você tiver 50.000 na coluna de preço, é válido, mas se 50000 está na coluna de nome, não é válido neste caso.\n",
    "    não da coluna de preço.\n",
    "    Nesse caso você precisa passar o dicionário na coluna de substituição. Este dicionário conterá o nome da coluna e o valor que você deseja substituir"
   ]
  },
  {
   "cell_type": "code",
   "execution_count": null,
   "metadata": {},
   "outputs": [],
   "source": [
    "df2=df.replace({\n",
    "    'Age':[\"2000\",\"5000\"],\n",
    "    'No_of_pkg':[\"2000\",\"5000\"],\n",
    "    \"travel_id\":[0]\n",
    "},np.NaN)\n",
    "df2"
   ]
  },
  {
   "cell_type": "markdown",
   "metadata": {},
   "source": [
    "    Se quiser substituir algum valor específico como 5000 por qualquer outro valor e assim por diante.\n",
    "    para passar o dicionário com todas as chaves que quer substituir e valores com os quais deseja substituir.\n",
    "    Aqui 5000,2000,8 são os valores a serem substituídos são as chaves e np.NaN & 10 são os valores a serem substituídos são os valores do dicionário."
   ]
  },
  {
   "cell_type": "code",
   "execution_count": null,
   "metadata": {},
   "outputs": [],
   "source": [
    "df2=df.replace({\n",
    "    \"5000\":np.NaN,\n",
    "    \"2000\":np.NaN,\n",
    "       8:10\n",
    "})\n",
    "df2"
   ]
  },
  {
   "cell_type": "markdown",
   "metadata": {},
   "source": [
    "**Note:** Todos os valores no dataframe que pertencem às chaves do disccionário serão substituídos, independentemente da coluna."
   ]
  },
  {
   "cell_type": "markdown",
   "metadata": {},
   "source": [
    "### Remover caracteres desnecessários das colunas"
   ]
  },
  {
   "cell_type": "markdown",
   "metadata": {},
   "source": [
    "Suponha que o seu dataframe contém caracteres desnecessários com seus valores de dados.Aqui years/yrs/Yrs/Years\n",
    "    na coluna Age, o mesmo nas colunas No_of_pkg e Package são caracteres desnecessários que você não deseja\n",
    "    e esses caracteres impedirão que aplique qualquer tipo de operação na análise de dados.\n",
    "    para se livrar dele. Nesse caso tem que passar regex como um valor e o nome da coluna como uma chave do discionário que passou na função replace(), assim como também tem que definir regex=True e passar uma string vazia\n",
    "    \n",
    "* ** <code> [A-Za-z] </code> ** : This is the regex of all the character from A to Z and a to z.\n",
    "* <b><code> \\$ </code></b> : This is the regex for **<code>$</code>** sign.\n",
    "* For futher information about regex go to this link https://medium.com/factory-mind/regex-tutorial-a-simple-cheatsheet-by-examples-649dc1c3f285"
   ]
  },
  {
   "cell_type": "code",
   "execution_count": null,
   "metadata": {},
   "outputs": [],
   "source": [
    "df3=df2.replace({\n",
    "    'Age':'[A-Za-z]',\n",
    "    'No_of_pkg':'[A-Za-z]',\n",
    "    'Package':'\\$'\n",
    "},\"\",regex=True)\n",
    "df3"
   ]
  },
  {
   "cell_type": "markdown",
   "metadata": {},
   "source": [
    "### Mapeamento de uma lista para outra lista"
   ]
  },
  {
   "cell_type": "markdown",
   "metadata": {},
   "source": [
    "     Se o seu conjunto de dados contém dados que se repetem mais de uma vez ou você deseja alterar algum conjunto de string para number, então você tem que aplicar mapeamento de lista."
   ]
  },
  {
   "cell_type": "code",
   "execution_count": null,
   "metadata": {},
   "outputs": [],
   "source": [
    "mydis={\n",
    "    \"name\":[\"Shahid\",\"Adrika\",\"Bikash\",\"Ashish\",\"Ganesh\",\"Zahid\",\"Mohan\",\"Sohan\"],\n",
    "    \"grades\":[\"poor\",\"excellent\",\"very good\",\"average\",\"good\",\"very good\",\"outstanding\",\"poor\"]\n",
    "      }\n",
    "df=pd.DataFrame(mydis)\n",
    "df"
   ]
  },
  {
   "cell_type": "code",
   "execution_count": null,
   "metadata": {},
   "outputs": [],
   "source": [
    "df2=df.replace([\"poor\",\"average\",\"good\",\"very good\",\"excellent\",\"outstanding\"],[5,6,7,8,9,10])\n",
    "df2"
   ]
  },
  {
   "cell_type": "code",
   "execution_count": null,
   "metadata": {},
   "outputs": [],
   "source": [
    "df2.describe()"
   ]
  }
 ],
 "metadata": {
  "kernelspec": {
   "display_name": "venv",
   "language": "python",
   "name": "python3"
  },
  "language_info": {
   "codemirror_mode": {
    "name": "ipython",
    "version": 3
   },
   "file_extension": ".py",
   "mimetype": "text/x-python",
   "name": "python",
   "nbconvert_exporter": "python",
   "pygments_lexer": "ipython3",
   "version": "3.9.6"
  }
 },
 "nbformat": 4,
 "nbformat_minor": 2
}
