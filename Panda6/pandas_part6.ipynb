{
 "cells": [
  {
   "cell_type": "markdown",
   "metadata": {},
   "source": [
    "# Agrupar: Dividir, Combinar e Aplicar\n",
    "(Groupby : Split, Apply e Combine)\n",
    "---------------\n",
    "   O Groupby é uma das operações importantes na análise de dados. Inclui três etapas - <br>\n",
    "         \n",
    "   <ul>\n",
    "    <li><b>Splitting</b></li>\n",
    "    <li><b>Applying</b>\n",
    "        <ul>\n",
    "            <li>Aggregation</li>\n",
    "            <li>Transformation</li>\n",
    "            <li>Filterting</li>\n",
    "        </ul>\n",
    "    </li>\n",
    "    <li><b>Combine</b></li>\n",
    "   </ul>\n",
    "        \n",
    "   A propriedade Groupby agrupa os dados de acordo com a coluna fornecida à função.No exemplo a seguir pode ver um agrupamento com o dataframe df."
   ]
  },
  {
   "cell_type": "code",
   "execution_count": null,
   "metadata": {},
   "outputs": [],
   "source": [
    "import pandas as pd\n",
    "import numpy as np\n",
    "print( pd.__version__)\n",
    "print( np.__version__)"
   ]
  },
  {
   "cell_type": "code",
   "execution_count": null,
   "metadata": {},
   "outputs": [],
   "source": [
    "d={\n",
    "    'team':[\"India\",\"New zealand\",\"Australia\",\"India\",\n",
    "            \"India\",\"New zealand\",\"Australia\",\"India\",\n",
    "            \"New zealand\",\"Australia\",\"New zealand\",\"Australia\"],\n",
    "     'Run':[330,230,300,180,200,250,190,400,340,290,390,333],\n",
    "     \"Match\":[2,4,2,1,5,6,3,2,5,3,1,1],\n",
    "     \"Year\":['2012','2012','2012','2012','2013','2013','2013','2013','2014','2014','2014','2014']\n",
    "  }\n",
    "df=pd.DataFrame(d)\n",
    "df"
   ]
  },
  {
   "cell_type": "markdown",
   "metadata": {},
   "source": [
    "    A função groupby() retornará um objeto. Podemos imaginar que cada grupo está a apontar para o seu dataframe."
   ]
  },
  {
   "cell_type": "code",
   "execution_count": null,
   "metadata": {},
   "outputs": [],
   "source": [
    "g=df.groupby('team')\n",
    "g"
   ]
  },
  {
   "cell_type": "code",
   "execution_count": null,
   "metadata": {},
   "outputs": [],
   "source": [
    "for team,teamdata in g:\n",
    "    print(team)\n",
    "    print(\"-\"*10)\n",
    "    print(teamdata)\n",
    "    print(\"-\"*35)"
   ]
  },
  {
   "cell_type": "markdown",
   "metadata": {},
   "source": [
    " **get_group('group name') :**  <br>\n",
    "    Retornará o dataframe de um grupo específico"
   ]
  },
  {
   "cell_type": "code",
   "execution_count": null,
   "metadata": {},
   "outputs": [],
   "source": [
    "g.get_group('India')"
   ]
  },
  {
   "cell_type": "code",
   "execution_count": null,
   "metadata": {},
   "outputs": [],
   "source": [
    "g.get_group('Australia')"
   ]
  },
  {
   "cell_type": "markdown",
   "metadata": {},
   "source": [
    "    Também podemos realizar as operações que estávamos aplicando ao dataframe. A única diferença que obtém é que a operação será aplicada a todos os grupos e retornará o resultado de todos os grupos."
   ]
  },
  {
   "cell_type": "code",
   "execution_count": null,
   "metadata": {},
   "outputs": [],
   "source": [
    "g.min()"
   ]
  },
  {
   "cell_type": "code",
   "execution_count": null,
   "metadata": {},
   "outputs": [],
   "source": [
    "# g.mean()\n",
    "g.mean(numeric_only=True) # recent pandas needed it"
   ]
  },
  {
   "cell_type": "code",
   "execution_count": null,
   "metadata": {},
   "outputs": [],
   "source": [
    "g_yr=df.groupby('Year')\n",
    "# g_yr['Run'].agg([np.min,np.max,np.mean,np.sum,np.std])\n",
    "g_yr['Run'].agg(['min','max','mean','sum','std']) # recent pandas\n"
   ]
  }
 ],
 "metadata": {
  "kernelspec": {
   "display_name": "venv",
   "language": "python",
   "name": "python3"
  },
  "language_info": {
   "codemirror_mode": {
    "name": "ipython",
    "version": 3
   },
   "file_extension": ".py",
   "mimetype": "text/x-python",
   "name": "python",
   "nbconvert_exporter": "python",
   "pygments_lexer": "ipython3",
   "version": "3.9.6"
  }
 },
 "nbformat": 4,
 "nbformat_minor": 2
}
