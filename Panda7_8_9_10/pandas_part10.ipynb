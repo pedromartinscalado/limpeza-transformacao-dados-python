{
 "cells": [
  {
   "cell_type": "markdown",
   "metadata": {},
   "source": [
    "## Remodelar o Dataframe\n",
    "    Nesta técnica, discutiremos sobre como remodelar o dataframe com o método melt().\n",
    "    Tem que passar o dataframe e a coluna que deseja manter o mesmo e os outros argumentos são opcionais"
   ]
  },
  {
   "cell_type": "code",
   "execution_count": null,
   "metadata": {},
   "outputs": [],
   "source": [
    "import pandas as pd\n",
    "print( pd.__version__)"
   ]
  },
  {
   "cell_type": "code",
   "execution_count": null,
   "metadata": {},
   "outputs": [],
   "source": [
    "mydis={\n",
    "    'Day':['Mon','Tue','Wed','Thu','Fri','Sat','Sun'],\n",
    "    'Kolkata':[10,20,30,40,32,34,23],\n",
    "    'Kerala':[23,32,13,42,13,43,23],\n",
    "    'Mumbai':[10,20,30,40,32,34,23]\n",
    "}\n",
    "df=pd.DataFrame(mydis)\n",
    "df"
   ]
  },
  {
   "cell_type": "code",
   "execution_count": null,
   "metadata": {},
   "outputs": [],
   "source": [
    "df2=pd.melt(df,id_vars=['Day'],var_name='City',value_name='Temp')\n",
    "df2"
   ]
  }
 ],
 "metadata": {
  "kernelspec": {
   "display_name": "venv",
   "language": "python",
   "name": "python3"
  },
  "language_info": {
   "codemirror_mode": {
    "name": "ipython",
    "version": 3
   },
   "file_extension": ".py",
   "mimetype": "text/x-python",
   "name": "python",
   "nbconvert_exporter": "python",
   "pygments_lexer": "ipython3",
   "version": "3.9.6"
  }
 },
 "nbformat": 4,
 "nbformat_minor": 2
}
