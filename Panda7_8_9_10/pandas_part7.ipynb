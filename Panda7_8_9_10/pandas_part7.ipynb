{
 "cells": [
  {
   "cell_type": "markdown",
   "metadata": {},
   "source": [
    "# Concat DataFrame \n",
    "------------\n",
    "       Concat é um método muito útil do Pandas. Pode concatenar dois dataframes de duas maneiras -\n",
    "          1)Anexar por linha\n",
    "          2)Anexar por col\n",
    "  \n",
    "### 1) Anexar por linha:\n",
    "       Concat é o método de Pandas no qual pode juntar dois ou mais dataframes desde que seus índices sejam os mesmos.\n",
    "       Vamos dar um exemplo -\n",
    "       Tem dois dataframes de climas de duas cidades Kolkata e Chennai,\n",
    "       \n",
    "   <code> df=pd.concat([dataframe_1,dataframe_2,...,dataframe_n]) </code>\n",
    "       para n número de dataframes,"
   ]
  },
  {
   "cell_type": "code",
   "execution_count": null,
   "metadata": {},
   "outputs": [],
   "source": [
    "import pandas as pd\n",
    "print( pd.__version__)"
   ]
  },
  {
   "cell_type": "code",
   "execution_count": null,
   "metadata": {},
   "outputs": [],
   "source": [
    "chennai={\n",
    "      \"date\":['01-02-12','03-02-12','04-02-12','05-02-12'],\n",
    "      \"event\":['hot','sunny','rainy','cold'],\n",
    "      \"wind-speed\":[33,23,45,24],\n",
    "      \"temp\":[20,21,15,18]\n",
    "}\n",
    "chen=pd.DataFrame(chennai)\n",
    "chen"
   ]
  },
  {
   "cell_type": "code",
   "execution_count": null,
   "metadata": {},
   "outputs": [],
   "source": [
    "kolkata={\n",
    "      \"date\":['01-02-12','03-02-12','04-02-12','05-02-12'],\n",
    "      \"event\":['sunny','cold','cold','rainy'],\n",
    "      \"wind-speed\":[12,10,9,14],\n",
    "      \"temp\":[14,16,15,10]\n",
    "}\n",
    "kol=pd.DataFrame(kolkata)\n",
    "kol"
   ]
  },
  {
   "cell_type": "code",
   "execution_count": null,
   "metadata": {},
   "outputs": [],
   "source": [
    "df=pd.concat([kol,chen])\n",
    "df"
   ]
  },
  {
   "cell_type": "markdown",
   "metadata": {},
   "source": [
    "  **Pode observar o índice primeiro de 0 a 3 e depois de 0 a 3. Para ignorar isso, deve passar um argumento extra.**"
   ]
  },
  {
   "cell_type": "code",
   "execution_count": null,
   "metadata": {},
   "outputs": [],
   "source": [
    "df=pd.concat([kol,chen],ignore_index=True)\n",
    "df\n",
    "# Now see index column"
   ]
  },
  {
   "cell_type": "markdown",
   "metadata": {},
   "source": [
    "##### Se quer unir dataframes com o nome do dataframe como um nome de índice"
   ]
  },
  {
   "cell_type": "code",
   "execution_count": null,
   "metadata": {},
   "outputs": [],
   "source": [
    "df=pd.concat([kol,chen],keys=['Kolkata','Chennai'])\n",
    "df"
   ]
  },
  {
   "cell_type": "code",
   "execution_count": null,
   "metadata": {},
   "outputs": [],
   "source": [
    "df.loc['Kolkata']"
   ]
  },
  {
   "cell_type": "code",
   "execution_count": null,
   "metadata": {},
   "outputs": [],
   "source": [
    "df.loc['Chennai']"
   ]
  },
  {
   "cell_type": "markdown",
   "metadata": {},
   "source": [
    "### 2) Anexar por coluna:\n",
    "    se tiver dois dataframes e quiser anexar coluna. Por exemplo - se tiver dois dataframes de clima\n",
    "    o primeiro dataframe com colunas date, event & temp e o segundo dataframe com colunas date, event & wind-speed quando\n",
    "    juntar ambos, obterá um dataframe com as colunas date, event, temp, date, event e wind-speed.\n",
    "    Para unir duas colunas de dataframe tem que passar axis=1 no método concat().\n",
    "    \n",
    "   <code> df=pd.concat([dataframe_1,dataframe_2,...,dataframe_n],axis=1) </code>"
   ]
  },
  {
   "cell_type": "code",
   "execution_count": null,
   "metadata": {},
   "outputs": [],
   "source": [
    "temp1={\n",
    "      \"date\":['01-02-12','03-02-12','04-02-12','05-02-12'],\n",
    "      \"event\":['sunny','cold','cold','rainy'],\n",
    "      \"temp\":[14,16,15,10]\n",
    "}\n",
    "temp=pd.DataFrame(temp1)\n",
    "temp"
   ]
  },
  {
   "cell_type": "code",
   "execution_count": null,
   "metadata": {},
   "outputs": [],
   "source": [
    "ws={\n",
    "      \"date\":['01-02-12','03-02-12','04-02-12','05-02-12'],\n",
    "      \"event\":['sunny','cold','cold','rainy'],\n",
    "      \"wind-speed\":[12,10,9,14],\n",
    "}\n",
    "wind_speed=pd.DataFrame(ws)\n",
    "wind_speed"
   ]
  },
  {
   "cell_type": "code",
   "execution_count": null,
   "metadata": {},
   "outputs": [],
   "source": [
    "df=pd.concat([temp,wind_speed],axis=1)\n",
    "df"
   ]
  }
 ],
 "metadata": {
  "kernelspec": {
   "display_name": "venv",
   "language": "python",
   "name": "python3"
  },
  "language_info": {
   "codemirror_mode": {
    "name": "ipython",
    "version": 3
   },
   "file_extension": ".py",
   "mimetype": "text/x-python",
   "name": "python",
   "nbconvert_exporter": "python",
   "pygments_lexer": "ipython3",
   "version": "3.9.6"
  }
 },
 "nbformat": 4,
 "nbformat_minor": 2
}
