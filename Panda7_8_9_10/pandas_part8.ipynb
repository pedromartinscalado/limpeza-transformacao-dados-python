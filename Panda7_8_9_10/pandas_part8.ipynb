{
 "cells": [
  {
   "cell_type": "markdown",
   "metadata": {},
   "source": [
    "## Combinar dataframes\n",
    "-------\n",
    "    merge() é um método em pandas com o qual pode combinar dois dataframes sem repetir colunas como fizemos em método concat().\n",
    "    Existem dois tipos de combinação -\n",
    "       1) Junção interna (Inner join)\n",
    "       2) junção externa (Outer join)\n",
    " ### 1) Junção interna (Inner join)\n",
    "    Neste método, obterá a interseção de dois dataframes com a coluna combinada. É o método de combinação padrão.\n",
    "    No método merge(), deve passar os dataframes como argumentos e lista de colunas nas quais deseja combinar e os dataframes como argumentos."
   ]
  },
  {
   "cell_type": "code",
   "execution_count": null,
   "metadata": {},
   "outputs": [],
   "source": [
    "import pandas as pd\n",
    "print( pd.__version__)"
   ]
  },
  {
   "cell_type": "code",
   "execution_count": null,
   "metadata": {},
   "outputs": [],
   "source": [
    "temp1={\n",
    "      \"date\":['01-02-12','03-02-12','04-02-12','05-02-12'],\n",
    "      \"event\":['sunny','cold','cold','rainy'],\n",
    "      \"temp\":[14,16,15,10]\n",
    "}\n",
    "temp=pd.DataFrame(temp1)\n",
    "temp"
   ]
  },
  {
   "cell_type": "code",
   "execution_count": null,
   "metadata": {},
   "outputs": [],
   "source": [
    "ws={\n",
    "      \"date\":['01-02-12','03-02-12','04-02-12','05-02-12'],\n",
    "      \"event\":['sunny','cold','cold','rainy'],\n",
    "      \"wind-speed\":[12,10,9,14],\n",
    "}\n",
    "wind_speed=pd.DataFrame(ws)\n",
    "wind_speed"
   ]
  },
  {
   "cell_type": "code",
   "execution_count": null,
   "metadata": {},
   "outputs": [],
   "source": [
    "df=pd.merge(temp,wind_speed,on=['date','event'])\n",
    "df"
   ]
  },
  {
   "cell_type": "markdown",
   "metadata": {},
   "source": [
    "    Se tiver dados diferentes nas colunas comuns, não poderá fazer \"inner merge\" neste caso.\n",
    "    Suponha o seguinte caso:\n",
    "    \n",
    "      temp                                \n",
    "      ___________________\n",
    "     | event  |   temp   |\n",
    "     |--------|----------|\n",
    "     | sunny  |   40     |\n",
    "     | hot    |   30     |\n",
    "     | rainy  |   25     |\n",
    "     |________|__________|\n",
    "     \n",
    "     wind-speed\n",
    "      ___________________\n",
    "     | event  |wind-speed|\n",
    "     |--------|----------|\n",
    "     | sunny  |   12     |\n",
    "     | hot    |   14     |\n",
    "     | hot    |   11     |\n",
    "     |________|__________|\n",
    "     \n",
    "     Dataframe Combinado pelo método \"inner join\"\n",
    "     \n",
    "      ________________________________\n",
    "     | event  |   temp   | wind-speed |\n",
    "     |--------|----------|------------|\n",
    "     | sunny  |   40     |     12     | \n",
    "     | hot    |   30     |     14     |\n",
    "     |________|__________|____________|\n",
    "     \n",
    "     Pode ver que a última linha não está combinada no resultado, porque não há elemento comum nas colunas comuns."
   ]
  },
  {
   "cell_type": "markdown",
   "metadata": {},
   "source": [
    "### Outer join\n",
    "Isso é como a união de dois dataframes. O valor que não existir terá NaN.                             \n",
    "     \n",
    "\n",
    "     temp                                \n",
    "      ___________________\n",
    "     | event  |   temp   |\n",
    "     |--------|----------|\n",
    "     | sunny  |   40     |\n",
    "     | hot    |   30     |\n",
    "     | rainy  |   25     |\n",
    "     |________|__________|\n",
    "     \n",
    "     wind-speed\n",
    "      ___________________\n",
    "     | event  |wind-speed|\n",
    "     |--------|----------|\n",
    "     | sunny  |   12     |\n",
    "     | hot    |   14     |\n",
    "     | hot    |   11     |\n",
    "     |________|__________|\n",
    "     \n",
    "     Dataframe Combinado pelo método \"inner join\"\n",
    "     \n",
    "      ________________________________\n",
    "     | event  |   temp   | wind-speed |\n",
    "     |--------|----------|------------|\n",
    "     | sunny  |   40     |     12     | \n",
    "     | hot    |   30     |     14     |\n",
    "     | rainy  |   25     |     NaN    |\n",
    "     | hot    |   NaN    |     11     |\n",
    "     |________|__________|____________|\n",
    "     \n",
    "     Pode ver no dataframe final mais duas linhas."
   ]
  },
  {
   "cell_type": "code",
   "execution_count": null,
   "metadata": {},
   "outputs": [],
   "source": [
    "temp1={\n",
    "      \"date\":['01-02-12','03-02-12','04-02-12','05-02-12'],\n",
    "      \"event\":['sunny','cold','hot','sunny'],\n",
    "      \"temp\":[14,16,15,10]\n",
    "}\n",
    "temp=pd.DataFrame(temp1)\n",
    "temp"
   ]
  },
  {
   "cell_type": "code",
   "execution_count": null,
   "metadata": {},
   "outputs": [],
   "source": [
    "ws={\n",
    "      \"date\":['01-02-12','03-02-12','04-02-12','05-02-12'],\n",
    "      \"event\":['sunny','cold','cold','rainy'],\n",
    "      \"wind-speed\":[12,10,9,14],\n",
    "}\n",
    "wind_speed=pd.DataFrame(ws)\n",
    "wind_speed"
   ]
  },
  {
   "cell_type": "markdown",
   "metadata": {},
   "source": [
    "##### Para a junção externa (outer join) precisa passar um argumento, ou seja, how=\"outer\". Por defeito, é interna (inner join)."
   ]
  },
  {
   "cell_type": "code",
   "execution_count": null,
   "metadata": {},
   "outputs": [],
   "source": [
    "df=pd.merge(temp,wind_speed,on=['date','event'],how='outer')\n",
    "df"
   ]
  }
 ],
 "metadata": {
  "kernelspec": {
   "display_name": "venv",
   "language": "python",
   "name": "python3"
  },
  "language_info": {
   "codemirror_mode": {
    "name": "ipython",
    "version": 3
   },
   "file_extension": ".py",
   "mimetype": "text/x-python",
   "name": "python",
   "nbconvert_exporter": "python",
   "pygments_lexer": "ipython3",
   "version": "3.9.6"
  }
 },
 "nbformat": 4,
 "nbformat_minor": 2
}
