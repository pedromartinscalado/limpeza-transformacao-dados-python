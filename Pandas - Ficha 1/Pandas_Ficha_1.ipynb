{
 "cells": [
  {
   "cell_type": "code",
   "execution_count": 9,
   "id": "d8c2bd5c",
   "metadata": {},
   "outputs": [],
   "source": [
    "import pandas as pd\n",
    "import numpy as np"
   ]
  },
  {
   "cell_type": "markdown",
   "id": "35b6f2be",
   "metadata": {},
   "source": []
  },
  {
   "cell_type": "markdown",
   "id": "d5597586",
   "metadata": {},
   "source": [
    "# 1. Ordenar o DataFrame com base noutra lista"
   ]
  },
  {
   "cell_type": "code",
   "execution_count": 25,
   "id": "a053b94e",
   "metadata": {},
   "outputs": [
    {
     "data": {
      "text/html": [
       "<div>\n",
       "<style scoped>\n",
       "    .dataframe tbody tr th:only-of-type {\n",
       "        vertical-align: middle;\n",
       "    }\n",
       "\n",
       "    .dataframe tbody tr th {\n",
       "        vertical-align: top;\n",
       "    }\n",
       "\n",
       "    .dataframe thead th {\n",
       "        text-align: right;\n",
       "    }\n",
       "</style>\n",
       "<table border=\"1\" class=\"dataframe\">\n",
       "  <thead>\n",
       "    <tr style=\"text-align: right;\">\n",
       "      <th></th>\n",
       "      <th>col1</th>\n",
       "      <th>col2</th>\n",
       "    </tr>\n",
       "  </thead>\n",
       "  <tbody>\n",
       "    <tr>\n",
       "      <th>0</th>\n",
       "      <td>A</td>\n",
       "      <td>1</td>\n",
       "    </tr>\n",
       "    <tr>\n",
       "      <th>1</th>\n",
       "      <td>B</td>\n",
       "      <td>2</td>\n",
       "    </tr>\n",
       "    <tr>\n",
       "      <th>2</th>\n",
       "      <td>C</td>\n",
       "      <td>3</td>\n",
       "    </tr>\n",
       "    <tr>\n",
       "      <th>3</th>\n",
       "      <td>D</td>\n",
       "      <td>4</td>\n",
       "    </tr>\n",
       "  </tbody>\n",
       "</table>\n",
       "</div>"
      ],
      "text/plain": [
       "  col1  col2\n",
       "0    A     1\n",
       "1    B     2\n",
       "2    C     3\n",
       "3    D     4"
      ]
     },
     "execution_count": 25,
     "metadata": {},
     "output_type": "execute_result"
    }
   ],
   "source": [
    "df = pd.DataFrame([[\"A\", 1],\n",
    "                   [\"B\", 2],\n",
    "                   [\"C\", 3],\n",
    "                   [\"D\", 4]], \n",
    "                  columns=[\"col1\", \"col2\"])\n",
    "\n",
    "df"
   ]
  },
  {
   "cell_type": "code",
   "execution_count": 3,
   "id": "51388f61",
   "metadata": {},
   "outputs": [],
   "source": [
    "sort_list = [\"C\", \"A\", \"D\", \"B\"]"
   ]
  },
  {
   "cell_type": "code",
   "execution_count": 11,
   "id": "b3b48ce5",
   "metadata": {},
   "outputs": [],
   "source": [
    "## inicie o seu código abaixo\n",
    "new_df = ...\n",
    "## termine aqui o seu código"
   ]
  },
  {
   "cell_type": "code",
   "execution_count": 4,
   "id": "3a5b407a",
   "metadata": {},
   "outputs": [],
   "source": [
    "new_df"
   ]
  },
  {
   "cell_type": "markdown",
   "id": "4b2408fb",
   "metadata": {},
   "source": [
    "# 2. Inserir uma coluna numa posição específica num DataFrame"
   ]
  },
  {
   "cell_type": "code",
   "execution_count": 30,
   "id": "a41f8b5c",
   "metadata": {},
   "outputs": [
    {
     "data": {
      "text/html": [
       "<div>\n",
       "<style scoped>\n",
       "    .dataframe tbody tr th:only-of-type {\n",
       "        vertical-align: middle;\n",
       "    }\n",
       "\n",
       "    .dataframe tbody tr th {\n",
       "        vertical-align: top;\n",
       "    }\n",
       "\n",
       "    .dataframe thead th {\n",
       "        text-align: right;\n",
       "    }\n",
       "</style>\n",
       "<table border=\"1\" class=\"dataframe\">\n",
       "  <thead>\n",
       "    <tr style=\"text-align: right;\">\n",
       "      <th></th>\n",
       "      <th>col_A</th>\n",
       "      <th>col_B</th>\n",
       "    </tr>\n",
       "  </thead>\n",
       "  <tbody>\n",
       "    <tr>\n",
       "      <th>0</th>\n",
       "      <td>A</td>\n",
       "      <td>1</td>\n",
       "    </tr>\n",
       "    <tr>\n",
       "      <th>1</th>\n",
       "      <td>B</td>\n",
       "      <td>2</td>\n",
       "    </tr>\n",
       "    <tr>\n",
       "      <th>2</th>\n",
       "      <td>C</td>\n",
       "      <td>3</td>\n",
       "    </tr>\n",
       "    <tr>\n",
       "      <th>3</th>\n",
       "      <td>D</td>\n",
       "      <td>4</td>\n",
       "    </tr>\n",
       "  </tbody>\n",
       "</table>\n",
       "</div>"
      ],
      "text/plain": [
       "  col_A  col_B\n",
       "0     A      1\n",
       "1     B      2\n",
       "2     C      3\n",
       "3     D      4"
      ]
     },
     "execution_count": 30,
     "metadata": {},
     "output_type": "execute_result"
    }
   ],
   "source": [
    "df = pd.DataFrame([[\"A\", 1], [\"B\", 2],\n",
    "                   [\"C\", 3], [\"D\", 4]], \n",
    "                  columns=[\"col_A\", \"col_B\"])\n",
    "\n",
    "df"
   ]
  },
  {
   "cell_type": "code",
   "execution_count": 31,
   "id": "95a07ca5",
   "metadata": {},
   "outputs": [],
   "source": [
    "new_column = [\"P\", \"Q\", \"R\", \"S\"]\n",
    "\n",
    "insert_position = 1 ## entre col_A e col_B"
   ]
  },
  {
   "cell_type": "code",
   "execution_count": null,
   "id": "767790cc",
   "metadata": {},
   "outputs": [],
   "source": [
    "## inicie o seu código abaixo\n",
    "new_df = ...\n",
    "## termine aqui o seu código"
   ]
  },
  {
   "cell_type": "code",
   "execution_count": null,
   "id": "39893bba",
   "metadata": {},
   "outputs": [],
   "source": [
    "new_df"
   ]
  },
  {
   "cell_type": "markdown",
   "id": "00eba16c",
   "metadata": {},
   "source": [
    "# 3. Selecionar colunas com base no tipo de dados da coluna"
   ]
  },
  {
   "cell_type": "code",
   "execution_count": 36,
   "id": "5e1a9c20",
   "metadata": {},
   "outputs": [
    {
     "data": {
      "text/html": [
       "<div>\n",
       "<style scoped>\n",
       "    .dataframe tbody tr th:only-of-type {\n",
       "        vertical-align: middle;\n",
       "    }\n",
       "\n",
       "    .dataframe tbody tr th {\n",
       "        vertical-align: top;\n",
       "    }\n",
       "\n",
       "    .dataframe thead th {\n",
       "        text-align: right;\n",
       "    }\n",
       "</style>\n",
       "<table border=\"1\" class=\"dataframe\">\n",
       "  <thead>\n",
       "    <tr style=\"text-align: right;\">\n",
       "      <th></th>\n",
       "      <th>col_A</th>\n",
       "      <th>col_B</th>\n",
       "      <th>col_C</th>\n",
       "    </tr>\n",
       "  </thead>\n",
       "  <tbody>\n",
       "    <tr>\n",
       "      <th>0</th>\n",
       "      <td>A</td>\n",
       "      <td>1</td>\n",
       "      <td>True</td>\n",
       "    </tr>\n",
       "    <tr>\n",
       "      <th>1</th>\n",
       "      <td>B</td>\n",
       "      <td>2</td>\n",
       "      <td>False</td>\n",
       "    </tr>\n",
       "    <tr>\n",
       "      <th>2</th>\n",
       "      <td>C</td>\n",
       "      <td>3</td>\n",
       "      <td>False</td>\n",
       "    </tr>\n",
       "    <tr>\n",
       "      <th>3</th>\n",
       "      <td>D</td>\n",
       "      <td>4</td>\n",
       "      <td>True</td>\n",
       "    </tr>\n",
       "  </tbody>\n",
       "</table>\n",
       "</div>"
      ],
      "text/plain": [
       "  col_A  col_B  col_C\n",
       "0     A      1   True\n",
       "1     B      2  False\n",
       "2     C      3  False\n",
       "3     D      4   True"
      ]
     },
     "execution_count": 36,
     "metadata": {},
     "output_type": "execute_result"
    }
   ],
   "source": [
    "df = pd.DataFrame([[\"A\", 1, True], [\"B\", 2, False],\n",
    "                   [\"C\", 3, False], [\"D\", 4, True]], \n",
    "                  columns=[\"col_A\", \"col_B\", \"col_C\"])\n",
    "\n",
    "df"
   ]
  },
  {
   "cell_type": "code",
   "execution_count": 35,
   "id": "fcb92cd9",
   "metadata": {},
   "outputs": [],
   "source": [
    "dt_type = \"bool\""
   ]
  },
  {
   "cell_type": "code",
   "execution_count": null,
   "id": "ce970797",
   "metadata": {},
   "outputs": [],
   "source": [
    "## inicie o seu código abaixo\n",
    "new_df = ...\n",
    "## termine aqui o seu código"
   ]
  },
  {
   "cell_type": "code",
   "execution_count": null,
   "id": "24c51bf8",
   "metadata": {},
   "outputs": [],
   "source": [
    "new_df"
   ]
  },
  {
   "cell_type": "markdown",
   "id": "a03f5359",
   "metadata": {},
   "source": [
    "# 4. Contar o número de células Non-NaN para cada coluna"
   ]
  },
  {
   "cell_type": "code",
   "execution_count": null,
   "id": "79827622",
   "metadata": {},
   "outputs": [
    {
     "data": {
      "text/html": [
       "<div>\n",
       "<style scoped>\n",
       "    .dataframe tbody tr th:only-of-type {\n",
       "        vertical-align: middle;\n",
       "    }\n",
       "\n",
       "    .dataframe tbody tr th {\n",
       "        vertical-align: top;\n",
       "    }\n",
       "\n",
       "    .dataframe thead th {\n",
       "        text-align: right;\n",
       "    }\n",
       "</style>\n",
       "<table border=\"1\" class=\"dataframe\">\n",
       "  <thead>\n",
       "    <tr style=\"text-align: right;\">\n",
       "      <th></th>\n",
       "      <th>col_A</th>\n",
       "      <th>col_B</th>\n",
       "    </tr>\n",
       "  </thead>\n",
       "  <tbody>\n",
       "    <tr>\n",
       "      <th>0</th>\n",
       "      <td>A</td>\n",
       "      <td>NaN</td>\n",
       "    </tr>\n",
       "    <tr>\n",
       "      <th>1</th>\n",
       "      <td>NaN</td>\n",
       "      <td>2.0</td>\n",
       "    </tr>\n",
       "    <tr>\n",
       "      <th>2</th>\n",
       "      <td>C</td>\n",
       "      <td>NaN</td>\n",
       "    </tr>\n",
       "    <tr>\n",
       "      <th>3</th>\n",
       "      <td>D</td>\n",
       "      <td>4.0</td>\n",
       "    </tr>\n",
       "  </tbody>\n",
       "</table>\n",
       "</div>"
      ],
      "text/plain": [
       "  col_A  col_B\n",
       "0     A    NaN\n",
       "1   NaN    2.0\n",
       "2     C    NaN\n",
       "3     D    4.0"
      ]
     },
     "execution_count": 39,
     "metadata": {},
     "output_type": "execute_result"
    }
   ],
   "source": [
    "df = pd.DataFrame([[\"A\", np.nan], [np.nan, 2],\n",
    "                   [\"C\", np.nan], [\"D\", 4]], \n",
    "                  columns=[\"col_A\", \"col_B\"])\n",
    "\n",
    "df"
   ]
  },
  {
   "cell_type": "code",
   "execution_count": null,
   "id": "7ec1a361",
   "metadata": {},
   "outputs": [],
   "source": [
    "## inicie o seu código abaixo\n",
    "new_df = ...\n",
    "## termine aqui o seu código"
   ]
  },
  {
   "cell_type": "markdown",
   "id": "b2a56232",
   "metadata": {},
   "source": [
    "# 5. Dividir o DataFrame em partes iguais"
   ]
  },
  {
   "cell_type": "code",
   "execution_count": null,
   "id": "7939243d",
   "metadata": {},
   "outputs": [],
   "source": [
    "new_df"
   ]
  },
  {
   "cell_type": "code",
   "execution_count": 41,
   "id": "2bda7e13",
   "metadata": {},
   "outputs": [
    {
     "data": {
      "text/html": [
       "<div>\n",
       "<style scoped>\n",
       "    .dataframe tbody tr th:only-of-type {\n",
       "        vertical-align: middle;\n",
       "    }\n",
       "\n",
       "    .dataframe tbody tr th {\n",
       "        vertical-align: top;\n",
       "    }\n",
       "\n",
       "    .dataframe thead th {\n",
       "        text-align: right;\n",
       "    }\n",
       "</style>\n",
       "<table border=\"1\" class=\"dataframe\">\n",
       "  <thead>\n",
       "    <tr style=\"text-align: right;\">\n",
       "      <th></th>\n",
       "      <th>col_A</th>\n",
       "      <th>col_B</th>\n",
       "    </tr>\n",
       "  </thead>\n",
       "  <tbody>\n",
       "    <tr>\n",
       "      <th>0</th>\n",
       "      <td>A</td>\n",
       "      <td>1</td>\n",
       "    </tr>\n",
       "    <tr>\n",
       "      <th>1</th>\n",
       "      <td>B</td>\n",
       "      <td>2</td>\n",
       "    </tr>\n",
       "    <tr>\n",
       "      <th>2</th>\n",
       "      <td>C</td>\n",
       "      <td>3</td>\n",
       "    </tr>\n",
       "    <tr>\n",
       "      <th>3</th>\n",
       "      <td>D</td>\n",
       "      <td>4</td>\n",
       "    </tr>\n",
       "  </tbody>\n",
       "</table>\n",
       "</div>"
      ],
      "text/plain": [
       "  col_A  col_B\n",
       "0     A      1\n",
       "1     B      2\n",
       "2     C      3\n",
       "3     D      4"
      ]
     },
     "execution_count": 41,
     "metadata": {},
     "output_type": "execute_result"
    }
   ],
   "source": [
    "df = pd.DataFrame([[\"A\", 1], [\"B\", 2],\n",
    "                   [\"C\", 3], [\"D\", 4]], \n",
    "                  columns=[\"col_A\", \"col_B\"])\n",
    "\n",
    "df"
   ]
  },
  {
   "cell_type": "code",
   "execution_count": 42,
   "id": "ca057ad8",
   "metadata": {},
   "outputs": [],
   "source": [
    "parts = 2"
   ]
  },
  {
   "cell_type": "code",
   "execution_count": null,
   "id": "f97e961a",
   "metadata": {},
   "outputs": [],
   "source": [
    "## inicie o seu código abaixo\n",
    "new_df1, new_df2 = ... \n",
    "## termine aqui o seu código"
   ]
  },
  {
   "cell_type": "code",
   "execution_count": null,
   "id": "289ec861",
   "metadata": {},
   "outputs": [],
   "source": [
    "new_df1"
   ]
  },
  {
   "cell_type": "code",
   "execution_count": null,
   "id": "c2129c08",
   "metadata": {},
   "outputs": [],
   "source": [
    "new_df2"
   ]
  },
  {
   "cell_type": "markdown",
   "id": "a69be3bd",
   "metadata": {},
   "source": [
    "# 6. Inverter o DataFrame por linha ou coluna"
   ]
  },
  {
   "cell_type": "code",
   "execution_count": 46,
   "id": "f3c70308",
   "metadata": {},
   "outputs": [
    {
     "data": {
      "text/html": [
       "<div>\n",
       "<style scoped>\n",
       "    .dataframe tbody tr th:only-of-type {\n",
       "        vertical-align: middle;\n",
       "    }\n",
       "\n",
       "    .dataframe tbody tr th {\n",
       "        vertical-align: top;\n",
       "    }\n",
       "\n",
       "    .dataframe thead th {\n",
       "        text-align: right;\n",
       "    }\n",
       "</style>\n",
       "<table border=\"1\" class=\"dataframe\">\n",
       "  <thead>\n",
       "    <tr style=\"text-align: right;\">\n",
       "      <th></th>\n",
       "      <th>col_A</th>\n",
       "      <th>col_B</th>\n",
       "    </tr>\n",
       "  </thead>\n",
       "  <tbody>\n",
       "    <tr>\n",
       "      <th>0</th>\n",
       "      <td>A</td>\n",
       "      <td>1</td>\n",
       "    </tr>\n",
       "    <tr>\n",
       "      <th>1</th>\n",
       "      <td>B</td>\n",
       "      <td>2</td>\n",
       "    </tr>\n",
       "    <tr>\n",
       "      <th>2</th>\n",
       "      <td>C</td>\n",
       "      <td>3</td>\n",
       "    </tr>\n",
       "    <tr>\n",
       "      <th>3</th>\n",
       "      <td>D</td>\n",
       "      <td>4</td>\n",
       "    </tr>\n",
       "  </tbody>\n",
       "</table>\n",
       "</div>"
      ],
      "text/plain": [
       "  col_A  col_B\n",
       "0     A      1\n",
       "1     B      2\n",
       "2     C      3\n",
       "3     D      4"
      ]
     },
     "execution_count": 46,
     "metadata": {},
     "output_type": "execute_result"
    }
   ],
   "source": [
    "df = pd.DataFrame([[\"A\", 1], [\"B\", 2],\n",
    "                   [\"C\", 3], [\"D\", 4]], \n",
    "                  columns=[\"col_A\", \"col_B\"])\n",
    "\n",
    "df"
   ]
  },
  {
   "cell_type": "code",
   "execution_count": null,
   "id": "6235c501",
   "metadata": {},
   "outputs": [],
   "source": [
    "## inicie o seu código abaixo\n",
    "col_reverse = ... \n",
    "## termine aqui o seu código"
   ]
  },
  {
   "cell_type": "code",
   "execution_count": null,
   "id": "f7b1bfe9",
   "metadata": {},
   "outputs": [],
   "source": [
    "col_reverse"
   ]
  },
  {
   "cell_type": "code",
   "execution_count": null,
   "id": "8ce24984",
   "metadata": {},
   "outputs": [],
   "source": [
    "## inicie o seu código abaixo\n",
    "row_reverse = ... \n",
    "## termine aqui o seu código"
   ]
  },
  {
   "cell_type": "code",
   "execution_count": null,
   "id": "70e48eaa",
   "metadata": {},
   "outputs": [],
   "source": [
    "row_reverse"
   ]
  },
  {
   "cell_type": "markdown",
   "id": "7097675e",
   "metadata": {},
   "source": [
    "# 7. Reorganizar as colunas de um DataFrame"
   ]
  },
  {
   "cell_type": "code",
   "execution_count": 49,
   "id": "783f87ac",
   "metadata": {},
   "outputs": [
    {
     "data": {
      "text/html": [
       "<div>\n",
       "<style scoped>\n",
       "    .dataframe tbody tr th:only-of-type {\n",
       "        vertical-align: middle;\n",
       "    }\n",
       "\n",
       "    .dataframe tbody tr th {\n",
       "        vertical-align: top;\n",
       "    }\n",
       "\n",
       "    .dataframe thead th {\n",
       "        text-align: right;\n",
       "    }\n",
       "</style>\n",
       "<table border=\"1\" class=\"dataframe\">\n",
       "  <thead>\n",
       "    <tr style=\"text-align: right;\">\n",
       "      <th></th>\n",
       "      <th>col_A</th>\n",
       "      <th>col_B</th>\n",
       "    </tr>\n",
       "  </thead>\n",
       "  <tbody>\n",
       "    <tr>\n",
       "      <th>0</th>\n",
       "      <td>A</td>\n",
       "      <td>1</td>\n",
       "    </tr>\n",
       "    <tr>\n",
       "      <th>1</th>\n",
       "      <td>B</td>\n",
       "      <td>2</td>\n",
       "    </tr>\n",
       "    <tr>\n",
       "      <th>2</th>\n",
       "      <td>C</td>\n",
       "      <td>3</td>\n",
       "    </tr>\n",
       "    <tr>\n",
       "      <th>3</th>\n",
       "      <td>D</td>\n",
       "      <td>4</td>\n",
       "    </tr>\n",
       "  </tbody>\n",
       "</table>\n",
       "</div>"
      ],
      "text/plain": [
       "  col_A  col_B\n",
       "0     A      1\n",
       "1     B      2\n",
       "2     C      3\n",
       "3     D      4"
      ]
     },
     "execution_count": 49,
     "metadata": {},
     "output_type": "execute_result"
    }
   ],
   "source": [
    "df = pd.DataFrame([[\"A\", 1], [\"B\", 2],\n",
    "                   [\"C\", 3], [\"D\", 4]], \n",
    "                  columns=[\"col_A\", \"col_B\"])\n",
    "\n",
    "df"
   ]
  },
  {
   "cell_type": "code",
   "execution_count": null,
   "id": "e805f19c",
   "metadata": {},
   "outputs": [],
   "source": [
    "## inicie o seu código abaixo\n",
    "new_df = ... \n",
    "## termine aqui o seu código"
   ]
  },
  {
   "cell_type": "code",
   "execution_count": null,
   "id": "2c6df773",
   "metadata": {},
   "outputs": [],
   "source": [
    "new_df"
   ]
  },
  {
   "cell_type": "markdown",
   "id": "5b462271",
   "metadata": {},
   "source": [
    "# 8. Obter linhas alternativas de um DataFrame"
   ]
  },
  {
   "cell_type": "code",
   "execution_count": 56,
   "id": "b0414b6a",
   "metadata": {},
   "outputs": [
    {
     "data": {
      "text/html": [
       "<div>\n",
       "<style scoped>\n",
       "    .dataframe tbody tr th:only-of-type {\n",
       "        vertical-align: middle;\n",
       "    }\n",
       "\n",
       "    .dataframe tbody tr th {\n",
       "        vertical-align: top;\n",
       "    }\n",
       "\n",
       "    .dataframe thead th {\n",
       "        text-align: right;\n",
       "    }\n",
       "</style>\n",
       "<table border=\"1\" class=\"dataframe\">\n",
       "  <thead>\n",
       "    <tr style=\"text-align: right;\">\n",
       "      <th></th>\n",
       "      <th>col_A</th>\n",
       "      <th>col_B</th>\n",
       "    </tr>\n",
       "  </thead>\n",
       "  <tbody>\n",
       "    <tr>\n",
       "      <th>0</th>\n",
       "      <td>A</td>\n",
       "      <td>1</td>\n",
       "    </tr>\n",
       "    <tr>\n",
       "      <th>1</th>\n",
       "      <td>B</td>\n",
       "      <td>2</td>\n",
       "    </tr>\n",
       "    <tr>\n",
       "      <th>2</th>\n",
       "      <td>C</td>\n",
       "      <td>3</td>\n",
       "    </tr>\n",
       "    <tr>\n",
       "      <th>3</th>\n",
       "      <td>D</td>\n",
       "      <td>4</td>\n",
       "    </tr>\n",
       "  </tbody>\n",
       "</table>\n",
       "</div>"
      ],
      "text/plain": [
       "  col_A  col_B\n",
       "0     A      1\n",
       "1     B      2\n",
       "2     C      3\n",
       "3     D      4"
      ]
     },
     "execution_count": 56,
     "metadata": {},
     "output_type": "execute_result"
    }
   ],
   "source": [
    "df = pd.DataFrame([[\"A\", 1], [\"B\", 2],\n",
    "                   [\"C\", 3], [\"D\", 4]], \n",
    "                  columns=[\"col_A\", \"col_B\"])\n",
    "\n",
    "df"
   ]
  },
  {
   "cell_type": "code",
   "execution_count": null,
   "id": "20e25576",
   "metadata": {},
   "outputs": [],
   "source": [
    "## inicie o seu código abaixo\n",
    "new_df = ... \n",
    "## termine aqui o seu código"
   ]
  },
  {
   "cell_type": "code",
   "execution_count": null,
   "id": "97384415",
   "metadata": {},
   "outputs": [],
   "source": [
    "new_df"
   ]
  },
  {
   "cell_type": "markdown",
   "id": "a1d2ddee",
   "metadata": {},
   "source": [
    "# 9. Inserir uma linha numa posição arbitrária"
   ]
  },
  {
   "cell_type": "code",
   "execution_count": 62,
   "id": "24cd7830",
   "metadata": {},
   "outputs": [
    {
     "data": {
      "text/html": [
       "<div>\n",
       "<style scoped>\n",
       "    .dataframe tbody tr th:only-of-type {\n",
       "        vertical-align: middle;\n",
       "    }\n",
       "\n",
       "    .dataframe tbody tr th {\n",
       "        vertical-align: top;\n",
       "    }\n",
       "\n",
       "    .dataframe thead th {\n",
       "        text-align: right;\n",
       "    }\n",
       "</style>\n",
       "<table border=\"1\" class=\"dataframe\">\n",
       "  <thead>\n",
       "    <tr style=\"text-align: right;\">\n",
       "      <th></th>\n",
       "      <th>col_A</th>\n",
       "      <th>col_B</th>\n",
       "    </tr>\n",
       "  </thead>\n",
       "  <tbody>\n",
       "    <tr>\n",
       "      <th>0</th>\n",
       "      <td>A</td>\n",
       "      <td>1</td>\n",
       "    </tr>\n",
       "    <tr>\n",
       "      <th>1</th>\n",
       "      <td>B</td>\n",
       "      <td>2</td>\n",
       "    </tr>\n",
       "    <tr>\n",
       "      <th>2</th>\n",
       "      <td>C</td>\n",
       "      <td>3</td>\n",
       "    </tr>\n",
       "    <tr>\n",
       "      <th>3</th>\n",
       "      <td>D</td>\n",
       "      <td>4</td>\n",
       "    </tr>\n",
       "  </tbody>\n",
       "</table>\n",
       "</div>"
      ],
      "text/plain": [
       "  col_A  col_B\n",
       "0     A      1\n",
       "1     B      2\n",
       "2     C      3\n",
       "3     D      4"
      ]
     },
     "execution_count": 62,
     "metadata": {},
     "output_type": "execute_result"
    }
   ],
   "source": [
    "df = pd.DataFrame([[\"A\", 1], [\"B\", 2],\n",
    "                   [\"C\", 3], [\"D\", 4]], \n",
    "                  columns=[\"col_A\", \"col_B\"])\n",
    "\n",
    "df"
   ]
  },
  {
   "cell_type": "code",
   "execution_count": 63,
   "id": "0c30d928",
   "metadata": {},
   "outputs": [],
   "source": [
    "insert_pos = 1\n",
    "insert_row = [\"P\", 5]"
   ]
  },
  {
   "cell_type": "code",
   "execution_count": null,
   "id": "bc888e75",
   "metadata": {},
   "outputs": [],
   "source": [
    "## inicie o seu código abaixo\n",
    "new_df = ... \n",
    "## termine aqui o seu código"
   ]
  },
  {
   "cell_type": "code",
   "execution_count": null,
   "id": "689045be",
   "metadata": {},
   "outputs": [],
   "source": [
    "new_df"
   ]
  },
  {
   "cell_type": "markdown",
   "id": "bb084f9a",
   "metadata": {},
   "source": [
    "# 10. Aplicar uma função a todas as células do DataFrame"
   ]
  },
  {
   "cell_type": "code",
   "execution_count": 76,
   "id": "4cbdd511",
   "metadata": {},
   "outputs": [
    {
     "data": {
      "text/html": [
       "<div>\n",
       "<style scoped>\n",
       "    .dataframe tbody tr th:only-of-type {\n",
       "        vertical-align: middle;\n",
       "    }\n",
       "\n",
       "    .dataframe tbody tr th {\n",
       "        vertical-align: top;\n",
       "    }\n",
       "\n",
       "    .dataframe thead th {\n",
       "        text-align: right;\n",
       "    }\n",
       "</style>\n",
       "<table border=\"1\" class=\"dataframe\">\n",
       "  <thead>\n",
       "    <tr style=\"text-align: right;\">\n",
       "      <th></th>\n",
       "      <th>col_A</th>\n",
       "      <th>col_B</th>\n",
       "    </tr>\n",
       "  </thead>\n",
       "  <tbody>\n",
       "    <tr>\n",
       "      <th>0</th>\n",
       "      <td>1</td>\n",
       "      <td>5</td>\n",
       "    </tr>\n",
       "    <tr>\n",
       "      <th>1</th>\n",
       "      <td>2</td>\n",
       "      <td>6</td>\n",
       "    </tr>\n",
       "    <tr>\n",
       "      <th>2</th>\n",
       "      <td>3</td>\n",
       "      <td>7</td>\n",
       "    </tr>\n",
       "    <tr>\n",
       "      <th>3</th>\n",
       "      <td>4</td>\n",
       "      <td>8</td>\n",
       "    </tr>\n",
       "  </tbody>\n",
       "</table>\n",
       "</div>"
      ],
      "text/plain": [
       "   col_A  col_B\n",
       "0      1      5\n",
       "1      2      6\n",
       "2      3      7\n",
       "3      4      8"
      ]
     },
     "execution_count": 76,
     "metadata": {},
     "output_type": "execute_result"
    }
   ],
   "source": [
    "df = pd.DataFrame([[1, 5], [2, 6],\n",
    "                   [3, 7], [4, 8]], \n",
    "                  columns=[\"col_A\", \"col_B\"])\n",
    "\n",
    "df"
   ]
  },
  {
   "cell_type": "code",
   "execution_count": 75,
   "id": "f1d3d07c",
   "metadata": {},
   "outputs": [],
   "source": [
    "def func(num):\n",
    "    return num + 1"
   ]
  },
  {
   "cell_type": "code",
   "execution_count": null,
   "id": "155d22cd",
   "metadata": {},
   "outputs": [],
   "source": [
    "## inicie o seu código abaixo\n",
    "new_df = ... \n",
    "## termine aqui o seu código"
   ]
  },
  {
   "cell_type": "code",
   "execution_count": null,
   "id": "2af30539",
   "metadata": {},
   "outputs": [],
   "source": [
    "new_df"
   ]
  }
 ],
 "metadata": {
  "kernelspec": {
   "display_name": "Python 3 (ipykernel)",
   "language": "python",
   "name": "python3"
  },
  "language_info": {
   "codemirror_mode": {
    "name": "ipython",
    "version": 3
   },
   "file_extension": ".py",
   "mimetype": "text/x-python",
   "name": "python",
   "nbconvert_exporter": "python",
   "pygments_lexer": "ipython3",
   "version": "3.9.12"
  }
 },
 "nbformat": 4,
 "nbformat_minor": 5
}
