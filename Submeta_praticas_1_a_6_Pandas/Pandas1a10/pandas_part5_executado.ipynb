{
 "cells": [
  {
   "cell_type": "markdown",
   "metadata": {},
   "source": [
    "# Manipulação dados ausentes parte-2\n",
    "------------"
   ]
  },
  {
   "cell_type": "code",
   "execution_count": 3,
   "metadata": {},
   "outputs": [],
   "source": [
    "import pandas as pd\n",
    "import numpy as np"
   ]
  },
  {
   "cell_type": "code",
   "execution_count": 7,
   "metadata": {},
   "outputs": [
    {
     "data": {
      "text/html": [
       "<div>\n",
       "<style scoped>\n",
       "    .dataframe tbody tr th:only-of-type {\n",
       "        vertical-align: middle;\n",
       "    }\n",
       "\n",
       "    .dataframe tbody tr th {\n",
       "        vertical-align: top;\n",
       "    }\n",
       "\n",
       "    .dataframe thead th {\n",
       "        text-align: right;\n",
       "    }\n",
       "</style>\n",
       "<table border=\"1\" class=\"dataframe\">\n",
       "  <thead>\n",
       "    <tr style=\"text-align: right;\">\n",
       "      <th></th>\n",
       "      <th>Age</th>\n",
       "      <th>Name</th>\n",
       "      <th>No_of_pkg</th>\n",
       "      <th>Package</th>\n",
       "      <th>travel_id</th>\n",
       "    </tr>\n",
       "  </thead>\n",
       "  <tbody>\n",
       "    <tr>\n",
       "      <th>0</th>\n",
       "      <td>20yrs</td>\n",
       "      <td>Bikash Kumar</td>\n",
       "      <td>1 packages</td>\n",
       "      <td>$100</td>\n",
       "      <td>1</td>\n",
       "    </tr>\n",
       "    <tr>\n",
       "      <th>1</th>\n",
       "      <td>21yrs</td>\n",
       "      <td>Ashish Shaw</td>\n",
       "      <td>5 packages</td>\n",
       "      <td>$200</td>\n",
       "      <td>2</td>\n",
       "    </tr>\n",
       "    <tr>\n",
       "      <th>2</th>\n",
       "      <td>23years</td>\n",
       "      <td>Dipak Kumar</td>\n",
       "      <td>2pkgs</td>\n",
       "      <td>$100</td>\n",
       "      <td>3</td>\n",
       "    </tr>\n",
       "    <tr>\n",
       "      <th>3</th>\n",
       "      <td>20 Years</td>\n",
       "      <td>John Doe</td>\n",
       "      <td>3 pkgs</td>\n",
       "      <td>$100</td>\n",
       "      <td>4</td>\n",
       "    </tr>\n",
       "    <tr>\n",
       "      <th>4</th>\n",
       "      <td>2000</td>\n",
       "      <td>Elisha</td>\n",
       "      <td>5000</td>\n",
       "      <td>$400</td>\n",
       "      <td>5</td>\n",
       "    </tr>\n",
       "    <tr>\n",
       "      <th>5</th>\n",
       "      <td>5000</td>\n",
       "      <td>Md Shahid</td>\n",
       "      <td>10 packages</td>\n",
       "      <td>$200</td>\n",
       "      <td>6</td>\n",
       "    </tr>\n",
       "    <tr>\n",
       "      <th>6</th>\n",
       "      <td>21 yrs</td>\n",
       "      <td>Adrika Roy</td>\n",
       "      <td>7pkgs</td>\n",
       "      <td>$300</td>\n",
       "      <td>7</td>\n",
       "    </tr>\n",
       "    <tr>\n",
       "      <th>7</th>\n",
       "      <td>24 yrs</td>\n",
       "      <td>Shashi Kumar</td>\n",
       "      <td>2000</td>\n",
       "      <td>$500</td>\n",
       "      <td>8</td>\n",
       "    </tr>\n",
       "  </tbody>\n",
       "</table>\n",
       "</div>"
      ],
      "text/plain": [
       "        Age          Name    No_of_pkg Package  travel_id\n",
       "0     20yrs  Bikash Kumar   1 packages   $100           1\n",
       "1     21yrs   Ashish Shaw   5 packages   $200           2\n",
       "2   23years   Dipak Kumar        2pkgs   $100           3\n",
       "3  20 Years      John Doe       3 pkgs   $100           4\n",
       "4      2000        Elisha         5000   $400           5\n",
       "5      5000     Md Shahid  10 packages   $200           6\n",
       "6    21 yrs    Adrika Roy        7pkgs   $300           7\n",
       "7    24 yrs  Shashi Kumar         2000   $500           8"
      ]
     },
     "execution_count": 7,
     "metadata": {},
     "output_type": "execute_result"
    }
   ],
   "source": [
    "df=pd.read_csv(\"D:/PastaUFCDs/UFCD1080803032025/Pandas/Panda520250303/travel.csv\")\n",
    "df"
   ]
  },
  {
   "cell_type": "markdown",
   "metadata": {},
   "source": [
    "### Substituir um valor específico por outro valor"
   ]
  },
  {
   "cell_type": "markdown",
   "metadata": {},
   "source": [
    "       Suponha que o seu dataframe contenha alguns valores inválidos e quer substituí-los por outros valores como 0 ou NaN.\n",
    "    Neste caso, os valores especiais são 5000 e 2000. Pode ver o seguinte resultado onde 2000 e 5000 são substituídos pelo valor NaN"
   ]
  },
  {
   "cell_type": "code",
   "execution_count": 8,
   "metadata": {},
   "outputs": [
    {
     "name": "stdout",
     "output_type": "stream",
     "text": [
      "    Age  No_of_pkg  travel_id\n",
      "0  25.0        2.0        1.0\n",
      "1  30.0        5.0        NaN\n",
      "2   NaN        NaN        1.0\n",
      "3  35.0        3.0        2.0\n",
      "4   NaN        NaN        NaN\n"
     ]
    }
   ],
   "source": [
    "import pandas as pd\n",
    "import numpy as np\n",
    "\n",
    "# Exemplo de DataFrame com valores inválidos\n",
    "data = {\n",
    "    'Age': [25, 30, 2000, 35, 5000],\n",
    "    'No_of_pkg': [2, 5, 2000, 3, 5000],\n",
    "    'travel_id': [1, 0, 1, 2, 0]\n",
    "}\n",
    "\n",
    "df = pd.DataFrame(data)\n",
    "\n",
    "# Substituindo os valores 2000 e 5000 por NaN\n",
    "df2 = df.replace({\n",
    "    'Age': [2000, 5000],\n",
    "    'No_of_pkg': [2000, 5000],\n",
    "    'travel_id': [0]\n",
    "}, np.nan)\n",
    "\n",
    "# Exibindo o DataFrame resultante\n",
    "print(df2)\n"
   ]
  },
  {
   "cell_type": "markdown",
   "metadata": {},
   "source": [
    "    Há um problema com esta abordagem é que ela substituirá todos os valores que passou na lista pelo seu valor, mas em muitos outros casos não quer como se você tiver 50.000 na coluna de preço, é válido, mas se 50000 está na coluna de nome, não é válido neste caso.\n",
    "    não da coluna de preço.\n",
    "    Nesse caso você precisa passar o dicionário na coluna de substituição. Este dicionário conterá o nome da coluna e o valor que você deseja substituir"
   ]
  },
  {
   "cell_type": "code",
   "execution_count": 10,
   "metadata": {},
   "outputs": [
    {
     "name": "stdout",
     "output_type": "stream",
     "text": [
      "    Age  No_of_pkg  travel_id  price\n",
      "0  25.0        2.0        1.0  10000\n",
      "1  30.0        5.0        NaN  50000\n",
      "2   NaN        NaN        1.0  20000\n",
      "3  35.0        3.0        2.0  50000\n",
      "4   NaN        NaN        NaN  30000\n"
     ]
    }
   ],
   "source": [
    "import pandas as pd\n",
    "import numpy as np\n",
    "\n",
    "# Exemplo de DataFrame com valores inválidos\n",
    "data = {\n",
    "    'Age': [25, 30, 2000, 35, 5000],\n",
    "    'No_of_pkg': [2, 5, 2000, 3, 5000],\n",
    "    'travel_id': [1, 0, 1, 2, 0],\n",
    "    'price': [10000, 50000, 20000, 50000, 30000]\n",
    "}\n",
    "\n",
    "df = pd.DataFrame(data)\n",
    "\n",
    "# Substituindo valores inválidos específicos por NaN em cada coluna\n",
    "df['Age'] = df['Age'].replace({2000: np.nan, 5000: np.nan})\n",
    "df['No_of_pkg'] = df['No_of_pkg'].replace({2000: np.nan, 5000: np.nan})\n",
    "df['travel_id'] = df['travel_id'].replace({0: np.nan})\n",
    "\n",
    "# Exibindo o DataFrame resultante\n",
    "print(df)\n"
   ]
  },
  {
   "cell_type": "markdown",
   "metadata": {},
   "source": [
    "    Se quiser substituir algum valor específico como 5000 por qualquer outro valor e assim por diante.\n",
    "    para passar o dicionário com todas as chaves que quer substituir e valores com os quais deseja substituir.\n",
    "    Aqui 5000,2000,8 são os valores a serem substituídos são as chaves e np.NaN & 10 são os valores a serem substituídos são os valores do dicionário."
   ]
  },
  {
   "cell_type": "code",
   "execution_count": 11,
   "metadata": {},
   "outputs": [
    {
     "name": "stdout",
     "output_type": "stream",
     "text": [
      "    Age  No_of_pkg  travel_id  price\n",
      "0  25.0        2.0          1  10000\n",
      "1  30.0        5.0          0  50000\n",
      "2   NaN        NaN          1  20000\n",
      "3  35.0        3.0          2  50000\n",
      "4   NaN        NaN          0  30000\n",
      "5  10.0       10.0         10     10\n"
     ]
    }
   ],
   "source": [
    "import pandas as pd\n",
    "import numpy as np\n",
    "\n",
    "# Exemplo de DataFrame com valores inválidos\n",
    "data = {\n",
    "    'Age': [25, 30, 2000, 35, 5000, 8],\n",
    "    'No_of_pkg': [2, 5, 2000, 3, 5000, 8],\n",
    "    'travel_id': [1, 0, 1, 2, 0, 8],\n",
    "    'price': [10000, 50000, 20000, 50000, 30000, 8]\n",
    "}\n",
    "\n",
    "df = pd.DataFrame(data)\n",
    "\n",
    "# Dicionário para substituir valores específicos\n",
    "replace_dict = {\n",
    "    5000: np.nan,  # Substituir 5000 por NaN\n",
    "    2000: np.nan,  # Substituir 2000 por NaN\n",
    "    8: 10          # Substituir 8 por 10\n",
    "}\n",
    "\n",
    "# Substituindo os valores usando o dicionário\n",
    "df = df.replace(replace_dict)\n",
    "\n",
    "# Exibindo o DataFrame resultante\n",
    "print(df)\n"
   ]
  },
  {
   "cell_type": "markdown",
   "metadata": {},
   "source": [
    "**Note:** Todos os valores no dataframe que pertencem às chaves do disccionário serão substituídos, independentemente da coluna."
   ]
  },
  {
   "cell_type": "markdown",
   "metadata": {},
   "source": [
    "### Remover caracteres desnecessários das colunas"
   ]
  },
  {
   "cell_type": "markdown",
   "metadata": {},
   "source": [
    "Suponha que o seu dataframe contém caracteres desnecessários com seus valores de dados.Aqui years/yrs/Yrs/Years\n",
    "    na coluna Age, o mesmo nas colunas No_of_pkg e Package são caracteres desnecessários que você não deseja\n",
    "    e esses caracteres impedirão que aplique qualquer tipo de operação na análise de dados.\n",
    "    para se livrar dele. Nesse caso tem que passar regex como um valor e o nome da coluna como uma chave do discionário que passou na função replace(), assim como também tem que definir regex=True e passar uma string vazia\n",
    "    \n",
    "* ** <code> [A-Za-z] </code> ** : This is the regex of all the character from A to Z and a to z.\n",
    "* <b><code> \\$ </code></b> : This is the regex for **<code>$</code>** sign.\n",
    "* For futher information about regex go to this link https://medium.com/factory-mind/regex-tutorial-a-simple-cheatsheet-by-examples-649dc1c3f285"
   ]
  },
  {
   "cell_type": "code",
   "execution_count": 12,
   "metadata": {},
   "outputs": [
    {
     "data": {
      "text/html": [
       "<div>\n",
       "<style scoped>\n",
       "    .dataframe tbody tr th:only-of-type {\n",
       "        vertical-align: middle;\n",
       "    }\n",
       "\n",
       "    .dataframe tbody tr th {\n",
       "        vertical-align: top;\n",
       "    }\n",
       "\n",
       "    .dataframe thead th {\n",
       "        text-align: right;\n",
       "    }\n",
       "</style>\n",
       "<table border=\"1\" class=\"dataframe\">\n",
       "  <thead>\n",
       "    <tr style=\"text-align: right;\">\n",
       "      <th></th>\n",
       "      <th>Age</th>\n",
       "      <th>No_of_pkg</th>\n",
       "      <th>travel_id</th>\n",
       "    </tr>\n",
       "  </thead>\n",
       "  <tbody>\n",
       "    <tr>\n",
       "      <th>0</th>\n",
       "      <td>25.0</td>\n",
       "      <td>2.0</td>\n",
       "      <td>1.0</td>\n",
       "    </tr>\n",
       "    <tr>\n",
       "      <th>1</th>\n",
       "      <td>30.0</td>\n",
       "      <td>5.0</td>\n",
       "      <td>NaN</td>\n",
       "    </tr>\n",
       "    <tr>\n",
       "      <th>2</th>\n",
       "      <td>NaN</td>\n",
       "      <td>NaN</td>\n",
       "      <td>1.0</td>\n",
       "    </tr>\n",
       "    <tr>\n",
       "      <th>3</th>\n",
       "      <td>35.0</td>\n",
       "      <td>3.0</td>\n",
       "      <td>2.0</td>\n",
       "    </tr>\n",
       "    <tr>\n",
       "      <th>4</th>\n",
       "      <td>NaN</td>\n",
       "      <td>NaN</td>\n",
       "      <td>NaN</td>\n",
       "    </tr>\n",
       "  </tbody>\n",
       "</table>\n",
       "</div>"
      ],
      "text/plain": [
       "    Age  No_of_pkg  travel_id\n",
       "0  25.0        2.0        1.0\n",
       "1  30.0        5.0        NaN\n",
       "2   NaN        NaN        1.0\n",
       "3  35.0        3.0        2.0\n",
       "4   NaN        NaN        NaN"
      ]
     },
     "execution_count": 12,
     "metadata": {},
     "output_type": "execute_result"
    }
   ],
   "source": [
    "df3 = df2.replace({\n",
    "    'Age': r'[A-Za-z]',  # Remover letras de A a Z e a a z na coluna 'Age'\n",
    "    'No_of_pkg': r'[A-Za-z]',  # Remover letras de A a Z e a a z na coluna 'No_of_pkg'\n",
    "    'Package': r'\\$',  # Remover o símbolo de dólar '$' na coluna 'Package'\n",
    "}, '', regex=True)\n",
    "\n",
    "# Exibir o DataFrame resultante\n",
    "df3\n"
   ]
  },
  {
   "cell_type": "markdown",
   "metadata": {},
   "source": [
    "### Mapeamento de uma lista para outra lista"
   ]
  },
  {
   "cell_type": "markdown",
   "metadata": {},
   "source": [
    "     Se o seu conjunto de dados contém dados que se repetem mais de uma vez ou você deseja alterar algum conjunto de string para number, então você tem que aplicar mapeamento de lista."
   ]
  },
  {
   "cell_type": "code",
   "execution_count": 13,
   "metadata": {},
   "outputs": [
    {
     "data": {
      "text/html": [
       "<div>\n",
       "<style scoped>\n",
       "    .dataframe tbody tr th:only-of-type {\n",
       "        vertical-align: middle;\n",
       "    }\n",
       "\n",
       "    .dataframe tbody tr th {\n",
       "        vertical-align: top;\n",
       "    }\n",
       "\n",
       "    .dataframe thead th {\n",
       "        text-align: right;\n",
       "    }\n",
       "</style>\n",
       "<table border=\"1\" class=\"dataframe\">\n",
       "  <thead>\n",
       "    <tr style=\"text-align: right;\">\n",
       "      <th></th>\n",
       "      <th>name</th>\n",
       "      <th>grades</th>\n",
       "    </tr>\n",
       "  </thead>\n",
       "  <tbody>\n",
       "    <tr>\n",
       "      <th>0</th>\n",
       "      <td>Shahid</td>\n",
       "      <td>poor</td>\n",
       "    </tr>\n",
       "    <tr>\n",
       "      <th>1</th>\n",
       "      <td>Adrika</td>\n",
       "      <td>excellent</td>\n",
       "    </tr>\n",
       "    <tr>\n",
       "      <th>2</th>\n",
       "      <td>Bikash</td>\n",
       "      <td>very good</td>\n",
       "    </tr>\n",
       "    <tr>\n",
       "      <th>3</th>\n",
       "      <td>Ashish</td>\n",
       "      <td>average</td>\n",
       "    </tr>\n",
       "    <tr>\n",
       "      <th>4</th>\n",
       "      <td>Ganesh</td>\n",
       "      <td>good</td>\n",
       "    </tr>\n",
       "    <tr>\n",
       "      <th>5</th>\n",
       "      <td>Zahid</td>\n",
       "      <td>very good</td>\n",
       "    </tr>\n",
       "    <tr>\n",
       "      <th>6</th>\n",
       "      <td>Mohan</td>\n",
       "      <td>outstanding</td>\n",
       "    </tr>\n",
       "    <tr>\n",
       "      <th>7</th>\n",
       "      <td>Sohan</td>\n",
       "      <td>poor</td>\n",
       "    </tr>\n",
       "  </tbody>\n",
       "</table>\n",
       "</div>"
      ],
      "text/plain": [
       "     name       grades\n",
       "0  Shahid         poor\n",
       "1  Adrika    excellent\n",
       "2  Bikash    very good\n",
       "3  Ashish      average\n",
       "4  Ganesh         good\n",
       "5   Zahid    very good\n",
       "6   Mohan  outstanding\n",
       "7   Sohan         poor"
      ]
     },
     "execution_count": 13,
     "metadata": {},
     "output_type": "execute_result"
    }
   ],
   "source": [
    "mydis={\n",
    "    \"name\":[\"Shahid\",\"Adrika\",\"Bikash\",\"Ashish\",\"Ganesh\",\"Zahid\",\"Mohan\",\"Sohan\"],\n",
    "    \"grades\":[\"poor\",\"excellent\",\"very good\",\"average\",\"good\",\"very good\",\"outstanding\",\"poor\"]\n",
    "      }\n",
    "df=pd.DataFrame(mydis)\n",
    "df"
   ]
  },
  {
   "cell_type": "code",
   "execution_count": 14,
   "metadata": {},
   "outputs": [
    {
     "name": "stderr",
     "output_type": "stream",
     "text": [
      "C:\\Users\\Pedro\\AppData\\Local\\Temp\\ipykernel_7472\\3912370809.py:1: FutureWarning: Downcasting behavior in `replace` is deprecated and will be removed in a future version. To retain the old behavior, explicitly call `result.infer_objects(copy=False)`. To opt-in to the future behavior, set `pd.set_option('future.no_silent_downcasting', True)`\n",
      "  df2=df.replace([\"poor\",\"average\",\"good\",\"very good\",\"excellent\",\"outstanding\"],[5,6,7,8,9,10])\n"
     ]
    },
    {
     "data": {
      "text/html": [
       "<div>\n",
       "<style scoped>\n",
       "    .dataframe tbody tr th:only-of-type {\n",
       "        vertical-align: middle;\n",
       "    }\n",
       "\n",
       "    .dataframe tbody tr th {\n",
       "        vertical-align: top;\n",
       "    }\n",
       "\n",
       "    .dataframe thead th {\n",
       "        text-align: right;\n",
       "    }\n",
       "</style>\n",
       "<table border=\"1\" class=\"dataframe\">\n",
       "  <thead>\n",
       "    <tr style=\"text-align: right;\">\n",
       "      <th></th>\n",
       "      <th>name</th>\n",
       "      <th>grades</th>\n",
       "    </tr>\n",
       "  </thead>\n",
       "  <tbody>\n",
       "    <tr>\n",
       "      <th>0</th>\n",
       "      <td>Shahid</td>\n",
       "      <td>5</td>\n",
       "    </tr>\n",
       "    <tr>\n",
       "      <th>1</th>\n",
       "      <td>Adrika</td>\n",
       "      <td>9</td>\n",
       "    </tr>\n",
       "    <tr>\n",
       "      <th>2</th>\n",
       "      <td>Bikash</td>\n",
       "      <td>8</td>\n",
       "    </tr>\n",
       "    <tr>\n",
       "      <th>3</th>\n",
       "      <td>Ashish</td>\n",
       "      <td>6</td>\n",
       "    </tr>\n",
       "    <tr>\n",
       "      <th>4</th>\n",
       "      <td>Ganesh</td>\n",
       "      <td>7</td>\n",
       "    </tr>\n",
       "    <tr>\n",
       "      <th>5</th>\n",
       "      <td>Zahid</td>\n",
       "      <td>8</td>\n",
       "    </tr>\n",
       "    <tr>\n",
       "      <th>6</th>\n",
       "      <td>Mohan</td>\n",
       "      <td>10</td>\n",
       "    </tr>\n",
       "    <tr>\n",
       "      <th>7</th>\n",
       "      <td>Sohan</td>\n",
       "      <td>5</td>\n",
       "    </tr>\n",
       "  </tbody>\n",
       "</table>\n",
       "</div>"
      ],
      "text/plain": [
       "     name  grades\n",
       "0  Shahid       5\n",
       "1  Adrika       9\n",
       "2  Bikash       8\n",
       "3  Ashish       6\n",
       "4  Ganesh       7\n",
       "5   Zahid       8\n",
       "6   Mohan      10\n",
       "7   Sohan       5"
      ]
     },
     "execution_count": 14,
     "metadata": {},
     "output_type": "execute_result"
    }
   ],
   "source": [
    "df2=df.replace([\"poor\",\"average\",\"good\",\"very good\",\"excellent\",\"outstanding\"],[5,6,7,8,9,10])\n",
    "df2"
   ]
  }
 ],
 "metadata": {
  "kernelspec": {
   "display_name": "venv",
   "language": "python",
   "name": "python3"
  },
  "language_info": {
   "codemirror_mode": {
    "name": "ipython",
    "version": 3
   },
   "file_extension": ".py",
   "mimetype": "text/x-python",
   "name": "python",
   "nbconvert_exporter": "python",
   "pygments_lexer": "ipython3",
   "version": "3.12.9"
  }
 },
 "nbformat": 4,
 "nbformat_minor": 2
}
